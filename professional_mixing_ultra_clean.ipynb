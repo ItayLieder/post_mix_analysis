{
 "cells": [
  {
   "cell_type": "markdown",
   "metadata": {},
   "source": [
    "# 🎛️ Professional Mixing System (Ultra Clean)\n",
    "\n",
    "**Advanced multi-channel mixing with AI analysis and professional processing:**\n",
    "- 🤖 AI-powered mix analysis and optimization\n",
    "- 🎚️ Professional channel strip processing\n",
    "- 🔄 Sidechain compression and frequency slotting\n",
    "- 📊 Reference mix matching capabilities\n",
    "- ⚡ Multiple mix configuration generation\n",
    "\n",
    "**Features:**\n",
    "- Manual balance control with group adjustments\n",
    "- Intelligent frequency conflict resolution\n",
    "- Professional dynamics processing\n",
    "- Automated stem generation"
   ]
  },
  {
   "cell_type": "markdown",
   "metadata": {},
   "source": [
    "## ⚙️ User Configuration\n",
    "**Edit these settings, then run all cells**"
   ]
  },
  {
   "cell_type": "code",
   "metadata": {
    "ExecuteTime": {
     "end_time": "2025-09-01T20:04:07.162377Z",
     "start_time": "2025-09-01T20:04:07.154093Z"
    }
   },
   "source": [
    "# ============================================================================\n",
    "# 🎛️ USER CONFIGURATION - MODIFY ALL YOUR SETTINGS HERE\n",
    "# ============================================================================\n",
    "\n",
    "# 📁 PATH SETTINGS\n",
    "CHANNEL_BASE_PATH = \"/Users/itay/Documents/post_mix_data/pre_mix_channels/combined_inst/\"\n",
    "\n",
    "# 🎯 REFERENCE MIX SETTINGS (Optional)\n",
    "REFERENCE_MIX_PATH = \"/Users/itay/Documents/post_mix_data/Reference_mix/mix/ITAY - CRASHING v.6 MIX ONLY.wav\"\n",
    "REFERENCE_STEMS = {\n",
    "    'drums': \"/Users/itay/Documents/post_mix_data/Reference_mix/stems/drums.wav\",\n",
    "    'bass': \"/Users/itay/Documents/post_mix_data/Reference_mix/stems/bass.wav\",\n",
    "    'vocals': \"/Users/itay/Documents/post_mix_data/Reference_mix/stems/vocals.wav\",\n",
    "    'music': \"/Users/itay/Documents/post_mix_data/Reference_mix/stems/music.wav\",\n",
    "}\n",
    "\n",
    "# 🎚️ MANUAL BALANCE CONTROL\n",
    "MANUAL_CHANNEL_BALANCE = {\n",
    "    # DRUMS\n",
    "    'drums.kick': 2.5,\n",
    "    'drums.snare': 2.5,\n",
    "    'drums.hihat': 1.0,\n",
    "    'drums.tom': 3.0,\n",
    "    'drums.cymbal': 1.0,\n",
    "    \n",
    "    # VOCALS\n",
    "    'vocals.lead_vocal1': 0.6,\n",
    "    'vocals.lead_vocal2': 0.6,\n",
    "    'vocals.lead_vocal3': 0.6,\n",
    "    \n",
    "    # BACKING VOCALS\n",
    "    'backvocals.backing_vocal': 0.5,\n",
    "    'backvocals.lead_vocal1': 0.5,\n",
    "    'backvocals.lead_vocal2': 0.5,\n",
    "    'backvocals.lead_vocal3': 0.5,\n",
    "    'backvocals.lead_vocal4': 1.0,\n",
    "    \n",
    "    # BASS\n",
    "    'bass.bass_guitar5': 0.5,\n",
    "    'bass.bass1': 0.2,\n",
    "    'bass.bass_guitar3': 0.7,\n",
    "    'bass.bass_synth2': 2.5,\n",
    "    'bass.bass_synth4': 1.0,\n",
    "    \n",
    "    # GUITARS\n",
    "    'guitars.electric_guitar2': 0.4,\n",
    "    'guitars.electric_guitar3': 0.1,\n",
    "    'guitars.electric_guitar4': 0.4,\n",
    "    'guitars.electric_guitar5': 0.4,\n",
    "    'guitars.electric_guitar6': 0.1,\n",
    "    'guitars.acoustic_guitar1': 0.8,\n",
    "    \n",
    "    # KEYS\n",
    "    'keys.bell3': 0.8,\n",
    "    'keys.clavinet1': 0.6,\n",
    "    'keys.piano2': 0.8,\n",
    "    'keys.piano4': 0.8,\n",
    "    \n",
    "    # SYNTHS\n",
    "    'synths.pad2': 0.8,\n",
    "    'synths.pad3': 0.5,\n",
    "    'synths.rythmic_synth1': 0.1,\n",
    "    \n",
    "    # FX\n",
    "    'fx.perc6': 1.2,\n",
    "    'fx.fx1': 0.8,\n",
    "    'fx.fx2': 0.9,\n",
    "    'fx.fx3': 0.7,\n",
    "    'fx.fx4': 0.8,\n",
    "    'fx.fx5': 0.6,\n",
    "}\n",
    "\n",
    "# 🎚️ GROUP ADJUSTMENTS (percentage change)\n",
    "GROUP_ADJUSTMENTS = {\n",
    "    'drums': -30,\n",
    "    'bass': -30,\n",
    "    'vocals': -40,\n",
    "    'guitars': 0,\n",
    "    'keys': -20,\n",
    "    'synths': -30,\n",
    "    'fx': -60,\n",
    "    'backvocals': -60,\n",
    "}\n",
    "\n",
    "# Additional global adjustment to everything except vocals\n",
    "GLOBAL_ADJUSTMENT_EXCEPT_VOCALS = -10\n",
    "\n",
    "# 🎛️ PROCESSING OPTIONS\n",
    "NUM_CONFIGURATIONS = 10  # 0 = single mix only, 1-20 = multiple variants\n",
    "USE_AI_ANALYSIS = True\n",
    "USE_REFERENCE_MATCHING = True\n",
    "USE_FIXED_ENGINE = True  # Use improved \"less is more\" engine\n",
    "CREATE_STEMS = True\n",
    "APPLY_MASTERING = True\n",
    "\n",
    "# 🎧 OUTPUT SETTINGS\n",
    "OUTPUT_BASE_DIR = \"/Users/itay/Documents/post_mix_data\"\n",
    "PROJECT_NAME = \"professional_mix\"\n",
    "\n",
    "print(\"✅ Configuration loaded!\")\n",
    "print(f\"📁 Channels: {CHANNEL_BASE_PATH}\")\n",
    "print(f\"🎯 Reference: {'Set' if REFERENCE_MIX_PATH else 'Not set'}\")\n",
    "print(f\"🔢 Configurations: {NUM_CONFIGURATIONS if NUM_CONFIGURATIONS > 0 else 'Single mix only'}\")\n",
    "print(f\"🤖 AI Analysis: {'Enabled' if USE_AI_ANALYSIS else 'Disabled'}\")"
   ],
   "outputs": [
    {
     "name": "stdout",
     "output_type": "stream",
     "text": [
      "✅ Configuration loaded!\n",
      "📁 Channels: /Users/itay/Documents/post_mix_data/pre_mix_channels/combined_inst/\n",
      "🎯 Reference: Set\n",
      "🔢 Configurations: 10\n",
      "🤖 AI Analysis: Enabled\n"
     ]
    }
   ],
   "execution_count": 1
  },
  {
   "cell_type": "markdown",
   "metadata": {},
   "source": [
    "## 📦 Load Dependencies"
   ]
  },
  {
   "cell_type": "code",
   "metadata": {
    "ExecuteTime": {
     "end_time": "2025-09-01T20:04:07.728533Z",
     "start_time": "2025-09-01T20:04:07.167105Z"
    }
   },
   "source": [
    "# Core imports\n",
    "import os\n",
    "import json\n",
    "import numpy as np\n",
    "import soundfile as sf\n",
    "from pathlib import Path\n",
    "from datetime import datetime\n",
    "import warnings\n",
    "warnings.filterwarnings('ignore')\n",
    "\n",
    "# Project modules\n",
    "from pro_mixing_engine_fixed import FixedProMixingSession\n",
    "from mix_intelligence import AutoMixer, MixAnalyzer\n",
    "from reference_matcher import ReferenceMatcher\n",
    "\n",
    "print(\"🎛️ Professional Mixing System Loaded!\")\n",
    "print(\"✅ All advanced processing capabilities available\")\n",
    "print(\"🚀 Ready for world-class mixing!\")"
   ],
   "outputs": [
    {
     "name": "stdout",
     "output_type": "stream",
     "text": [
      "DSP Primitives Layer loaded:\n",
      "- Gain/level: apply_gain_db, normalize_peak, normalize_lufs, measure_peak, measure_rms\n",
      "- Filters: highpass_filter, lowpass_filter, bandpass_filter, shelf_filter, peaking_eq, notch_filter, tilt_eq\n",
      "- Stereo: mid_side_encode, mid_side_decode, stereo_widener\n",
      "- Dynamics: compressor (soft‑knee), transient_shaper\n",
      "- Fades: fade_in, fade_out\n",
      "- K‑weighting/LUFS approx: k_weight, lufs_integrated_approx\n",
      "🎛️ Professional Mixing System Loaded!\n",
      "✅ All advanced processing capabilities available\n",
      "🚀 Ready for world-class mixing!\n"
     ]
    }
   ],
   "execution_count": 2
  },
  {
   "cell_type": "markdown",
   "metadata": {},
   "source": [
    "## 📁 Load Channels"
   ]
  },
  {
   "cell_type": "code",
   "metadata": {
    "ExecuteTime": {
     "end_time": "2025-09-01T20:04:07.739904Z",
     "start_time": "2025-09-01T20:04:07.734129Z"
    }
   },
   "source": [
    "def load_channels_pro(base_path: str) -> dict:\n",
    "    \"\"\"Load channels for professional mixing\"\"\"\n",
    "    channels = {}\n",
    "    base = Path(base_path)\n",
    "    \n",
    "    print(f\"🔍 Loading channels from: {base_path}\")\n",
    "    \n",
    "    if not base.exists():\n",
    "        print(f\"❌ Directory not found: {base_path}\")\n",
    "        return {}\n",
    "    \n",
    "    # Expected categories\n",
    "    categories = ['drums', 'bass', 'guitars', 'keys', 'vocals', 'backvocals', 'synths', 'strings', 'brass', 'percussion', 'fx']\n",
    "    \n",
    "    for category in categories:\n",
    "        category_path = base / category\n",
    "        if category_path.exists():\n",
    "            channels[category] = {}\n",
    "            audio_files = list(category_path.glob('*.wav'))\n",
    "            if audio_files:\n",
    "                print(f\"  ✅ {category}: {len(audio_files)} files loaded\")\n",
    "                for audio_file in audio_files:\n",
    "                    channel_name = audio_file.stem\n",
    "                    channels[category][channel_name] = str(audio_file)\n",
    "    \n",
    "    total_channels = sum(len(tracks) for tracks in channels.values())\n",
    "    print(f\"\\n🎚️ Total channels loaded: {total_channels}\")\n",
    "    print(\"✅ Ready for professional processing!\")\n",
    "    \n",
    "    return channels\n",
    "\n",
    "# Load channels from configured path\n",
    "channels = load_channels_pro(CHANNEL_BASE_PATH)"
   ],
   "outputs": [
    {
     "name": "stdout",
     "output_type": "stream",
     "text": [
      "🔍 Loading channels from: /Users/itay/Documents/post_mix_data/pre_mix_channels/combined_inst/\n",
      "  ✅ drums: 5 files loaded\n",
      "  ✅ bass: 5 files loaded\n",
      "  ✅ guitars: 6 files loaded\n",
      "  ✅ keys: 4 files loaded\n",
      "  ✅ vocals: 3 files loaded\n",
      "  ✅ backvocals: 5 files loaded\n",
      "  ✅ synths: 3 files loaded\n",
      "  ✅ fx: 6 files loaded\n",
      "\n",
      "🎚️ Total channels loaded: 37\n",
      "✅ Ready for professional processing!\n"
     ]
    }
   ],
   "execution_count": 3
  },
  {
   "cell_type": "markdown",
   "metadata": {},
   "source": [
    "## 🤖 AI Analysis & Mix Intelligence"
   ]
  },
  {
   "cell_type": "code",
   "metadata": {
    "ExecuteTime": {
     "end_time": "2025-09-01T20:06:28.486553Z",
     "start_time": "2025-09-01T20:04:07.751494Z"
    }
   },
   "source": [
    "# AI Analysis\n",
    "ai_recommendations = None\n",
    "\n",
    "if channels and USE_AI_ANALYSIS:\n",
    "    print(\"🤖 Loading channels for AI analysis...\")\n",
    "    \n",
    "    channel_audio = {}\n",
    "    for category, tracks in channels.items():\n",
    "        for name, path in tracks.items():\n",
    "            try:\n",
    "                audio, sr = sf.read(path)\n",
    "                channel_id = f\"{category}.{name}\"\n",
    "                channel_audio[channel_id] = audio\n",
    "            except Exception as e:\n",
    "                print(f\"⚠️ Could not load {name}: {e}\")\n",
    "    \n",
    "    print(f\"✅ {len(channel_audio)} channels loaded for analysis\")\n",
    "    \n",
    "    # Run AI analysis\n",
    "    auto_mixer = AutoMixer(sr=44100)\n",
    "    ai_recommendations = auto_mixer.auto_mix(channel_audio)\n",
    "    \n",
    "    print(\"\\n🎯 AI RECOMMENDATIONS:\")\n",
    "    print(\"=\" * 40)\n",
    "    \n",
    "    conflicts = ai_recommendations['conflicts_detected']\n",
    "    if conflicts:\n",
    "        print(f\"🔍 Frequency conflicts detected: {len(conflicts)}\")\n",
    "        for i, (conflict, data) in enumerate(conflicts.items()):\n",
    "            if i < 5:  # Show first 5 conflicts\n",
    "                print(f\"  • {conflict}: {data['severity']} conflict\")\n",
    "        if len(conflicts) > 5:\n",
    "            print(f\"  ... and {len(conflicts) - 5} more\")\n",
    "    \n",
    "    optimal_gains = ai_recommendations['optimal_gains']\n",
    "    print(f\"\\n📊 AI calculated optimal levels for {len(optimal_gains)} channels\")\n",
    "\n",
    "elif not USE_AI_ANALYSIS:\n",
    "    print(\"ℹ️ AI analysis disabled in configuration\")\n",
    "else:\n",
    "    print(\"❌ No channels loaded - skipping AI analysis\")"
   ],
   "outputs": [
    {
     "name": "stdout",
     "output_type": "stream",
     "text": [
      "🤖 Loading channels for AI analysis...\n",
      "✅ 37 channels loaded for analysis\n",
      "🤖 AI Auto-Mixing in progress...\n",
      "  Analyzing channels...\n",
      "  Detecting frequency conflicts...\n",
      "  Calculating optimal balance...\n",
      "  Generating processing recommendations...\n",
      "  Resolving frequency conflicts...\n",
      "\n",
      "🎯 AI RECOMMENDATIONS:\n",
      "========================================\n",
      "🔍 Frequency conflicts detected: 15\n",
      "  • drums.tom_vs_drums.kick: medium conflict\n",
      "  • drums.tom_vs_bass.bass_guitar5: medium conflict\n",
      "  • drums.tom_vs_bass.bass1: medium conflict\n",
      "  • drums.tom_vs_bass.bass_guitar3: medium conflict\n",
      "  • drums.tom_vs_bass.bass_synth4: high conflict\n",
      "  ... and 10 more\n",
      "\n",
      "📊 AI calculated optimal levels for 37 channels\n"
     ]
    }
   ],
   "execution_count": 4
  },
  {
   "cell_type": "markdown",
   "metadata": {},
   "source": [
    "## 🎛️ Create Professional Mix Session"
   ]
  },
  {
   "cell_type": "code",
   "metadata": {
    "ExecuteTime": {
     "end_time": "2025-09-01T20:06:35.084099Z",
     "start_time": "2025-09-01T20:06:28.554409Z"
    }
   },
   "source": [
    "if channels:\n",
    "    print(\"🎛️ Creating professional mixing session...\")\n",
    "    \n",
    "    # Create session with fixed engine\n",
    "    pro_session = FixedProMixingSession(\n",
    "        channels=channels,\n",
    "        sample_rate=44100\n",
    "    )\n",
    "    \n",
    "    print(f\"✅ Session created with {len(pro_session.channel_strips)} channels\")\n",
    "    \n",
    "    # Apply professional processing\n",
    "    print(\"\\n🔧 Configuring professional processing...\")\n",
    "    pro_session.apply_sidechain_compression()\n",
    "    print(\"  ✅ Sidechain compression configured\")\n",
    "    \n",
    "    # Apply frequency slotting\n",
    "    pro_session.apply_frequency_slotting()\n",
    "    \n",
    "    # Apply AI recommendations\n",
    "    if ai_recommendations:\n",
    "        print(\"\\n🤖 Applying AI recommendations...\")\n",
    "        \n",
    "        # Apply optimal gains (scaled for musicality)\n",
    "        for ch_id, strip in pro_session.channel_strips.items():\n",
    "            if ch_id in ai_recommendations['optimal_gains']:\n",
    "                ai_gain = ai_recommendations['optimal_gains'][ch_id]\n",
    "                # Scale down extreme gains\n",
    "                if ai_gain > 5:\n",
    "                    ai_gain = 2 + (ai_gain - 2) * 0.3\n",
    "                elif ai_gain < 0.2:\n",
    "                    ai_gain = 0.2 + (ai_gain - 0.2) * 0.5\n",
    "                \n",
    "                strip.gain *= ai_gain\n",
    "        \n",
    "        # Apply gentle EQ for conflicts\n",
    "        eq_solutions = ai_recommendations['eq_solutions']\n",
    "        for solution_name, solution in eq_solutions.items():\n",
    "            channel = solution['channel']\n",
    "            for ch_id, strip in pro_session.channel_strips.items():\n",
    "                if channel in ch_id:\n",
    "                    gain = solution['gain'] * 0.5  # Half the suggested amount\n",
    "                    if abs(gain) > 0.5:\n",
    "                        eq_band = {\n",
    "                            'freq': solution['freq'],\n",
    "                            'gain': gain,\n",
    "                            'q': solution['q'] * 1.2,\n",
    "                        }\n",
    "                        strip.eq_bands.append(eq_band)\n",
    "                    break\n",
    "        \n",
    "        print(\"  ✅ AI recommendations applied musically\")\n",
    "    \n",
    "    print(\"\\n🎵 Professional mixing session ready!\")\n",
    "\n",
    "else:\n",
    "    print(\"❌ Cannot create session - no channels loaded\")"
   ],
   "outputs": [
    {
     "name": "stdout",
     "output_type": "stream",
     "text": [
      "🎛️ Creating professional mixing session...\n",
      "🎵 Loading channels with musical processing...\n",
      "  ✓ drums.tom loaded\n",
      "  ✓ drums.hihat loaded\n",
      "  ✓ drums.kick loaded\n",
      "  ✓ drums.snare loaded\n",
      "  ✓ drums.cymbal loaded\n",
      "  ✓ bass.bass_guitar5 loaded\n",
      "  ✓ bass.bass1 loaded\n",
      "  ✓ bass.bass_guitar3 loaded\n",
      "  ✓ bass.bass_synth2 loaded\n",
      "  ✓ bass.bass_synth4 loaded\n",
      "  ✓ guitars.electric_guitar4 loaded\n",
      "  ✓ guitars.electric_guitar5 loaded\n",
      "  ✓ guitars.electric_guitar6 loaded\n",
      "  ✓ guitars.electric_guitar2 loaded\n",
      "  ✓ guitars.acoustic_guitar1 loaded\n",
      "  ✓ guitars.electric_guitar3 loaded\n",
      "  ✓ keys.bell3 loaded\n",
      "  ✓ keys.clavinet1 loaded\n",
      "  ✓ keys.piano4 loaded\n",
      "  ✓ keys.piano2 loaded\n",
      "  ✓ vocals.lead_vocal3 loaded\n",
      "  ✓ vocals.lead_vocal2 loaded\n",
      "  ✓ vocals.lead_vocal1 loaded\n",
      "  ✓ backvocals.lead_vocal3 loaded\n",
      "  ✓ backvocals.lead_vocal2 loaded\n",
      "  ✓ backvocals.backing_vocal loaded\n",
      "  ✓ backvocals.lead_vocal1 loaded\n",
      "  ✓ backvocals.lead_vocal4 loaded\n",
      "  ✓ synths.rythmic_synth1 loaded\n",
      "  ✓ synths.pad3 loaded\n",
      "  ✓ synths.pad2 loaded\n",
      "  ✓ fx.perc6 loaded\n",
      "  ✓ fx.fx1 loaded\n",
      "  ✓ fx.fx2 loaded\n",
      "  ✓ fx.fx3 loaded\n",
      "  ✓ fx.fx4 loaded\n",
      "  ✓ fx.fx5 loaded\n",
      "✅ Session created with 37 channels\n",
      "\n",
      "🔧 Configuring professional processing...\n",
      "🔗 Setting up gentle sidechain (kick → bass)\n",
      "  ✅ Sidechain compression configured\n",
      "\n",
      "🎯 APPLYING MODERN MIX CLARITY\n",
      "==================================================\n",
      "🎵 Creating clean, impressive production sound...\n",
      "  • drums.kick: Owns 50-80Hz (fundamental)\n",
      "  • bass.bass_guitar5: Owns 80-200Hz (body)\n",
      "  • bass.bass1: Owns 80-200Hz (body)\n",
      "  • bass.bass_guitar3: Owns 80-200Hz (body)\n",
      "  • bass.bass_synth2: Owns 80-200Hz (body)\n",
      "  • bass.bass_synth4: Owns 80-200Hz (body)\n",
      "  • bass.bass_guitar5: Carved around vocals\n",
      "  • bass.bass_guitar3: Carved around vocals\n",
      "  • guitars.electric_guitar4: Carved around vocals\n",
      "  • guitars.electric_guitar5: Carved around vocals\n",
      "  • guitars.electric_guitar6: Carved around vocals\n",
      "  • guitars.electric_guitar2: Carved around vocals\n",
      "  • guitars.acoustic_guitar1: Carved around vocals\n",
      "  • guitars.electric_guitar3: Carved around vocals\n",
      "  • keys.bell3: Sits around vocals\n",
      "  • keys.clavinet1: Sits around vocals\n",
      "  • keys.piano4: Sits around vocals\n",
      "  • keys.piano2: Sits around vocals\n",
      "  • vocals.lead_vocal3: Modern vocal clarity\n",
      "  • vocals.lead_vocal2: Modern vocal clarity\n",
      "  • vocals.lead_vocal1: Modern vocal clarity\n",
      "  • backvocals.lead_vocal3: Modern vocal clarity\n",
      "  • backvocals.lead_vocal2: Modern vocal clarity\n",
      "  • backvocals.lead_vocal1: Modern vocal clarity\n",
      "  • backvocals.lead_vocal4: Modern vocal clarity\n",
      "  • drums.hihat: Modern hi-end sparkle\n",
      "  • drums.snare: Owns 200Hz + 2kHz\n",
      "  • drums.cymbal: Modern hi-end sparkle\n",
      "\n",
      "✅ Frequency slotting complete - no more masking!\n",
      "\n",
      "🤖 Applying AI recommendations...\n",
      "  ✅ AI recommendations applied musically\n",
      "\n",
      "🎵 Professional mixing session ready!\n"
     ]
    }
   ],
   "execution_count": 5
  },
  {
   "cell_type": "markdown",
   "metadata": {},
   "source": [
    "## 🎯 Reference Mix Matching (Optional)"
   ]
  },
  {
   "cell_type": "code",
   "metadata": {
    "ExecuteTime": {
     "end_time": "2025-09-01T20:06:35.115487Z",
     "start_time": "2025-09-01T20:06:35.110359Z"
    }
   },
   "source": [
    "if USE_REFERENCE_MATCHING and REFERENCE_MIX_PATH and 'pro_session' in locals():\n",
    "    print(\"🎯 REFERENCE MIX ANALYSIS & MATCHING\")\n",
    "    print(\"=\" * 50)\n",
    "    \n",
    "    # Check if stems are provided\n",
    "    stem_paths = {k: v for k, v in REFERENCE_STEMS.items() if v and os.path.exists(v)}\n",
    "    \n",
    "    if stem_paths:\n",
    "        print(f\"🎛️ Using {len(stem_paths)} reference stems for precise matching!\")\n",
    "    else:\n",
    "        print(\"🎵 Using full mix analysis\")\n",
    "    \n",
    "    try:\n",
    "        # Initialize reference matcher\n",
    "        matcher = ReferenceMatcher()\n",
    "        \n",
    "        # Analyze reference and match our mix to it\n",
    "        matching_results = matcher.analyze_and_match(\n",
    "            REFERENCE_MIX_PATH, \n",
    "            pro_session,\n",
    "            stem_paths if stem_paths else None\n",
    "        )\n",
    "        \n",
    "        print(f\"\\n✅ REFERENCE ANALYSIS COMPLETE!\")\n",
    "        \n",
    "        # Show reference characteristics\n",
    "        ref_analysis = matching_results['reference_analysis']\n",
    "        print(f\"\\n📈 REFERENCE MIX CHARACTERISTICS:\")\n",
    "        print(f\"  • Loudness: {ref_analysis.loudness_lufs:.1f} LUFS\")\n",
    "        print(f\"  • Dynamic Range: {ref_analysis.dynamic_range:.1f} dB\") \n",
    "        print(f\"  • Stereo Width: {ref_analysis.stereo_width:.2f}\")\n",
    "        print(f\"  • Punch Factor: {ref_analysis.punch_factor:.2f}\")\n",
    "        \n",
    "        print(f\"\\n🎛️ Mix adjusted to match reference characteristics\")\n",
    "        \n",
    "    except FileNotFoundError:\n",
    "        print(f\"❌ Reference file not found: {REFERENCE_MIX_PATH}\")\n",
    "        \n",
    "    except Exception as e:\n",
    "        print(f\"⚠️ Reference analysis failed: {e}\")\n",
    "        print(\"   Continuing without reference matching...\")\n",
    "\n",
    "elif USE_REFERENCE_MATCHING and not REFERENCE_MIX_PATH:\n",
    "    print(\"ℹ️ Reference matching enabled but no path provided\")\n",
    "    \n",
    "else:\n",
    "    print(\"ℹ️ Reference matching disabled in configuration\")"
   ],
   "outputs": [
    {
     "name": "stdout",
     "output_type": "stream",
     "text": [
      "🎯 REFERENCE MIX ANALYSIS & MATCHING\n",
      "==================================================\n",
      "🎛️ Using 4 reference stems for precise matching!\n",
      "🎯 REFERENCE MATCHING SYSTEM\n",
      "==================================================\n",
      "⚠️ Reference analysis failed: 'ReferenceMixAnalyzer' object has no attribute 'analyze_reference'\n",
      "   Continuing without reference matching...\n"
     ]
    }
   ],
   "execution_count": 6
  },
  {
   "cell_type": "markdown",
   "metadata": {},
   "source": [
    "## 🎚️ Apply Manual Balance Control"
   ]
  },
  {
   "cell_type": "code",
   "metadata": {
    "ExecuteTime": {
     "end_time": "2025-09-01T20:06:35.140626Z",
     "start_time": "2025-09-01T20:06:35.134227Z"
    }
   },
   "source": [
    "if 'pro_session' in locals():\n",
    "    print(\"🎚️ APPLYING MANUAL BALANCE CONTROL\")\n",
    "    print(\"=\" * 40)\n",
    "    \n",
    "    # Helper function for percentage adjustments\n",
    "    def apply_percentage_adjustment(overrides, percent, group=None):\n",
    "        \"\"\"Apply percentage change to a group\"\"\"\n",
    "        if percent == 0:\n",
    "            return overrides\n",
    "        \n",
    "        factor = 1 + percent / 100.0\n",
    "        for channel, vol in overrides.items():\n",
    "            prefix = channel.split('.')[0]\n",
    "            if group and prefix == group:\n",
    "                overrides[channel] = vol * factor\n",
    "        return overrides\n",
    "    \n",
    "    # Start with configured balance\n",
    "    manual_overrides = MANUAL_CHANNEL_BALANCE.copy()\n",
    "    \n",
    "    # Apply group adjustments\n",
    "    for group, percent in GROUP_ADJUSTMENTS.items():\n",
    "        if percent != 0:\n",
    "            manual_overrides = apply_percentage_adjustment(manual_overrides, percent, group)\n",
    "            print(f\"  • {group}: {percent:+d}% adjustment applied\")\n",
    "    \n",
    "    # Apply global adjustment (except vocals)\n",
    "    if GLOBAL_ADJUSTMENT_EXCEPT_VOCALS != 0:\n",
    "        for channel, vol in manual_overrides.items():\n",
    "            if 'vocal' not in channel.lower():\n",
    "                manual_overrides[channel] = vol * (1 + GLOBAL_ADJUSTMENT_EXCEPT_VOCALS / 100.0)\n",
    "        print(f\"  • Global (except vocals): {GLOBAL_ADJUSTMENT_EXCEPT_VOCALS:+d}% adjustment\")\n",
    "    \n",
    "    # Apply to session\n",
    "    applied_count = 0\n",
    "    for ch_id, strip in pro_session.channel_strips.items():\n",
    "        if ch_id in manual_overrides:\n",
    "            manual_gain = manual_overrides[ch_id]\n",
    "            strip.gain = manual_gain\n",
    "            applied_count += 1\n",
    "    \n",
    "    print(f\"\\n✅ Applied balance to {applied_count} channels\")\n",
    "    \n",
    "    # Show summary of extremes\n",
    "    very_loud = [ch for ch, gain in manual_overrides.items() if gain > 2.5]\n",
    "    very_quiet = [ch for ch, gain in manual_overrides.items() if gain < 0.3]\n",
    "    \n",
    "    if very_loud:\n",
    "        print(f\"📢 Boosted channels: {', '.join(very_loud)}\")\n",
    "    if very_quiet:\n",
    "        print(f\"🔇 Reduced channels: {', '.join(very_quiet)}\")\n",
    "\n",
    "else:\n",
    "    print(\"❌ No professional session available\")"
   ],
   "outputs": [
    {
     "name": "stdout",
     "output_type": "stream",
     "text": [
      "🎚️ APPLYING MANUAL BALANCE CONTROL\n",
      "========================================\n",
      "  • drums: -30% adjustment applied\n",
      "  • bass: -30% adjustment applied\n",
      "  • vocals: -40% adjustment applied\n",
      "  • keys: -20% adjustment applied\n",
      "  • synths: -30% adjustment applied\n",
      "  • fx: -60% adjustment applied\n",
      "  • backvocals: -60% adjustment applied\n",
      "  • Global (except vocals): -10% adjustment\n",
      "\n",
      "✅ Applied balance to 37 channels\n",
      "🔇 Reduced channels: backvocals.backing_vocal, backvocals.lead_vocal1, backvocals.lead_vocal2, backvocals.lead_vocal3, bass.bass1, guitars.electric_guitar3, guitars.electric_guitar6, synths.rythmic_synth1, fx.fx1, fx.fx3, fx.fx4, fx.fx5\n"
     ]
    }
   ],
   "execution_count": 7
  },
  {
   "cell_type": "markdown",
   "metadata": {},
   "source": [
    "## 🚀 Process Professional Mix"
   ]
  },
  {
   "cell_type": "code",
   "metadata": {
    "ExecuteTime": {
     "end_time": "2025-09-01T20:07:24.206812Z",
     "start_time": "2025-09-01T20:06:35.150164Z"
    }
   },
   "source": "if 'pro_session' in locals():\n    # Create output directory\n    timestamp = datetime.now().strftime(\"%Y%m%d_%H%M%S\")\n    \n    if NUM_CONFIGURATIONS == 0:\n        # Single mix\n        output_dir = os.path.join(OUTPUT_BASE_DIR, f\"professional_mixes/mix_{timestamp}\")\n        print(f\"🎛️ PROCESSING SINGLE PROFESSIONAL MIX\")\n        print(\"=\" * 50)\n        \n    else:\n        # Multiple configurations\n        base_output_dir = os.path.join(OUTPUT_BASE_DIR, f\"professional_mixes/{NUM_CONFIGURATIONS}_configurations_{timestamp}\")\n        print(f\"🎛️ PROCESSING {NUM_CONFIGURATIONS} MIX CONFIGURATIONS\")\n        print(\"=\" * 50)\n    \n    print(f\"📁 Output: {output_dir if NUM_CONFIGURATIONS == 0 else base_output_dir}\")\n    print(\"\\\\n🔄 Processing with professional algorithms...\")\n    print(\"  • Gentle sidechain compression (kick → bass)\")\n    print(\"  • Musical parallel compression on drums\")\n    print(\"  • Minimal saturation for warmth\")\n    print(\"  • Natural multiband processing\")\n    print(\"  • Transparent mastering chain\")\n    print(\"\\\\n⏳ This may take a few minutes...\")\n    \n    try:\n        if NUM_CONFIGURATIONS == 0:\n            # Process single mix\n            pro_results = pro_session.process_mix(output_dir)\n            \n            print(\"\\\\n\" + \"=\" * 50)\n            print(\"🏆 PROFESSIONAL MIX COMPLETE!\")\n            print(\"=\" * 50)\n            print(f\"📊 FINAL RESULTS:\")\n            print(f\"  • Peak Level: {pro_results['peak_db']:.1f} dBFS\")\n            print(f\"  • RMS Level: {pro_results['rms_db']:.1f} dBFS\")\n            print(f\"  • Processing Time: {pro_results['time']:.1f} seconds\")\n            print(f\"  • Output File: {pro_results['output_file']}\")\n            \n            # Analyze final mix\n            print(\"\\\\n🔍 Analyzing final mix quality...\")\n            final_mix, sr = sf.read(pro_results['output_file'])\n            analyzer = MixAnalyzer(sr)\n            analysis = analyzer.analyze_full_mix(final_mix)\n            \n            print(\"\\\\n📈 MIX ANALYSIS:\")\n            print(\"-\" * 30)\n            print(f\"  LUFS Loudness: {analysis.loudness_lufs:.1f} (target: -14 LUFS)\")\n            print(f\"  Dynamic Range: {analysis.dynamic_range:.1f} dB\")\n            print(f\"  Stereo Width: {analysis.stereo_width:.2f}\")\n            print(f\"  Phase Correlation: {analysis.phase_correlation:.3f}\")\n            \n            if analysis.issues:\n                print(\"\\\\n⚠️ POTENTIAL ISSUES:\")\n                for issue in analysis.issues:\n                    print(f\"  • {issue}\")\n            else:\n                print(\"\\\\n✅ No significant issues detected!\")\n                \n        else:\n            # Process multiple configurations with meaningful names\n            if hasattr(pro_session, '_get_mix_configurations'):\n                # Get available configurations\n                all_configs = pro_session._get_mix_configurations()\n                config_list = list(all_configs.items())\n                \n                # Select requested number\n                actual_num = min(NUM_CONFIGURATIONS, len(config_list))\n                selected_configs = dict(config_list[:actual_num])\n                \n                print(f\"📋 Processing {actual_num} configuration(s)\")\n                print(f\"⏳ Estimated time: {actual_num * 30} seconds\")\n                \n                # Process each configuration\n                for i, (config_name, config_data) in enumerate(selected_configs.items(), 1):\n                    print(f\"\\\\n[{i}/{actual_num}] {config_name}\")\n                    print(f\"   {config_data['description']}\")\n                    \n                    config_dir = os.path.join(base_output_dir, f\"{i:02d}_{config_name}\")\n                    \n                    try:\n                        # Apply configuration\n                        pro_session.apply_mix_configuration(config_name)\n                        \n                        # Process mix\n                        result = pro_session.process_mix(config_dir)\n                        print(f\"  ✅ Complete\")\n                        \n                    except Exception as e:\n                        print(f\"  ❌ Failed: {e}\")\n                \n                print(f\"\\\\n✅ All configurations saved in: {base_output_dir}\")\n                \n            else:\n                # Fallback to generic variations\n                actual_num = min(NUM_CONFIGURATIONS, 10)\n                print(f\"📋 Processing {actual_num} variation(s)\")\n                \n                for i in range(1, actual_num + 1):\n                    print(f\"\\\\n[{i}/{actual_num}] Processing variation {i}\")\n                    \n                    config_dir = os.path.join(base_output_dir, f\"variation_{i:02d}\")\n                    \n                    try:\n                        result = pro_session.process_mix(config_dir)\n                        print(f\"  ✅ Complete\")\n                    except Exception as e:\n                        print(f\"  ❌ Failed: {e}\")\n                \n                print(f\"\\\\n✅ All variations saved in: {base_output_dir}\")\n        \n        print(\"\\\\n\" + \"=\" * 50)\n        print(\"🎉 PROFESSIONAL MIX READY!\")\n        print(\"🎧 Your mix has been processed with professional algorithms\")\n        print(\"✨ Enjoy your professional-quality mix!\")\n        print(\"=\" * 50)\n        \n    except Exception as e:\n        print(f\"\\\\n❌ Error during mixing: {e}\")\n        import traceback\n        traceback.print_exc()\n\nelse:\n    print(\"❌ No professional session available - please run previous cells\")",
   "outputs": [
    {
     "name": "stdout",
     "output_type": "stream",
     "text": [
      "🎛️ PROCESSING 10 MIX CONFIGURATIONS\n",
      "==================================================\n",
      "📁 Output: /Users/itay/Documents/post_mix_data/professional_mixes/10_configurations_20250901_230635\n",
      "\\n🔄 Processing with professional algorithms...\n",
      "  • Gentle sidechain compression (kick → bass)\n",
      "  • Musical parallel compression on drums\n",
      "  • Minimal saturation for warmth\n",
      "  • Natural multiband processing\n",
      "  • Transparent mastering chain\n",
      "\\n⏳ This may take a few minutes...\n",
      "📋 Processing 10 configuration(s)\n",
      "⏳ Estimated time: 300 seconds\n",
      "\\n[1/10] Standard_Mix\n",
      "   Balanced mix with moderate processing\n",
      "🎛️ Applying configuration: Standard_Mix\n",
      "   Balanced mix with moderate processing\n",
      "🎚️ Processing musical mix...\n",
      "  Processing drums/tom...\n",
      "  Processing drums/hihat...\n",
      "  Processing drums/kick...\n",
      "    🔒 Modern production limiting: kick\n",
      "  Processing drums/snare...\n"
     ]
    },
    {
     "ename": "KeyboardInterrupt",
     "evalue": "",
     "output_type": "error",
     "traceback": [
      "\u001B[0;31m---------------------------------------------------------------------------\u001B[0m",
      "\u001B[0;31mKeyboardInterrupt\u001B[0m                         Traceback (most recent call last)",
      "Cell \u001B[0;32mIn[8], line 86\u001B[0m\n\u001B[1;32m     83\u001B[0m     pro_session\u001B[38;5;241m.\u001B[39mapply_mix_configuration(config_name)\n\u001B[1;32m     85\u001B[0m     \u001B[38;5;66;03m# Process mix\u001B[39;00m\n\u001B[0;32m---> 86\u001B[0m     result \u001B[38;5;241m=\u001B[39m \u001B[43mpro_session\u001B[49m\u001B[38;5;241;43m.\u001B[39;49m\u001B[43mprocess_mix\u001B[49m\u001B[43m(\u001B[49m\u001B[43mconfig_dir\u001B[49m\u001B[43m)\u001B[49m\n\u001B[1;32m     87\u001B[0m     \u001B[38;5;28mprint\u001B[39m(\u001B[38;5;124mf\u001B[39m\u001B[38;5;124m\"\u001B[39m\u001B[38;5;124m  ✅ Complete\u001B[39m\u001B[38;5;124m\"\u001B[39m)\n\u001B[1;32m     89\u001B[0m \u001B[38;5;28;01mexcept\u001B[39;00m \u001B[38;5;167;01mException\u001B[39;00m \u001B[38;5;28;01mas\u001B[39;00m e:\n",
      "File \u001B[0;32m~/Documents/GitHub/post_mix_analysis/pro_mixing_engine_fixed.py:425\u001B[0m, in \u001B[0;36mFixedProMixingSession.process_mix\u001B[0;34m(self, output_dir)\u001B[0m\n\u001B[1;32m    423\u001B[0m \u001B[38;5;28;01mfor\u001B[39;00m ch_id, strip \u001B[38;5;129;01min\u001B[39;00m \u001B[38;5;28mself\u001B[39m\u001B[38;5;241m.\u001B[39mchannel_strips\u001B[38;5;241m.\u001B[39mitems():\n\u001B[1;32m    424\u001B[0m     \u001B[38;5;28mprint\u001B[39m(\u001B[38;5;124mf\u001B[39m\u001B[38;5;124m\"\u001B[39m\u001B[38;5;124m  Processing \u001B[39m\u001B[38;5;132;01m{\u001B[39;00mstrip\u001B[38;5;241m.\u001B[39mcategory\u001B[38;5;132;01m}\u001B[39;00m\u001B[38;5;124m/\u001B[39m\u001B[38;5;132;01m{\u001B[39;00mstrip\u001B[38;5;241m.\u001B[39mname\u001B[38;5;132;01m}\u001B[39;00m\u001B[38;5;124m...\u001B[39m\u001B[38;5;124m\"\u001B[39m)\n\u001B[0;32m--> 425\u001B[0m     processed \u001B[38;5;241m=\u001B[39m \u001B[43mstrip\u001B[49m\u001B[38;5;241;43m.\u001B[39;49m\u001B[43mprocess\u001B[49m\u001B[43m(\u001B[49m\u001B[43m)\u001B[49m\n\u001B[1;32m    426\u001B[0m     processed_channels[ch_id] \u001B[38;5;241m=\u001B[39m processed\n\u001B[1;32m    428\u001B[0m \u001B[38;5;66;03m# Group into buses (just for organization, minimal processing)\u001B[39;00m\n",
      "File \u001B[0;32m~/Documents/GitHub/post_mix_analysis/pro_mixing_engine_fixed.py:89\u001B[0m, in \u001B[0;36mSimpleProChannel.process\u001B[0;34m(self)\u001B[0m\n\u001B[1;32m     87\u001B[0m \u001B[38;5;66;03m# 2. Gentle compression if needed\u001B[39;00m\n\u001B[1;32m     88\u001B[0m \u001B[38;5;28;01mif\u001B[39;00m \u001B[38;5;28mself\u001B[39m\u001B[38;5;241m.\u001B[39mcomp_enabled \u001B[38;5;129;01mand\u001B[39;00m \u001B[38;5;28mself\u001B[39m\u001B[38;5;241m.\u001B[39mcomp_ratio \u001B[38;5;241m<\u001B[39m\u001B[38;5;241m=\u001B[39m \u001B[38;5;241m4\u001B[39m:\n\u001B[0;32m---> 89\u001B[0m     processed \u001B[38;5;241m=\u001B[39m \u001B[43mcompressor\u001B[49m\u001B[43m(\u001B[49m\n\u001B[1;32m     90\u001B[0m \u001B[43m        \u001B[49m\u001B[43mprocessed\u001B[49m\u001B[43m,\u001B[49m\u001B[43m \u001B[49m\u001B[38;5;28;43mself\u001B[39;49m\u001B[38;5;241;43m.\u001B[39;49m\u001B[43msample_rate\u001B[49m\u001B[43m,\u001B[49m\n\u001B[1;32m     91\u001B[0m \u001B[43m        \u001B[49m\u001B[43mthreshold_db\u001B[49m\u001B[38;5;241;43m=\u001B[39;49m\u001B[38;5;28;43mself\u001B[39;49m\u001B[38;5;241;43m.\u001B[39;49m\u001B[43mcomp_threshold\u001B[49m\u001B[43m,\u001B[49m\n\u001B[1;32m     92\u001B[0m \u001B[43m        \u001B[49m\u001B[43mratio\u001B[49m\u001B[38;5;241;43m=\u001B[39;49m\u001B[38;5;28;43mself\u001B[39;49m\u001B[38;5;241;43m.\u001B[39;49m\u001B[43mcomp_ratio\u001B[49m\u001B[43m,\u001B[49m\n\u001B[1;32m     93\u001B[0m \u001B[43m        \u001B[49m\u001B[43mattack_ms\u001B[49m\u001B[38;5;241;43m=\u001B[39;49m\u001B[38;5;28;43mself\u001B[39;49m\u001B[38;5;241;43m.\u001B[39;49m\u001B[43mcomp_attack\u001B[49m\u001B[43m,\u001B[49m\n\u001B[1;32m     94\u001B[0m \u001B[43m        \u001B[49m\u001B[43mrelease_ms\u001B[49m\u001B[38;5;241;43m=\u001B[39;49m\u001B[38;5;28;43mself\u001B[39;49m\u001B[38;5;241;43m.\u001B[39;49m\u001B[43mcomp_release\u001B[49m\u001B[43m,\u001B[49m\n\u001B[1;32m     95\u001B[0m \u001B[43m        \u001B[49m\u001B[43mknee_db\u001B[49m\u001B[38;5;241;43m=\u001B[39;49m\u001B[38;5;241;43m2.0\u001B[39;49m\u001B[43m  \u001B[49m\u001B[38;5;66;43;03m# Always soft knee for musicality\u001B[39;49;00m\n\u001B[1;32m     96\u001B[0m \u001B[43m    \u001B[49m\u001B[43m)\u001B[49m\n\u001B[1;32m     98\u001B[0m \u001B[38;5;66;03m# 3. Very subtle saturation\u001B[39;00m\n\u001B[1;32m     99\u001B[0m \u001B[38;5;28;01mif\u001B[39;00m \u001B[38;5;28mself\u001B[39m\u001B[38;5;241m.\u001B[39msaturation_enabled \u001B[38;5;129;01mand\u001B[39;00m \u001B[38;5;28mself\u001B[39m\u001B[38;5;241m.\u001B[39msaturation_amount \u001B[38;5;241m<\u001B[39m \u001B[38;5;241m0.5\u001B[39m:\n",
      "File \u001B[0;32m~/Documents/GitHub/post_mix_analysis/dsp_premitives.py:271\u001B[0m, in \u001B[0;36mcompressor\u001B[0;34m(audio, sr, threshold_db, ratio, attack_ms, release_ms, makeup_db, knee_db, link_stereo)\u001B[0m\n\u001B[1;32m    269\u001B[0m M \u001B[38;5;241m=\u001B[39m _mono(x) \u001B[38;5;28;01mif\u001B[39;00m link_stereo \u001B[38;5;28;01melse\u001B[39;00m \u001B[38;5;28;01mNone\u001B[39;00m\n\u001B[1;32m    270\u001B[0m \u001B[38;5;28;01mif\u001B[39;00m link_stereo:\n\u001B[0;32m--> 271\u001B[0m     env \u001B[38;5;241m=\u001B[39m \u001B[43m_envelope_detector\u001B[49m\u001B[43m(\u001B[49m\u001B[43mM\u001B[49m\u001B[43m,\u001B[49m\u001B[43m \u001B[49m\u001B[43msr\u001B[49m\u001B[43m,\u001B[49m\u001B[43m \u001B[49m\u001B[43mattack_ms\u001B[49m\u001B[43m,\u001B[49m\u001B[43m \u001B[49m\u001B[43mrelease_ms\u001B[49m\u001B[43m)\u001B[49m\n\u001B[1;32m    272\u001B[0m \u001B[38;5;28;01melse\u001B[39;00m:\n\u001B[1;32m    273\u001B[0m     envL \u001B[38;5;241m=\u001B[39m _envelope_detector(x[:,\u001B[38;5;241m0\u001B[39m], sr, attack_ms, release_ms)\n",
      "File \u001B[0;32m~/Documents/GitHub/post_mix_analysis/dsp_premitives.py:257\u001B[0m, in \u001B[0;36m_envelope_detector\u001B[0;34m(mono, sr, attack_ms, release_ms)\u001B[0m\n\u001B[1;32m    255\u001B[0m     \u001B[38;5;28;01melse\u001B[39;00m:\n\u001B[1;32m    256\u001B[0m         prev \u001B[38;5;241m=\u001B[39m a_r\u001B[38;5;241m*\u001B[39mprev \u001B[38;5;241m+\u001B[39m (\u001B[38;5;241m1\u001B[39m \u001B[38;5;241m-\u001B[39m a_r)\u001B[38;5;241m*\u001B[39mv\n\u001B[0;32m--> 257\u001B[0m     env[i] \u001B[38;5;241m=\u001B[39m prev\n\u001B[1;32m    258\u001B[0m \u001B[38;5;28;01mreturn\u001B[39;00m env\n",
      "\u001B[0;31mKeyboardInterrupt\u001B[0m: "
     ]
    }
   ],
   "execution_count": 8
  },
  {
   "cell_type": "markdown",
   "metadata": {},
   "source": [
    "## 🎉 Summary"
   ]
  },
  {
   "cell_type": "code",
   "metadata": {},
   "source": [
    "# Final summary\n",
    "print(\"=\" * 60)\n",
    "print(\"🎉 PROFESSIONAL MIXING COMPLETE!\")\n",
    "print(\"=\" * 60)\n",
    "\n",
    "if 'pro_results' in locals():\n",
    "    print(f\"📁 Output: {os.path.dirname(pro_results['output_file'])}\")\n",
    "    \n",
    "    if NUM_CONFIGURATIONS == 0:\n",
    "        print(f\"🎵 Single professional mix created\")\n",
    "        print(f\"   File: {os.path.basename(pro_results['output_file'])}\")\n",
    "    else:\n",
    "        print(f\"🎛️ {NUM_CONFIGURATIONS} mix configurations created\")\n",
    "        \n",
    "    if CREATE_STEMS:\n",
    "        print(f\"🎚️ Individual stems included\")\n",
    "        \n",
    "elif NUM_CONFIGURATIONS > 0 and 'base_output_dir' in locals():\n",
    "    print(f\"📁 Output: {base_output_dir}\")\n",
    "    print(f\"🎛️ {NUM_CONFIGURATIONS} mix configurations created\")\n",
    "    \n",
    "print()\n",
    "print(\"✨ Features applied:\")\n",
    "if USE_AI_ANALYSIS:\n",
    "    print(\"  • AI-powered mix optimization\")\n",
    "if USE_REFERENCE_MATCHING:\n",
    "    print(\"  • Reference mix matching\")\n",
    "print(\"  • Professional channel strip processing\")\n",
    "print(\"  • Intelligent frequency slotting\")\n",
    "print(\"  • Manual balance control\")\n",
    "if APPLY_MASTERING:\n",
    "    print(\"  • Professional mastering chain\")\n",
    "\n",
    "print()\n",
    "print(\"🎧 Ready for listening!\")"
   ],
   "outputs": [],
   "execution_count": null
  }
 ],
 "metadata": {
  "kernelspec": {
   "display_name": "Python 3",
   "language": "python",
   "name": "python3"
  },
  "language_info": {
   "codemirror_mode": {
    "name": "ipython",
    "version": 3
   },
   "file_extension": ".py",
   "mimetype": "text/x-python",
   "name": "python",
   "nbconvert_exporter": "python",
   "pygments_lexer": "ipython3",
   "version": "3.8.5"
  }
 },
 "nbformat": 4,
 "nbformat_minor": 4
}
