{
 "cells": [
  {
   "cell_type": "markdown",
   "metadata": {},
   "source": [
    "# Post-Mix Analysis Pipeline - Cleaned Up Version\n",
    "\n",
    "This notebook provides a streamlined end-to-end audio post-production pipeline:\n",
    "1. Audio import and analysis\n",
    "2. Pre-mastering preparation \n",
    "3. Mastering with different styles\n",
    "4. Streaming platform simulation\n",
    "5. Comparison reporting\n",
    "\n",
    "**Key improvements in this version:**\n",
    "- Centralized configuration system\n",
    "- Proper error handling\n",
    "- Eliminated code duplication\n",
    "- Consistent naming conventions\n",
    "- Modular, reusable components"
   ]
  },
  {
   "cell_type": "code",
   "metadata": {
    "ExecuteTime": {
     "end_time": "2025-08-26T09:37:14.470732Z",
     "start_time": "2025-08-26T09:37:13.384961Z"
    }
   },
   "source": "# Import all required modules with cleaned up dependencies\nfrom __future__ import annotations\n\n# Core modules \nimport os\nimport json\nimport numpy as np\nimport soundfile as sf\nimport pandas as pd\nimport matplotlib.pyplot as plt\nfrom dataclasses import asdict\n\n# Project modules (now cleaned up)\nfrom config import CONFIG, CFG  # New centralized configuration\nfrom audio_utils import validate_audio  # New utilities\nfrom utils import ensure_audio_valid  # Audio validation from utils\nfrom data_handler import *\nfrom analysis import *\nfrom dsp_premitives import *\nfrom processors import *\nfrom render_engine import *\nfrom pre_master_prep import *\nfrom streaming_normalization_simulator import *\nfrom comparison_reporting import *\nfrom presets_recommendations import *\nfrom logging_versioning import *\nfrom utils import *\nfrom mastering_orchestrator import *\n\nprint(\"✓ All modules loaded successfully with improved error handling and configuration\")\nprint(f\"✓ Using configuration version: {CONFIG.to_dict()['audio']}\")\nprint(f\"✓ Workspace configured: {CONFIG.workspace.get_workspace_root()}\")",
   "outputs": [
    {
     "name": "stdout",
     "output_type": "stream",
     "text": [
      "Post-Mix I/O layer loaded: AudioBuffer, load_wav, save_wav, resample_poly, slice_preview, with_suffix, auto_out_path, sha256_file, print_audio_summary.\n",
      "Convenience helpers loaded: make_workspace, batch_load_wavs, env_fingerprint, Manifest, write/read_manifest, register_input, register_artifact, import_mix.\n",
      "Analysis layer loaded: analyze_wav/analyze_audio_array, analysis_table, plot_spectrum, plot_short_term_loudness, plot_waveform_excerpt, LUFS approx, true-peak approx, stereo & health metrics.\n",
      "DSP Primitives Layer loaded:\n",
      "- Gain/level: apply_gain_db, normalize_peak, normalize_lufs, measure_peak, measure_rms\n",
      "- Filters: highpass_filter, lowpass_filter, bandpass_filter, shelf_filter, peaking_eq, notch_filter, tilt_eq\n",
      "- Stereo: mid_side_encode, mid_side_decode, stereo_widener\n",
      "- Dynamics: compressor (soft‑knee), transient_shaper\n",
      "- Fades: fade_in, fade_out\n",
      "- K‑weighting/LUFS approx: k_weight, lufs_integrated_approx\n",
      "Patched: render_from_cache now unpacks widen_stereo tuple correctly.\n",
      "Processors (Feature Macros) loaded: make_bassier, make_punchier, reduce_mud, add_air, widen_stereo, premaster_prep, build_preview_cache, render_from_cache.\n",
      "Comparison & Reporting layer loaded:\n",
      "- collect_metrics, build_comparison_tables\n",
      "- plot_overlays (saves to reports/)\n",
      "- make_blind_ab_pack (optional)\n",
      "- write_report_html (self-contained)\n",
      "- write_report_bundle (one-shot with manifest)\n",
      "Presets & Recommendations layer loaded:\n",
      "- PRESETS dict, list_presets(), get_preset(name)\n",
      "- recommend_from_analysis(rep) → [Recommendation]\n",
      "- build_premaster_plan_from_recs(recs, limit) [legacy]\n",
      "- build_all_variants_plan(recs, prefix, top_recommendations) [comprehensive]\n",
      "- recommend_mastering_styles_from_metrics(rep)\n",
      "- recommendation_summary(recs)\n",
      "Logging · Versioning · Reproducibility layer loaded:\n",
      "- RunLogger.start(workspace_root, tag) → logger\n",
      "- logger.log_params/metrics/artifact(), logger.write_summary()\n",
      "- capture_environment(), file_sha256(), capture_config_snapshot()\n",
      "- processing_digest(name, code_versions, params)\n",
      "- make_repro_zip(out_zip, workspace_root, logger, env_info, inputs, outputs)\n",
      "- register_and_log_artifact(manifest, logger, path, kind, params, stage)\n",
      "- CODE_VERSIONS dict (update per layer when you change code)\n",
      "✓ All modules loaded successfully with improved error handling and configuration\n",
      "✓ Using configuration version: {'default_bit_depth': 'PCM_24', 'default_sample_rate': 48000, 'max_clip_range': 4.0, 'safe_clip_range': 1.0, 'prep_hpf_hz': 20.0, 'prep_peak_target_dbfs': -6.0, 'render_peak_target_dbfs': -1.0, 'true_peak_ceiling_db': -1.0, 'lufs_bs1770_offset': -0.691, 'oversample_factor': 4, 'bass_freq_low': 20.0, 'bass_freq_high': 120.0, 'air_freq_low': 8000.0, 'kick_freq_low': 40.0, 'kick_freq_high': 110.0, 'subsonic_cutoff': 30.0}\n",
      "✓ Workspace configured: /Users/itay/Documents/post_mix_data/PostMixRuns\n"
     ]
    }
   ],
   "execution_count": 1
  },
  {
   "cell_type": "markdown",
   "metadata": {},
   "source": [
    "## Configuration\n",
    "\n",
    "Set your input file path and processing options here. The system now uses centralized configuration for consistency."
   ]
  },
  {
   "cell_type": "code",
   "metadata": {
    "ExecuteTime": {
     "end_time": "2025-08-26T09:37:14.493572Z",
     "start_time": "2025-08-26T09:37:14.490273Z"
    }
   },
   "source": [
    "# ============================================\n",
    "# CONFIGURATION - Edit these values as needed  \n",
    "# ============================================\n",
    "\n",
    "# Input file (CHANGE THIS to your file path)\n",
    "MIX_SOURCE_PATH = \"/Users/itay/Documents/post_mix_data/mixes/generativist/ITAY - Generativist v.STEFAN v4.wav\"\n",
    "\n",
    "# Project settings\n",
    "PROJECT_NAME = \"postmix_cleaned_v1\"\n",
    "\n",
    "# Processing options\n",
    "ENABLE_STREAMING_SIMULATION = True\n",
    "MAX_RECOMMENDATIONS = 3\n",
    "LEVEL_MATCH_LUFS = -14.0  # For A/B comparison previews\n",
    "REFERENCE_NAME = \"Original\"\n",
    "\n",
    "# Validate configuration\n",
    "print(f\"Project: {PROJECT_NAME}\")\n",
    "print(f\"Input file: {MIX_SOURCE_PATH}\")\n",
    "print(f\"📁 Workspace root: {CONFIG.workspace.get_workspace_root()}\")\n",
    "print(f\"Audio config: {CONFIG.audio.default_bit_depth} @ {CONFIG.audio.render_peak_target_dbfs} dBFS peak target\")\n",
    "print(f\"Processing config: Limiter attack={CONFIG.processing.limiter_attack_ms}ms, release={CONFIG.processing.limiter_release_ms}ms\")\n",
    "print(f\"\\n📍 IMPORTANT: All outputs will be saved to {CONFIG.workspace.get_workspace_root()}\")\n",
    "print(\"   This keeps your Git repo clean and prevents accidentally committing large audio files!\")"
   ],
   "outputs": [
    {
     "name": "stdout",
     "output_type": "stream",
     "text": [
      "Project: postmix_cleaned_v1\n",
      "Input file: /Users/itay/Documents/post_mix_data/mixes/generativist/ITAY - Generativist v.STEFAN v4.wav\n",
      "📁 Workspace root: /Users/itay/Documents/post_mix_data/PostMixRuns\n",
      "Audio config: PCM_24 @ -1.0 dBFS peak target\n",
      "Processing config: Limiter attack=1.0ms, release=50.0ms\n",
      "\n",
      "📍 IMPORTANT: All outputs will be saved to /Users/itay/Documents/post_mix_data/PostMixRuns\n",
      "   This keeps your Git repo clean and prevents accidentally committing large audio files!\n"
     ]
    }
   ],
   "execution_count": 2
  },
  {
   "cell_type": "markdown",
   "metadata": {},
   "source": [
    "## Pipeline Execution\n",
    "\n",
    "Run the complete audio processing pipeline with improved error handling and logging."
   ]
  },
  {
   "cell_type": "code",
   "metadata": {
    "ExecuteTime": {
     "end_time": "2025-08-26T09:37:15.663382Z",
     "start_time": "2025-08-26T09:37:14.509541Z"
    }
   },
   "source": [
    "# ============================================\n",
    "# MAIN PROCESSING PIPELINE\n",
    "# ============================================\n",
    "\n",
    "try:\n",
    "    # 1) Setup workspace and logging\n",
    "    print(\"📁 Setting up workspace...\")\n",
    "    workspace_paths = make_workspace(project=PROJECT_NAME)\n",
    "    manifest = Manifest(project=PROJECT_NAME, workspace=workspace_paths)\n",
    "    \n",
    "    logger = RunLogger.start(workspace_paths.root, tag=PROJECT_NAME)\n",
    "    environment_info = capture_environment()\n",
    "    logger.log_event(\"env\", {\"environment\": environment_info})\n",
    "    \n",
    "    # 2) Import and validate input audio\n",
    "    print(\"🎵 Importing audio...\")\n",
    "    if not os.path.exists(MIX_SOURCE_PATH):\n",
    "        raise FileNotFoundError(f\"Audio file not found: {MIX_SOURCE_PATH}\")\n",
    "        \n",
    "    mix_path = import_mix(workspace_paths, MIX_SOURCE_PATH, alias=\"mix.wav\")\n",
    "    register_input(manifest, mix_path, alias=\"mix\")\n",
    "    register_and_log_artifact(manifest, logger, mix_path, kind=\"input\", \n",
    "                             params={\"alias\": \"mix\"}, stage=\"import_mix\")\n",
    "    \n",
    "    # Load and validate audio\n",
    "    audio_data, sample_rate = sf.read(mix_path)\n",
    "    ensure_audio_valid(audio_data, \"input mix\")\n",
    "    \n",
    "    # Print summary\n",
    "    audio_buffer = load_wav(mix_path)\n",
    "    print_audio_summary(audio_buffer, \"Original Mix\")\n",
    "    \n",
    "    print(\"✅ Audio imported and validated successfully\")\n",
    "    \n",
    "except Exception as e:\n",
    "    print(f\"❌ Setup failed: {e}\")\n",
    "    raise"
   ],
   "outputs": [
    {
     "name": "stdout",
     "output_type": "stream",
     "text": [
      "📁 Setting up workspace...\n",
      "Workspace created at: /Users/itay/Documents/post_mix_data/PostMixRuns/postmix_cleaned_v1_20250826-093714\n",
      "🎵 Importing audio...\n",
      "Imported mix → /Users/itay/Documents/post_mix_data/PostMixRuns/postmix_cleaned_v1_20250826-093714/inputs/mix.wav\n",
      "Original Mix: sr=44100 | ch=2 | dur=248.399s | peak=0.910527 | rms=0.125212\n",
      "  path: /Users/itay/Documents/post_mix_data/PostMixRuns/postmix_cleaned_v1_20250826-093714/inputs/mix.wav\n",
      "  sha256: 66a33b29fb112fc0...\n",
      "  src dtype: int32 | src ch: 2\n",
      "✅ Audio imported and validated successfully\n"
     ]
    }
   ],
   "execution_count": 3
  },
  {
   "cell_type": "code",
   "metadata": {
    "ExecuteTime": {
     "end_time": "2025-08-26T09:37:18.175560Z",
     "start_time": "2025-08-26T09:37:15.723798Z"
    }
   },
   "source": "# ============================================\n# ANALYSIS AND RECOMMENDATIONS\n# ============================================\n\ntry:\n    # 3) Analyze original mix\n    print(\"📊 Analyzing audio...\")\n    original_analysis = analyze_wav(mix_path)\n    \n    # Log detailed metrics\n    logger.log_metrics(\"analysis_original\", {\n        \"sr\": original_analysis.sr, \n        \"duration_s\": original_analysis.duration_s,\n        \"peak_dbfs\": original_analysis.basic[\"peak_dbfs\"],\n        \"true_peak_dbfs\": original_analysis.true_peak_dbfs,\n        \"rms_dbfs\": original_analysis.basic[\"rms_dbfs\"],\n        \"lufs_integrated\": original_analysis.lufs_integrated,\n        \"crest_db\": original_analysis.basic[\"crest_db\"],\n        \"bass_energy_%\": original_analysis.bass_energy_pct,\n        \"air_energy_%\": original_analysis.air_energy_pct,\n        \"phase_correlation\": original_analysis.stereo[\"phase_correlation\"],\n        \"stereo_width\": original_analysis.stereo[\"stereo_width\"],\n        \"spectral_flatness\": original_analysis.spectral_flatness,\n    })\n    \n    # 4) Generate processing recommendations\n    print(\"🎯 Generating recommendations...\")\n    recommendations = recommend_from_analysis(original_analysis)\n    print(recommendation_summary(recommendations))\n    \n    # Build comprehensive processing plan with ALL variants\n    processing_plan = build_all_variants_plan(\n        recommendations, prefix=\"PM\", top_recommendations=MAX_RECOMMENDATIONS\n    )\n    \n    logger.log_params(\"recommendations\", {\n        \"plan\": [(name, asdict(dial_state)) for (name, dial_state) in processing_plan]\n    }, code_versions={\"presets_recs\": CODE_VERSIONS[\"presets_recs\"]})\n    \n    print(f\"✅ Generated {len(processing_plan)} processing variants (ALL presets + recommendations)\")\n    print(f\"📋 Variants include: Transparent, Bassy, Punchy, Clear, Airy, Wide, Genre-specific, and more!\")\n    print(f\"⭐ Top {MAX_RECOMMENDATIONS} recommendations marked with '_recommended' suffix\")\n    \nexcept Exception as e:\n    print(f\"❌ Analysis failed: {e}\")\n    raise",
   "outputs": [
    {
     "name": "stdout",
     "output_type": "stream",
     "text": [
      "📊 Analyzing audio...\n",
      "🎯 Generating recommendations...\n",
      "- Punch Up the Transients (priority 2): B16 P38 C10 A14 W8\n",
      "    • crest 17.4 dB (dynamic) and LUFS -19.2 (quiet) → add transient definition\n",
      "    • small air lift to help intelligibility\n",
      "- Widen Image (Safe) (priority 4): B14 P14 C10 A12 W18\n",
      "    • stereo_width 0.31 is narrow → add width\n",
      "    • tone moves kept gentle to avoid destabilizing center\n",
      "    ↪ If mono compatibility is critical, keep width ≤ 15.\n",
      "✅ Generated 37 processing variants (ALL presets + recommendations)\n",
      "📋 Variants include: Transparent, Bassy, Punchy, Clear, Airy, Wide, Genre-specific, and more!\n",
      "⭐ Top 3 recommendations marked with '_recommended' suffix\n"
     ]
    }
   ],
   "execution_count": 4
  },
  {
   "cell_type": "code",
   "metadata": {
    "ExecuteTime": {
     "end_time": "2025-08-26T09:38:17.042196Z",
     "start_time": "2025-08-26T09:37:18.242634Z"
    }
   },
   "source": "# ============================================\n# PRE-MASTERING PROCESSING\n# ============================================\n\ntry:\n    # 5) Pre-mastering preparation - VARIANTS ONLY (no single premaster folder)\n    print(\"🔧 Pre-mastering preparation - generating ALL variants...\")\n    \n    # Setup render engine with improved configuration\n    engine = RenderEngine(audio_data, sample_rate, \n                         preprocess=PreprocessConfig(\n                             low_cutoff=CONFIG.audio.prep_hpf_hz,\n                             kick_lo=CONFIG.audio.kick_freq_low,\n                             kick_hi=CONFIG.audio.kick_freq_high\n                         ))\n    preprocess_metadata = engine.preprocess()\n    logger.log_params(\"render_preprocess_cache\", preprocess_metadata, \n                     code_versions={\n                         \"processors\": CODE_VERSIONS[\"processors\"], \n                         \"render_engine\": CODE_VERSIONS[\"render_engine\"]\n                     })\n    \n    # Generate dial-based premaster variants (this is what we keep)\n    variant_dir = os.path.join(workspace_paths.outputs, \"premasters\")\n    render_options = RenderOptions(\n        target_peak_dbfs=CONFIG.audio.render_peak_target_dbfs, \n        bit_depth=CONFIG.audio.default_bit_depth, \n        hpf_hz=None, \n        save_headroom_first=False\n    )\n    \n    variant_metadata = engine.commit_variants(variant_dir, processing_plan, opts=render_options)\n    for meta in variant_metadata:\n        register_and_log_artifact(manifest, logger, meta[\"out_path\"], \n                                 kind=\"premaster\", params=meta, \n                                 stage=f\"variant__{os.path.basename(meta['out_path'])}\")\n    \n    print(f\"✅ Created {len(variant_metadata)} premaster variants\")\n    print(\"🗑️  Skipped creating single 'premaster' folder - using variants for mastering instead\")\n    \nexcept Exception as e:\n    print(f\"❌ Pre-mastering failed: {e}\")\n    raise",
   "outputs": [
    {
     "name": "stdout",
     "output_type": "stream",
     "text": [
      "🔧 Pre-mastering preparation - generating ALL variants...\n",
      "✅ Created 37 premaster variants\n",
      "🗑️  Skipped creating single 'premaster' folder - using variants for mastering instead\n"
     ]
    }
   ],
   "execution_count": 5
  },
  {
   "cell_type": "code",
   "metadata": {
    "ExecuteTime": {
     "end_time": "2025-08-26T10:14:06.352513Z",
     "start_time": "2025-08-26T09:38:17.071169Z"
    }
   },
   "source": "# ============================================\n# MASTERING WITH VARIANT SUBFOLDERS\n# ============================================\n\ntry:\n    # 6) Mastering orchestrator with variant-specific subfolders\n    print(\"🎭 Running mastering for ALL variants...\")\n    \n    orchestrator = MasteringOrchestrator(workspace_paths, manifest)\n    \n    # Get recommended mastering styles (using the first variant for analysis)\n    first_variant_path = variant_metadata[0][\"out_path\"] if variant_metadata else None\n    if not first_variant_path:\n        raise ValueError(\"No premaster variants available for mastering\")\n        \n    premaster_analysis = analyze_wav(first_variant_path)\n    mastering_styles = [\n        (style, strength) for (style, strength, reason) in \n        recommend_mastering_styles_from_metrics(premaster_analysis)\n    ]\n    \n    # Use improved local mastering provider\n    providers = [LocalMasterProvider(bit_depth=CONFIG.audio.default_bit_depth)]\n    logger.log_params(\"mastering_styles\", {\"styles\": mastering_styles}, \n                     code_versions={\"orchestrator\": CODE_VERSIONS[\"orchestrator\"]})\n    \n    # Run mastering for ALL variants with subfolders\n    all_master_results = orchestrator.run_all_variants(\n        variant_metadata=variant_metadata,\n        providers=providers,\n        styles=mastering_styles,\n        out_tag=\"masters\",\n        level_match_preview_lufs=LEVEL_MATCH_LUFS\n    )\n    \n    # Flatten results for compatibility with downstream code\n    master_paths = []\n    for variant_name, results in all_master_results.items():\n        master_paths.extend([result.out_path for result in results])\n    \n    total_variants = len(all_master_results)\n    total_masters = len(master_paths)\n    print(f\"✅ Created {total_masters} mastered files across {total_variants} variants\")\n    print(f\"📁 Each variant has its own subfolder: masters/{'{variant_name}'}/\")\n    print(f\"📝 Each subfolder contains: {', '.join([f'{s}_{int(st*100)}.wav' for s, st in mastering_styles])}\")\n    print(\"🎯 No single 'premaster' folder needed - mastering directly from variant files!\")\n    \nexcept Exception as e:\n    print(f\"❌ Mastering failed: {e}\")\n    raise",
   "outputs": [
    {
     "name": "stdout",
     "output_type": "stream",
     "text": [
      "🎭 Running mastering for ALL variants...\n",
      "🎭 Mastering variant: PM_Transparent\n",
      "  ✅ Created 4 mastered versions for PM_Transparent\n",
      "🎭 Mastering variant: PM_BalancedGentle\n",
      "  ✅ Created 4 mastered versions for PM_BalancedGentle\n",
      "🎭 Mastering variant: PM_Bassy\n",
      "  ✅ Created 4 mastered versions for PM_Bassy\n",
      "🎭 Mastering variant: PM_DeepBass\n",
      "  ✅ Created 4 mastered versions for PM_DeepBass\n",
      "🎭 Mastering variant: PM_ModernLow-End\n",
      "  ✅ Created 4 mastered versions for PM_ModernLow-End\n",
      "🎭 Mastering variant: PM_Punchy\n",
      "  ✅ Created 4 mastered versions for PM_Punchy\n",
      "🎭 Mastering variant: PM_TightAndPunchy\n",
      "  ✅ Created 4 mastered versions for PM_TightAndPunchy\n",
      "🎭 Mastering variant: PM_AggressivePunch\n",
      "  ✅ Created 4 mastered versions for PM_AggressivePunch\n",
      "🎭 Mastering variant: PM_Clear\n",
      "  ✅ Created 4 mastered versions for PM_Clear\n",
      "🎭 Mastering variant: PM_ClarityAndAir\n",
      "  ❌ Error processing local/neutral for PM_ClarityAndAir: Failed to create variant level-matched preview: System error.\n"
     ]
    },
    {
     "ename": "KeyboardInterrupt",
     "evalue": "",
     "output_type": "error",
     "traceback": [
      "\u001B[0;31m---------------------------------------------------------------------------\u001B[0m",
      "\u001B[0;31mKeyboardInterrupt\u001B[0m                         Traceback (most recent call last)",
      "Cell \u001B[0;32mIn[6], line 28\u001B[0m\n\u001B[1;32m     24\u001B[0m logger\u001B[38;5;241m.\u001B[39mlog_params(\u001B[38;5;124m\"\u001B[39m\u001B[38;5;124mmastering_styles\u001B[39m\u001B[38;5;124m\"\u001B[39m, {\u001B[38;5;124m\"\u001B[39m\u001B[38;5;124mstyles\u001B[39m\u001B[38;5;124m\"\u001B[39m: mastering_styles}, \n\u001B[1;32m     25\u001B[0m                  code_versions\u001B[38;5;241m=\u001B[39m{\u001B[38;5;124m\"\u001B[39m\u001B[38;5;124morchestrator\u001B[39m\u001B[38;5;124m\"\u001B[39m: CODE_VERSIONS[\u001B[38;5;124m\"\u001B[39m\u001B[38;5;124morchestrator\u001B[39m\u001B[38;5;124m\"\u001B[39m]})\n\u001B[1;32m     27\u001B[0m \u001B[38;5;66;03m# Run mastering for ALL variants with subfolders\u001B[39;00m\n\u001B[0;32m---> 28\u001B[0m all_master_results \u001B[38;5;241m=\u001B[39m \u001B[43morchestrator\u001B[49m\u001B[38;5;241;43m.\u001B[39;49m\u001B[43mrun_all_variants\u001B[49m\u001B[43m(\u001B[49m\n\u001B[1;32m     29\u001B[0m \u001B[43m    \u001B[49m\u001B[43mvariant_metadata\u001B[49m\u001B[38;5;241;43m=\u001B[39;49m\u001B[43mvariant_metadata\u001B[49m\u001B[43m,\u001B[49m\n\u001B[1;32m     30\u001B[0m \u001B[43m    \u001B[49m\u001B[43mproviders\u001B[49m\u001B[38;5;241;43m=\u001B[39;49m\u001B[43mproviders\u001B[49m\u001B[43m,\u001B[49m\n\u001B[1;32m     31\u001B[0m \u001B[43m    \u001B[49m\u001B[43mstyles\u001B[49m\u001B[38;5;241;43m=\u001B[39;49m\u001B[43mmastering_styles\u001B[49m\u001B[43m,\u001B[49m\n\u001B[1;32m     32\u001B[0m \u001B[43m    \u001B[49m\u001B[43mout_tag\u001B[49m\u001B[38;5;241;43m=\u001B[39;49m\u001B[38;5;124;43m\"\u001B[39;49m\u001B[38;5;124;43mmasters\u001B[39;49m\u001B[38;5;124;43m\"\u001B[39;49m\u001B[43m,\u001B[49m\n\u001B[1;32m     33\u001B[0m \u001B[43m    \u001B[49m\u001B[43mlevel_match_preview_lufs\u001B[49m\u001B[38;5;241;43m=\u001B[39;49m\u001B[43mLEVEL_MATCH_LUFS\u001B[49m\n\u001B[1;32m     34\u001B[0m \u001B[43m\u001B[49m\u001B[43m)\u001B[49m\n\u001B[1;32m     36\u001B[0m \u001B[38;5;66;03m# Flatten results for compatibility with downstream code\u001B[39;00m\n\u001B[1;32m     37\u001B[0m master_paths \u001B[38;5;241m=\u001B[39m []\n",
      "File \u001B[0;32m~/Documents/GitHub/post_mix_analysis/mastering_orchestrator.py:418\u001B[0m, in \u001B[0;36mMasteringOrchestrator.run_all_variants\u001B[0;34m(self, variant_metadata, providers, styles, out_tag, level_match_preview_lufs)\u001B[0m\n\u001B[1;32m    416\u001B[0m \u001B[38;5;28;01mfor\u001B[39;00m style, strength \u001B[38;5;129;01min\u001B[39;00m styles:\n\u001B[1;32m    417\u001B[0m     \u001B[38;5;28;01mtry\u001B[39;00m:\n\u001B[0;32m--> 418\u001B[0m         result \u001B[38;5;241m=\u001B[39m \u001B[38;5;28;43mself\u001B[39;49m\u001B[38;5;241;43m.\u001B[39;49m\u001B[43m_process_variant_job\u001B[49m\u001B[43m(\u001B[49m\n\u001B[1;32m    419\u001B[0m \u001B[43m            \u001B[49m\u001B[43mprovider\u001B[49m\u001B[43m,\u001B[49m\u001B[43m \u001B[49m\u001B[43mvariant_path\u001B[49m\u001B[43m,\u001B[49m\u001B[43m \u001B[49m\u001B[43mstyle\u001B[49m\u001B[43m,\u001B[49m\u001B[43m \u001B[49m\u001B[43mstrength\u001B[49m\u001B[43m,\u001B[49m\n\u001B[1;32m    420\u001B[0m \u001B[43m            \u001B[49m\u001B[43mvariant_output_dir\u001B[49m\u001B[43m,\u001B[49m\u001B[43m \u001B[49m\u001B[43mout_tag\u001B[49m\u001B[43m,\u001B[49m\u001B[43m \u001B[49m\u001B[43mlevel_match_preview_lufs\u001B[49m\u001B[43m,\u001B[49m\n\u001B[1;32m    421\u001B[0m \u001B[43m            \u001B[49m\u001B[43mvariant_name\u001B[49m\n\u001B[1;32m    422\u001B[0m \u001B[43m        \u001B[49m\u001B[43m)\u001B[49m\n\u001B[1;32m    423\u001B[0m         \u001B[38;5;28;01mif\u001B[39;00m result:\n\u001B[1;32m    424\u001B[0m             variant_results\u001B[38;5;241m.\u001B[39mappend(result)\n",
      "File \u001B[0;32m~/Documents/GitHub/post_mix_analysis/mastering_orchestrator.py:450\u001B[0m, in \u001B[0;36mMasteringOrchestrator._process_variant_job\u001B[0;34m(self, provider, variant_path, style, strength, output_dir, out_tag, level_match_preview_lufs, variant_name)\u001B[0m\n\u001B[1;32m    448\u001B[0m \u001B[38;5;66;03m# Process based on provider type\u001B[39;00m\n\u001B[1;32m    449\u001B[0m \u001B[38;5;28;01mif\u001B[39;00m \u001B[38;5;28misinstance\u001B[39m(provider, LocalMasterProvider):\n\u001B[0;32m--> 450\u001B[0m     result \u001B[38;5;241m=\u001B[39m \u001B[43mprovider\u001B[49m\u001B[38;5;241;43m.\u001B[39;49m\u001B[43mrun_sync\u001B[49m\u001B[43m(\u001B[49m\u001B[43mrequest\u001B[49m\u001B[43m,\u001B[49m\u001B[43m \u001B[49m\u001B[43mout_path\u001B[49m\u001B[43m)\u001B[49m\n\u001B[1;32m    451\u001B[0m \u001B[38;5;28;01melse\u001B[39;00m:\n\u001B[1;32m    452\u001B[0m     result \u001B[38;5;241m=\u001B[39m \u001B[38;5;28mself\u001B[39m\u001B[38;5;241m.\u001B[39m_handle_async_provider(provider, request, out_path)\n",
      "File \u001B[0;32m~/Documents/GitHub/post_mix_analysis/mastering_orchestrator.py:287\u001B[0m, in \u001B[0;36mLocalMasterProvider.run_sync\u001B[0;34m(self, req, out_path)\u001B[0m\n\u001B[1;32m    285\u001B[0m \u001B[38;5;28;01mtry\u001B[39;00m:\n\u001B[1;32m    286\u001B[0m     audio, sr \u001B[38;5;241m=\u001B[39m sf\u001B[38;5;241m.\u001B[39mread(req\u001B[38;5;241m.\u001B[39minput_path)\n\u001B[0;32m--> 287\u001B[0m     processed_audio, params \u001B[38;5;241m=\u001B[39m \u001B[38;5;28;43mself\u001B[39;49m\u001B[38;5;241;43m.\u001B[39;49m\u001B[43m_apply_style\u001B[49m\u001B[43m(\u001B[49m\u001B[43maudio\u001B[49m\u001B[43m,\u001B[49m\u001B[43m \u001B[49m\u001B[43msr\u001B[49m\u001B[43m,\u001B[49m\u001B[43m \u001B[49m\u001B[43mreq\u001B[49m\u001B[38;5;241;43m.\u001B[39;49m\u001B[43mstyle\u001B[49m\u001B[43m,\u001B[49m\u001B[43m \u001B[49m\u001B[43mreq\u001B[49m\u001B[38;5;241;43m.\u001B[39;49m\u001B[43mstrength\u001B[49m\u001B[43m)\u001B[49m\n\u001B[1;32m    289\u001B[0m     \u001B[38;5;66;03m# Ensure output directory exists\u001B[39;00m\n\u001B[1;32m    290\u001B[0m     os\u001B[38;5;241m.\u001B[39mmakedirs(os\u001B[38;5;241m.\u001B[39mpath\u001B[38;5;241m.\u001B[39mdirname(os\u001B[38;5;241m.\u001B[39mpath\u001B[38;5;241m.\u001B[39mabspath(out_path)), exist_ok\u001B[38;5;241m=\u001B[39m\u001B[38;5;28;01mTrue\u001B[39;00m)\n",
      "File \u001B[0;32m~/Documents/GitHub/post_mix_analysis/mastering_orchestrator.py:261\u001B[0m, in \u001B[0;36mLocalMasterProvider._apply_style\u001B[0;34m(self, audio, sr, style, strength)\u001B[0m\n\u001B[1;32m    258\u001B[0m     style \u001B[38;5;241m=\u001B[39m \u001B[38;5;124m\"\u001B[39m\u001B[38;5;124mneutral\u001B[39m\u001B[38;5;124m\"\u001B[39m\n\u001B[1;32m    260\u001B[0m \u001B[38;5;66;03m# Apply \"glue\" compression via parallel limiting\u001B[39;00m\n\u001B[0;32m--> 261\u001B[0m limited \u001B[38;5;241m=\u001B[39m \u001B[43m_lookahead_limiter\u001B[49m\u001B[43m(\u001B[49m\u001B[43mprocessed\u001B[49m\u001B[43m,\u001B[49m\u001B[43m \u001B[49m\u001B[43msr\u001B[49m\u001B[43m,\u001B[49m\u001B[43m \u001B[49m\u001B[43mceiling_dbfs\u001B[49m\u001B[38;5;241;43m=\u001B[39;49m\u001B[38;5;241;43m-\u001B[39;49m\u001B[38;5;241;43m1.2\u001B[39;49m\u001B[43m)\u001B[49m\n\u001B[1;32m    262\u001B[0m processed \u001B[38;5;241m=\u001B[39m (\u001B[38;5;241m1.0\u001B[39m \u001B[38;5;241m-\u001B[39m glue_amount) \u001B[38;5;241m*\u001B[39m processed \u001B[38;5;241m+\u001B[39m glue_amount \u001B[38;5;241m*\u001B[39m limited\n\u001B[1;32m    264\u001B[0m \u001B[38;5;66;03m# Final peak control\u001B[39;00m\n",
      "File \u001B[0;32m~/Documents/GitHub/post_mix_analysis/mastering_orchestrator.py:184\u001B[0m, in \u001B[0;36m_lookahead_limiter\u001B[0;34m(x, sr, ceiling_dbfs, lookahead_ms, attack_ms, release_ms, knee_db)\u001B[0m\n\u001B[1;32m    182\u001B[0m \u001B[38;5;28;01mfor\u001B[39;00m i \u001B[38;5;129;01min\u001B[39;00m \u001B[38;5;28mrange\u001B[39m(\u001B[38;5;28mlen\u001B[39m(magnitude)):\n\u001B[1;32m    183\u001B[0m     current_mag \u001B[38;5;241m=\u001B[39m magnitude[i]\n\u001B[0;32m--> 184\u001B[0m     coeff \u001B[38;5;241m=\u001B[39m attack_coeff \u001B[38;5;28;01mif\u001B[39;00m \u001B[43mnp\u001B[49m\u001B[38;5;241;43m.\u001B[39;49m\u001B[43many\u001B[49m\u001B[43m(\u001B[49m\u001B[43mcurrent_mag\u001B[49m\u001B[43m \u001B[49m\u001B[38;5;241;43m>\u001B[39;49m\u001B[43m \u001B[49m\u001B[43menv_state\u001B[49m\u001B[43m)\u001B[49m \u001B[38;5;28;01melse\u001B[39;00m release_coeff\n\u001B[1;32m    185\u001B[0m     env_state \u001B[38;5;241m=\u001B[39m np\u001B[38;5;241m.\u001B[39mmaximum(current_mag, env_state \u001B[38;5;241m*\u001B[39m coeff)\n\u001B[1;32m    186\u001B[0m     envelope[i] \u001B[38;5;241m=\u001B[39m env_state\n",
      "File \u001B[0;32m/opt/miniconda3/envs/audio-sim/lib/python3.10/site-packages/numpy/_core/fromnumeric.py:2580\u001B[0m, in \u001B[0;36many\u001B[0;34m(a, axis, out, keepdims, where)\u001B[0m\n\u001B[1;32m   2477\u001B[0m \u001B[38;5;129m@array_function_dispatch\u001B[39m(_any_dispatcher)\n\u001B[1;32m   2478\u001B[0m \u001B[38;5;28;01mdef\u001B[39;00m\u001B[38;5;250m \u001B[39m\u001B[38;5;21many\u001B[39m(a, axis\u001B[38;5;241m=\u001B[39m\u001B[38;5;28;01mNone\u001B[39;00m, out\u001B[38;5;241m=\u001B[39m\u001B[38;5;28;01mNone\u001B[39;00m, keepdims\u001B[38;5;241m=\u001B[39mnp\u001B[38;5;241m.\u001B[39m_NoValue, \u001B[38;5;241m*\u001B[39m, where\u001B[38;5;241m=\u001B[39mnp\u001B[38;5;241m.\u001B[39m_NoValue):\n\u001B[1;32m   2479\u001B[0m \u001B[38;5;250m    \u001B[39m\u001B[38;5;124;03m\"\"\"\u001B[39;00m\n\u001B[1;32m   2480\u001B[0m \u001B[38;5;124;03m    Test whether any array element along a given axis evaluates to True.\u001B[39;00m\n\u001B[1;32m   2481\u001B[0m \n\u001B[0;32m   (...)\u001B[0m\n\u001B[1;32m   2578\u001B[0m \n\u001B[1;32m   2579\u001B[0m \u001B[38;5;124;03m    \"\"\"\u001B[39;00m\n\u001B[0;32m-> 2580\u001B[0m     \u001B[38;5;28;01mreturn\u001B[39;00m \u001B[43m_wrapreduction_any_all\u001B[49m\u001B[43m(\u001B[49m\u001B[43ma\u001B[49m\u001B[43m,\u001B[49m\u001B[43m \u001B[49m\u001B[43mnp\u001B[49m\u001B[38;5;241;43m.\u001B[39;49m\u001B[43mlogical_or\u001B[49m\u001B[43m,\u001B[49m\u001B[43m \u001B[49m\u001B[38;5;124;43m'\u001B[39;49m\u001B[38;5;124;43many\u001B[39;49m\u001B[38;5;124;43m'\u001B[39;49m\u001B[43m,\u001B[49m\u001B[43m \u001B[49m\u001B[43maxis\u001B[49m\u001B[43m,\u001B[49m\u001B[43m \u001B[49m\u001B[43mout\u001B[49m\u001B[43m,\u001B[49m\n\u001B[1;32m   2581\u001B[0m \u001B[43m                                  \u001B[49m\u001B[43mkeepdims\u001B[49m\u001B[38;5;241;43m=\u001B[39;49m\u001B[43mkeepdims\u001B[49m\u001B[43m,\u001B[49m\u001B[43m \u001B[49m\u001B[43mwhere\u001B[49m\u001B[38;5;241;43m=\u001B[39;49m\u001B[43mwhere\u001B[49m\u001B[43m)\u001B[49m\n",
      "File \u001B[0;32m/opt/miniconda3/envs/audio-sim/lib/python3.10/site-packages/numpy/_core/fromnumeric.py:89\u001B[0m, in \u001B[0;36m_wrapreduction_any_all\u001B[0;34m(obj, ufunc, method, axis, out, **kwargs)\u001B[0m\n\u001B[1;32m     84\u001B[0m                 \u001B[38;5;28;01mreturn\u001B[39;00m reduction(axis\u001B[38;5;241m=\u001B[39maxis, out\u001B[38;5;241m=\u001B[39mout, \u001B[38;5;241m*\u001B[39m\u001B[38;5;241m*\u001B[39mpasskwargs)\n\u001B[1;32m     86\u001B[0m     \u001B[38;5;28;01mreturn\u001B[39;00m ufunc\u001B[38;5;241m.\u001B[39mreduce(obj, axis, dtype, out, \u001B[38;5;241m*\u001B[39m\u001B[38;5;241m*\u001B[39mpasskwargs)\n\u001B[0;32m---> 89\u001B[0m \u001B[38;5;28;01mdef\u001B[39;00m\u001B[38;5;250m \u001B[39m\u001B[38;5;21m_wrapreduction_any_all\u001B[39m(obj, ufunc, method, axis, out, \u001B[38;5;241m*\u001B[39m\u001B[38;5;241m*\u001B[39mkwargs):\n\u001B[1;32m     90\u001B[0m     \u001B[38;5;66;03m# Same as above function, but dtype is always bool (but never passed on)\u001B[39;00m\n\u001B[1;32m     91\u001B[0m     passkwargs \u001B[38;5;241m=\u001B[39m {k: v \u001B[38;5;28;01mfor\u001B[39;00m k, v \u001B[38;5;129;01min\u001B[39;00m kwargs\u001B[38;5;241m.\u001B[39mitems()\n\u001B[1;32m     92\u001B[0m                   \u001B[38;5;28;01mif\u001B[39;00m v \u001B[38;5;129;01mis\u001B[39;00m \u001B[38;5;129;01mnot\u001B[39;00m np\u001B[38;5;241m.\u001B[39m_NoValue}\n\u001B[1;32m     94\u001B[0m     \u001B[38;5;28;01mif\u001B[39;00m \u001B[38;5;28mtype\u001B[39m(obj) \u001B[38;5;129;01mis\u001B[39;00m \u001B[38;5;129;01mnot\u001B[39;00m mu\u001B[38;5;241m.\u001B[39mndarray:\n",
      "\u001B[0;31mKeyboardInterrupt\u001B[0m: "
     ]
    }
   ],
   "execution_count": 6
  },
  {
   "cell_type": "code",
   "metadata": {
    "ExecuteTime": {
     "end_time": "2025-08-26T10:14:06.371662Z",
     "start_time": "2025-08-26T08:31:32.989717Z"
    }
   },
   "source": "# ============================================\n# STREAMING SIMULATION & REPORTING\n# ============================================\n\ntry:\n    # 7) Streaming normalization simulation\n    streaming_paths = []\n    streaming_dataframe = None\n    \n    if ENABLE_STREAMING_SIMULATION and master_paths:\n        print(\"📱 Simulating streaming platforms...\")\n        stream_output_dir = os.path.join(workspace_paths.outputs, \"stream_previews\")\n        \n        # Use new configuration for streaming profiles\n        streaming_profiles = CONFIG.streaming.get_platform_profiles()\n        \n        streaming_paths, streaming_dataframe = simulate_and_export_for_platforms(\n            input_path=master_paths[0],\n            out_dir=stream_output_dir,\n            profiles=default_streaming_profiles(),  # TODO: Update this to use CONFIG\n            bit_depth=CONFIG.audio.default_bit_depth,\n            register_to_manifest=(manifest, \"stream_sim\")\n        )\n        \n        logger.log_event(\"stream_sim_summary\", {\n            \"platforms\": len(streaming_profiles),\n            \"files_created\": len(streaming_paths)\n        })\n        print(f\"✅ Created {len(streaming_paths)} streaming previews\")\n    \n    # 8) Enhanced comparison reporting\n    print(\"📊 Generating comparison report...\")\n    \n    # Compare original mix with some sample masters (no premaster reference)\n    sample_masters = master_paths[:5]  # First 5 masters for comparison\n    comparison_files = [mix_path] + sample_masters\n    comparison_files = [path for path in comparison_files if os.path.exists(path)]\n    \n    # Use new configuration for reporting\n    compare_config = CompareConfig(\n        preview_seconds=CONFIG.reporting.preview_duration_seconds,\n        nfft=CONFIG.analysis.default_nfft,\n        reference_name=REFERENCE_NAME\n    )\n    \n    # Create enhanced reports directory\n    reports_dir = os.path.join(workspace_paths.reports, \"assets\")\n    os.makedirs(reports_dir, exist_ok=True)\n    \n    # Generate comprehensive report bundle\n    report_bundle = write_report_bundle(\n        file_paths=comparison_files,\n        reports_dir=reports_dir,\n        cfg=compare_config,\n        manifest=manifest,\n        report_name=CONFIG.reporting.report_name,\n        extra_notes=\"Generated by cleaned up post-mix pipeline - no premaster folder, direct variant mastering\"\n    )\n    \n    # Enhanced HTML report with configuration info\n    try:\n        enhanced_html = write_report_html_enhanced(\n            report_bundle[\"summary_df\"], \n            report_bundle[\"deltas_df\"], \n            report_bundle[\"plots\"],\n            os.path.join(reports_dir, \"comparison_report_enhanced.html\"),\n            title=\"Post-Mix Analysis Report (Cleaned)\",\n            extra_notes=\"Generated with improved pipeline - variant-based mastering with organized subfolders\",\n            code_versions=CODE_VERSIONS,\n            dial_snapshot=processing_plan[1][1].__dict__ if len(processing_plan) > 1 else {}\n        )\n        register_and_log_artifact(manifest, logger, enhanced_html, \n                                 kind=\"report\", params={\"enhanced\": True, \"version\": \"2.0\"}, \n                                 stage=\"enhanced_report\")\n    except Exception as e:\n        print(f\"⚠️ Enhanced report generation failed (continuing): {e}\")\n    \n    print(\"✅ Reports generated successfully\")\n    print(\"📝 Note: Comparison includes original mix + sample masters (no premaster files)\")\n    \nexcept Exception as e:\n    print(f\"❌ Reporting failed: {e}\")\n    raise",
   "outputs": [],
   "execution_count": null
  },
  {
   "cell_type": "code",
   "metadata": {
    "ExecuteTime": {
     "end_time": "2025-08-26T10:14:06.398330Z",
     "start_time": "2025-08-26T08:01:04.022111Z"
    }
   },
   "source": "# ============================================\n# FINALIZATION AND SUMMARY\n# ============================================\n\ntry:\n    # 9) Create reproducibility bundle\n    print(\"📦 Creating reproducibility bundle...\")\n    \n    bundle_path = os.path.join(workspace_paths.reports, \"bundles\", f\"{logger.run_id}.zip\")\n    \n    # Only include master files and streaming previews (no premaster files)\n    all_outputs = list(set(master_paths + streaming_paths))\n    \n    reproducibility_zip = make_repro_zip(\n        bundle_path,\n        workspace_root=workspace_paths.root,\n        run_logger=logger,\n        env_info=environment_info,\n        inputs=[mix_path],\n        outputs=all_outputs,\n        extra_jsons={\n            \"code_versions\": CODE_VERSIONS, \n            \"recommendations\": [(name, asdict(dial_state)) for (name, dial_state) in processing_plan],\n            \"configuration\": CONFIG.to_dict(),  # Include configuration snapshot\n            \"pipeline_version\": \"2.0_cleaned_no_premaster\",\n            \"variant_structure\": {\n                \"total_variants\": len(processing_plan),\n                \"total_masters\": len(master_paths),\n                \"folder_structure\": \"masters/{variant_name}/{style}_{strength}.wav\",\n                \"note\": \"No premaster folder - mastering done directly from premasters variants\"\n            }\n        },\n        readme_text=\"Bundle created by cleaned up post-mix pipeline with variant-specific master subfolders. No single premaster folder - mastering done directly from premasters variants.\"\n    )\n    \n    register_and_log_artifact(manifest, logger, reproducibility_zip, \n                             kind=\"bundle\", params={\"run_id\": logger.run_id, \"version\": \"2.0\"}, \n                             stage=\"repro_zip\")\n    \n    # 10) Write final summary with enhanced logging\n    logger.write_summary({\n        \"pipeline_version\": \"2.0_cleaned_with_variants_no_premaster\",\n        \"project\": PROJECT_NAME,\n        \"run_id\": logger.run_id,\n        \"input_file\": mix_path,\n        \"total_variants\": len(processing_plan),\n        \"total_premaster_variants\": len(variant_metadata),\n        \"total_master_files\": len(master_paths),\n        \"variant_folder_structure\": \"masters/{variant_name}/{style}_{strength}.wav\",\n        \"streaming_previews\": streaming_paths,\n        \"main_report\": report_bundle[\"html_path\"],\n        \"configuration_snapshot\": CONFIG.to_dict(),\n        \"environment_hash\": json_sha256(environment_info),\n        \"note\": \"No premaster folder created - mastering done directly from variants\"\n    })\n    \n    write_manifest(manifest)\n    \n    print(\"\\n\" + \"=\"*60)\n    print(\"🎉 PROCESSING COMPLETED SUCCESSFULLY - ALL VARIANTS!\")\n    print(\"=\"*60)\n    print(f\"📁 Workspace: {workspace_paths.root}\")\n    print(f\"🎵 Original: {mix_path}\")\n    print(f\"\\n📋 Generated {len(processing_plan)} processing variants:\")\n    for i, (variant_name, _) in enumerate(processing_plan[:5], 1):  # Show first 5\n        print(f\"   {i}. {variant_name}\")\n    if len(processing_plan) > 5:\n        print(f\"   ... and {len(processing_plan)-5} more variants\")\n    \n    print(f\"\\n📁 Folder structure (streamlined - no premaster folder):\")\n    print(f\"   📁 outputs/\")\n    print(f\"   📁   ├── premasters/          ({len(variant_metadata)} variant files)\")\n    print(f\"   📁   └── masters/             ({len(all_master_results)} variant subfolders)\")\n    \n    print(f\"\\n🎭 Masters organized in subfolders ({len(all_master_results)} variant folders):\")\n    print(f\"   📁 masters/\")\n    sample_variants = list(all_master_results.keys())[:3]\n    for variant in sample_variants:\n        print(f\"   📁   ├── {variant}/\")\n        sample_files = [os.path.basename(r.out_path) for r in all_master_results[variant][:2]]\n        for file in sample_files:\n            print(f\"   📄      ├── {file}\")\n            print(f\"   📄      ├── {file.replace('.wav', '__LM-14LUFS.wav')}\")  # Level matched version\n        if len(all_master_results[variant]) > 2:\n            print(f\"   📄      └── ... and {len(all_master_results[variant])-2} more files\")\n    \n    if len(all_master_results) > 3:\n        print(f\"   📁   └── ... and {len(all_master_results)-3} more variant folders\")\n    \n    if streaming_paths:\n        print(f\"\\n📱 Streaming previews ({len(streaming_paths)}):\")\n        for i, path in enumerate(streaming_paths[:3], 1):  # Show first 3\n            print(f\"   {i}. {os.path.basename(path)}\")\n        if len(streaming_paths) > 3:\n            print(f\"   ... and {len(streaming_paths)-3} more\")\n    \n    print(f\"\\n📊 Main report: {report_bundle['html_path']}\")\n    print(f\"📦 Reproducibility bundle: {reproducibility_zip}\")\n    print(\"\\n✨ Pipeline completed with streamlined folder structure!\")\n    print(\"🗑️  No 'premaster' folder created - cleaner output organization\")\n    print(\"🎯 Each variant has its own master subfolder with all mastering styles\")\n    \nexcept Exception as e:\n    print(f\"❌ Finalization failed: {e}\")\n    raise",
   "outputs": [],
   "execution_count": null
  },
  {
   "cell_type": "markdown",
   "metadata": {},
   "source": [
    "## Summary of Improvements\n",
    "\n",
    "This cleaned up version includes:\n",
    "\n",
    "### ✅ **Code Quality Improvements**\n",
    "- Removed duplicate mastering provider classes\n",
    "- Consolidated audio conversion logic into `audio_utils.py`\n",
    "- Fixed naming inconsistencies throughout codebase\n",
    "- Eliminated redundant functions and utilities\n",
    "\n",
    "### ✅ **Configuration Management**\n",
    "- Centralized configuration system in `config.py`\n",
    "- Environment variable support for key settings\n",
    "- Consistent parameter usage across all modules\n",
    "- Configuration versioning and snapshots\n",
    "\n",
    "### ✅ **Error Handling**\n",
    "- Proper exception handling with specific error types\n",
    "- Input validation for all audio processing functions\n",
    "- Graceful failure recovery where possible\n",
    "- Detailed error messages for debugging\n",
    "\n",
    "### ✅ **Architecture Improvements**\n",
    "- Simplified over-engineered abstractions\n",
    "- Cleaner separation of concerns\n",
    "- More maintainable and readable code structure\n",
    "- Better documentation and type hints\n",
    "\n",
    "### 🔧 **Next Steps for Further Improvement**\n",
    "- Add unit tests for all modules\n",
    "- Implement async processing for better performance\n",
    "- Add more streaming platform profiles\n",
    "- Create CLI interface for batch processing\n",
    "- Add real-time monitoring and progress bars"
   ]
  }
 ],
 "metadata": {
  "kernelspec": {
   "display_name": "Python 3",
   "language": "python",
   "name": "python3"
  },
  "language_info": {
   "codemirror_mode": {
    "name": "ipython",
    "version": 3
   },
   "file_extension": ".py",
   "mimetype": "text/x-python",
   "name": "python",
   "nbconvert_exporter": "python",
   "pygments_lexer": "ipython3",
   "version": "3.8.0"
  }
 },
 "nbformat": 4,
 "nbformat_minor": 4
}
