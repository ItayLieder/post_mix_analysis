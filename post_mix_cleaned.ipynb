{
 "cells": [
  {
   "metadata": {},
   "cell_type": "markdown",
   "source": ""
  },
  {
   "cell_type": "markdown",
   "metadata": {},
   "source": [
    "# Post-Mix Analysis Pipeline - Cleaned Up Version\n",
    "\n",
    "This notebook provides a streamlined end-to-end audio post-production pipeline:\n",
    "1. Audio import and analysis\n",
    "2. Pre-mastering preparation \n",
    "3. Mastering with different styles\n",
    "4. Streaming platform simulation\n",
    "5. Comparison reporting\n",
    "\n",
    "**Key improvements in this version:**\n",
    "- Centralized configuration system\n",
    "- Proper error handling\n",
    "- Eliminated code duplication\n",
    "- Consistent naming conventions\n",
    "- Modular, reusable components"
   ]
  },
  {
   "cell_type": "code",
   "metadata": {
    "ExecuteTime": {
     "end_time": "2025-08-28T22:45:38.089139Z",
     "start_time": "2025-08-28T22:45:37.000617Z"
    }
   },
   "source": [
    "# Import all required modules with cleaned up dependencies\n",
    "from __future__ import annotations\n",
    "import sys\n",
    "import importlib\n",
    "\n",
    "# Force reload the mastering orchestrator\n",
    "if 'mastering_orchestrator' in sys.modules:\n",
    "  importlib.reload(sys.modules['mastering_orchestrator'])\n",
    "\n",
    "# Re-import\n",
    "from mastering_orchestrator import MasteringOrchestrator, LocalMasterProvider\n",
    "print(\"✅ Modules reloaded with latest changes!\")\n",
    "# Core modules \n",
    "import os\n",
    "import json\n",
    "import numpy as np\n",
    "import soundfile as sf\n",
    "import pandas as pd\n",
    "import matplotlib.pyplot as plt\n",
    "from dataclasses import asdict\n",
    "\n",
    "# Project modules (now cleaned up)\n",
    "from config import CONFIG, CFG  # New centralized configuration\n",
    "from audio_utils import validate_audio  # New utilities\n",
    "from utils import ensure_audio_valid  # Audio validation from utils\n",
    "from data_handler import *\n",
    "from analysis import *\n",
    "from dsp_premitives import *\n",
    "from processors import *\n",
    "from render_engine import *\n",
    "from pre_master_prep import *\n",
    "from streaming_normalization_simulator import *\n",
    "from comparison_reporting import *\n",
    "from presets_recommendations import *\n",
    "from logging_versioning import *\n",
    "from utils import *\n",
    "from mastering_orchestrator import *\n",
    "from stem_mastering import *  # New stem mastering capabilities\n",
    "\n",
    "print(\"✓ All modules loaded successfully with improved error handling and configuration\")\n",
    "print(f\"✓ Using configuration version: {CONFIG.to_dict()['audio']}\")\n",
    "print(f\"✓ Workspace configured: {CONFIG.workspace.get_workspace_root()}\")\n",
    "print(f\"✓ Processing mode configured: {CONFIG.pipeline.get_processing_mode()}\")\n",
    "if CONFIG.pipeline.is_stem_mode():\n",
    "    print(\"✓ Stem mastering enabled - 4-category intelligent processing available\")\n",
    "else:\n",
    "    print(\"✓ Single-file processing mode - traditional pipeline\")"
   ],
   "outputs": [
    {
     "name": "stdout",
     "output_type": "stream",
     "text": [
      "Post-Mix I/O layer loaded: AudioBuffer, load_wav, save_wav, resample_poly, slice_preview, with_suffix, auto_out_path, sha256_file, print_audio_summary.\n",
      "Convenience helpers loaded: make_workspace, batch_load_wavs, env_fingerprint, Manifest, write/read_manifest, register_input, register_artifact, import_mix.\n",
      "✅ Modules reloaded with latest changes!\n",
      "Analysis layer loaded: analyze_wav/analyze_audio_array, analysis_table, plot_spectrum, plot_short_term_loudness, plot_waveform_excerpt, LUFS approx, true-peak approx, stereo & health metrics.\n",
      "DSP Primitives Layer loaded:\n",
      "- Gain/level: apply_gain_db, normalize_peak, normalize_lufs, measure_peak, measure_rms\n",
      "- Filters: highpass_filter, lowpass_filter, bandpass_filter, shelf_filter, peaking_eq, notch_filter, tilt_eq\n",
      "- Stereo: mid_side_encode, mid_side_decode, stereo_widener\n",
      "- Dynamics: compressor (soft‑knee), transient_shaper\n",
      "- Fades: fade_in, fade_out\n",
      "- K‑weighting/LUFS approx: k_weight, lufs_integrated_approx\n",
      "Patched: render_from_cache now unpacks widen_stereo tuple correctly.\n",
      "Processors (Feature Macros) loaded: make_bassier, make_punchier, reduce_mud, add_air, widen_stereo, premaster_prep, build_preview_cache, render_from_cache.\n",
      "Comparison & Reporting layer loaded:\n",
      "- collect_metrics, build_comparison_tables\n",
      "- plot_overlays (saves to reports/)\n",
      "- make_blind_ab_pack (optional)\n",
      "- write_report_html (self-contained)\n",
      "- write_report_bundle (one-shot with manifest)\n",
      "Presets & Recommendations layer loaded:\n",
      "- PRESETS dict, list_presets(), get_preset(name)\n",
      "- recommend_from_analysis(rep) → [Recommendation]\n",
      "- build_premaster_plan_from_recs(recs, limit) [legacy]\n",
      "- build_all_variants_plan(recs, prefix, top_recommendations) [comprehensive]\n",
      "- recommend_mastering_styles_from_metrics(rep)\n",
      "- recommendation_summary(recs)\n",
      "Logging · Versioning · Reproducibility layer loaded:\n",
      "- RunLogger.start(workspace_root, tag) → logger\n",
      "- logger.log_params/metrics/artifact(), logger.write_summary()\n",
      "- capture_environment(), file_sha256(), capture_config_snapshot()\n",
      "- processing_digest(name, code_versions, params)\n",
      "- make_repro_zip(out_zip, workspace_root, logger, env_info, inputs, outputs)\n",
      "- register_and_log_artifact(manifest, logger, path, kind, params, stage)\n",
      "- CODE_VERSIONS dict (update per layer when you change code)\n",
      "Stem Mastering module loaded:\n",
      "- StemSet dataclass for 4-stem organization\n",
      "- STEM_VARIANTS with category-specific dial settings\n",
      "- STEM_COMBINATIONS for intelligent stem processing\n",
      "- load_stem_set(), validate_stem_set(), create_stem_variants()\n",
      "- Compatible with existing single-file pipeline\n",
      "✓ All modules loaded successfully with improved error handling and configuration\n",
      "✓ Using configuration version: {'default_bit_depth': 'PCM_24', 'default_sample_rate': 48000, 'max_clip_range': 4.0, 'safe_clip_range': 1.0, 'prep_hpf_hz': 20.0, 'prep_peak_target_dbfs': -6.0, 'render_peak_target_dbfs': -1.2, 'true_peak_ceiling_db': -1.2, 'lufs_bs1770_offset': -0.691, 'oversample_factor': 4, 'bass_freq_low': 20.0, 'bass_freq_high': 120.0, 'air_freq_low': 8000.0, 'kick_freq_low': 40.0, 'kick_freq_high': 110.0, 'subsonic_cutoff': 30.0}\n",
      "✓ Workspace configured: /Users/itay/Documents/post_mix_data/PostMixRuns\n",
      "✓ Processing mode configured: single_file\n",
      "✓ Single-file processing mode - traditional pipeline\n"
     ]
    }
   ],
   "execution_count": 1
  },
  {
   "cell_type": "markdown",
   "metadata": {},
   "source": "## Dual Processing Modes\n\nThis pipeline now supports **two processing modes**:\n\n### 🎛️ **Stem Mastering Mode** (NEW!)\n- Process 4 stem categories separately: **drums**, **bass**, **vocals**, **music** \n- Each stem gets optimized processing based on its content type\n- Intelligent stem summing with category-specific gain staging\n- 5 stem combinations: Punchy Mix, Wide & Open, Tight & Controlled, Aggressive, Balanced\n- Set `RUN_STEM_MASTERING = True` and configure `STEM_PATHS`\n\n### 📄 **Single-File Mode** (Traditional)\n- Process complete stereo mix with dial-based variants\n- 38+ processing variants including presets and recommendations\n- Genre-specific and style-specific processing options  \n- Set `RUN_SINGLE_FILE = True` (default)\n\nBoth modes produce organized output folders and comprehensive reports for A/B comparison."
  },
  {
   "metadata": {
    "ExecuteTime": {
     "end_time": "2025-08-28T22:45:38.102817Z",
     "start_time": "2025-08-28T22:45:38.094281Z"
    }
   },
   "cell_type": "code",
   "source": [
    "# ============================================\n",
    "# CONFIGURATION - Edit these values as needed\n",
    "# ============================================\n",
    "\n",
    "# ============================================\n",
    "# PROCESSING MODE SELECTION\n",
    "# ============================================\n",
    "# Choose processing modes to run:\n",
    "# - Set RUN_SINGLE_FILE = True to run traditional single-file processing\n",
    "# - Set RUN_STEM_MASTERING = True to run 4-stem intelligent processing\n",
    "# - Set BOTH to True to compare single-file vs stem mastering results!\n",
    "\n",
    "RUN_SINGLE_FILE = False      # Run traditional single-file processing\n",
    "RUN_STEM_MASTERING = True   # Run stem mastering processing\n",
    "\n",
    "# Single file input (used when RUN_SINGLE_FILE = True)\n",
    "# BASE_INPUT_PATH = \"/Users/itay/Documents/post_mix_data/mixes/crashing_stems/\"\n",
    "# BASE_INPUT_PATH = \"/Users/itay/Documents/post_mix_data/mixes/pondomonium/\"\n",
    "BASE_INPUT_PATH = \"/Users/itay/Documents/post_mix_data/mixing_sessions/session_20250828_181055/stems/\"\n",
    "\n",
    "\n",
    "MIX_SOURCE_PATH = BASE_INPUT_PATH + \"mix.wav\"\n",
    "# Stem file paths (only used if RUN_STEM_MASTERING = True)\n",
    "# STEM_PATHS = {\n",
    "#     \"hats\": BASE_INPUT_PATH + \"hats.wav\",    # Update these paths\n",
    "#     \"bass\": BASE_INPUT_PATH + \"bass.wav\",     # to your actual\n",
    "#     \"music\": BASE_INPUT_PATH + \"music_no_guitars.wav\",    # Set to None if not available\n",
    "#     \"kick\": BASE_INPUT_PATH + \"kick.wav\",\n",
    "#     \"snare\": BASE_INPUT_PATH + \"snare.wav\",\n",
    "#     \"guitar\": BASE_INPUT_PATH + \"guitar.wav\",\n",
    "#\n",
    "# }\n",
    "STEM_PATHS = {\n",
    "    \"drums\": BASE_INPUT_PATH + \"drums.wav\",    # Update these paths\n",
    "    \"bass\": BASE_INPUT_PATH + \"bass.wav\",     # to your actual\n",
    "    \"vocals\": BASE_INPUT_PATH + \"vocals.wav\",   # \"/Users/itay/Documents/post_mix_data/stems/vocals.wav\",  # stem files\n",
    "    \"music\": BASE_INPUT_PATH + \"music.wav\"}\n",
    "# ============================================\n",
    "# STEM BALANCE CONTROL - ADD THIS HERE!\n",
    "# ============================================\n",
    "if RUN_STEM_MASTERING:\n",
    "  from stem_balance_helper import set_stem_balance\n",
    "  # set_stem_balance(\n",
    "  #     hats=0.15,\n",
    "  #     kick = 0.15,\n",
    "  #     snare = 0.15,\n",
    "  #     guitar = 0.15,\n",
    "  #     bass=0.2,\n",
    "  #     music =.35    # Make music louder\n",
    "  # )\n",
    "\n",
    "  set_stem_balance(\n",
    "      drums=0.9,\n",
    "      bass=0.8,\n",
    "      vocals=0.3,\n",
    "      music=.55    # Make music louder\n",
    "  )\n",
    "\n",
    "# Project settings\n",
    "PROJECT_NAME = \"postmix_dual_mode_v1\"\n",
    "\n",
    "# Processing options\n",
    "ENABLE_STREAMING_SIMULATION = True\n",
    "MAX_RECOMMENDATIONS = 3\n",
    "LEVEL_MATCH_LUFS = -14.0  # For A/B comparison previews\n",
    "REFERENCE_NAME = \"Original\"\n",
    "\n",
    "# Validate configuration\n",
    "print(f\"Project: {PROJECT_NAME}\")\n",
    "print(f\"🎯 Processing Modes Selected:\")\n",
    "if RUN_SINGLE_FILE:\n",
    "    print(f\"  ✅ Single-file processing: {MIX_SOURCE_PATH}\")\n",
    "if RUN_STEM_MASTERING:\n",
    "    valid_stems = [k for k, v in STEM_PATHS.items() if v is not None]\n",
    "    print(f\"  ✅ Stem mastering: {len(valid_stems)} stems ({', '.join(valid_stems)})\")\n",
    "if not RUN_SINGLE_FILE and not RUN_STEM_MASTERING:\n",
    "    print(\"  ⚠️  No processing modes selected!\")\n",
    "\n",
    "print(f\"📁 Workspace root: {CONFIG.workspace.get_workspace_root()}\")\n",
    "print(f\"Audio config: {CONFIG.audio.default_bit_depth} @ {CONFIG.audio.render_peak_target_dbfs} dBFS peak target\")\n",
    "print(f\"Processing config: Limiter attack={CONFIG.processing.limiter_attack_ms}ms, release={CONFIG.processing.limiter_release_ms}ms\")\n",
    "print(f\"\\n📍 IMPORTANT: All outputs will be saved to {CONFIG.workspace.get_workspace_root()}\")\n",
    "print(\"   This keeps your Git repo clean and prevents accidentally committing large audio files!\")\n",
    "\n",
    "if RUN_SINGLE_FILE and RUN_STEM_MASTERING:\n",
    "    print(\"\\n🆚 DUAL MODE: Both processing types will run for direct comparison!\")\n",
    "    print(\"   Output folders will be: single_file/ and stem_mastering/\")"
   ],
   "outputs": [
    {
     "name": "stdout",
     "output_type": "stream",
     "text": [
      "✅ Updated stem balance:\n",
      "🎚️  Current Stem Balance Settings:\n",
      "========================================\n",
      "drums   : 0.90 (+19.0dB) █████████\n",
      "bass    : 0.80 (+17.9dB) ████████\n",
      "vocals  : 0.30 (+11.0dB) ███\n",
      "music   : 0.55 (+14.8dB) █████\n",
      "kick    : 0.80 (+17.9dB) ████████\n",
      "snare   : 0.75 (+17.3dB) ███████\n",
      "hats    : 0.65 (+16.1dB) ██████\n",
      "backvocals: 0.70 (+16.7dB) ███████\n",
      "leadvocals: 0.90 (+19.0dB) █████████\n",
      "guitar  : 0.75 (+17.3dB) ███████\n",
      "keys    : 0.80 (+17.9dB) ████████\n",
      "strings : 0.85 (+18.4dB) ████████\n",
      "========================================\n",
      "Auto-gain compensation: True\n",
      "Target peak: 0.8 (-1.9 dBFS)\n",
      "Project: postmix_dual_mode_v1\n",
      "🎯 Processing Modes Selected:\n",
      "  ✅ Stem mastering: 4 stems (drums, bass, vocals, music)\n",
      "📁 Workspace root: /Users/itay/Documents/post_mix_data/PostMixRuns\n",
      "Audio config: PCM_24 @ -1.2 dBFS peak target\n",
      "Processing config: Limiter attack=1.0ms, release=50.0ms\n",
      "\n",
      "📍 IMPORTANT: All outputs will be saved to /Users/itay/Documents/post_mix_data/PostMixRuns\n",
      "   This keeps your Git repo clean and prevents accidentally committing large audio files!\n"
     ]
    }
   ],
   "execution_count": 2
  },
  {
   "cell_type": "code",
   "metadata": {
    "ExecuteTime": {
     "end_time": "2025-08-28T22:45:41.698927Z",
     "start_time": "2025-08-28T22:45:38.114091Z"
    }
   },
   "source": "# ============================================\n# MAIN PROCESSING PIPELINE - DUAL MODE\n# ============================================\n\ntry:\n    # 1) Setup workspace and logging\n    print(\"📁 Setting up workspace...\")\n    workspace_paths = make_workspace(project=PROJECT_NAME)\n    manifest = Manifest(project=PROJECT_NAME, workspace=workspace_paths)\n    \n    logger = RunLogger.start(workspace_paths.root, tag=PROJECT_NAME)\n    environment_info = capture_environment()\n    logger.log_event(\"env\", {\"environment\": environment_info})\n    \n    # Store results from each mode\n    single_file_data = None\n    stem_set_data = None\n    \n    # 2) Import and validate audio based on selected modes\n    if RUN_SINGLE_FILE:\n        print(\"📄 Importing single mix file...\")\n        \n        if not os.path.exists(MIX_SOURCE_PATH):\n            raise FileNotFoundError(f\"Audio file not found: {MIX_SOURCE_PATH}\")\n            \n        mix_path = import_mix(workspace_paths, MIX_SOURCE_PATH, alias=\"mix.wav\")\n        register_input(manifest, mix_path, alias=\"mix\")\n        register_and_log_artifact(manifest, logger, mix_path, kind=\"input\", \n                                 params={\"alias\": \"mix\", \"mode\": \"single_file\"}, stage=\"import_mix\")\n        \n        # Load and validate audio\n        audio_data, sample_rate = sf.read(mix_path)\n        ensure_audio_valid(audio_data, \"input mix\")\n        \n        # Print summary\n        audio_buffer = load_wav(mix_path)\n        print_audio_summary(audio_buffer, \"Original Mix (Single-File)\")\n        \n        single_file_data = {\n            \"audio_data\": audio_data,\n            \"sample_rate\": sample_rate,\n            \"mix_path\": mix_path,\n            \"audio_buffer\": audio_buffer\n        }\n        \n        print(\"✅ Single-file audio imported and validated successfully\")\n    \n    if RUN_STEM_MASTERING:\n        print(\"🎛️ Importing stems for stem mastering...\")\n        \n        # Validate stem paths\n        valid_stem_paths = {k: v for k, v in STEM_PATHS.items() if v and os.path.exists(v)}\n        if not valid_stem_paths:\n            print(\"❌ No valid stem files found for stem mastering - skipping stem mode\")\n            RUN_STEM_MASTERING = False\n        else:\n            print(f\"Found {len(valid_stem_paths)} valid stems: {', '.join(valid_stem_paths.keys())}\")\n            \n            # Load stem set\n            stem_set = load_stem_set(valid_stem_paths)\n            if not validate_stem_set(stem_set):\n                print(\"❌ Stem set validation failed - skipping stem mode\")\n                RUN_STEM_MASTERING = False\n            else:\n                # Register stems as inputs\n                for stem_type, stem_path in valid_stem_paths.items():\n                    imported_stem = import_mix(workspace_paths, stem_path, alias=f\"{stem_type}.wav\")\n                    register_input(manifest, imported_stem, alias=stem_type)\n                    register_and_log_artifact(manifest, logger, imported_stem, kind=\"stem_input\", \n                                             params={\"alias\": stem_type, \"stem_type\": stem_type, \"mode\": \"stem_mastering\"}, stage=\"import_stems\")\n                \n                stem_set_data = {\n                    \"stem_set\": stem_set,\n                    \"valid_stem_paths\": valid_stem_paths,\n                    \"sample_rate\": getattr(stem_set, list(valid_stem_paths.keys())[0]).sr\n                }\n                \n                print(f\"✅ Stems imported successfully: {len(valid_stem_paths)} stems loaded\")\n    \n    if not RUN_SINGLE_FILE and not RUN_STEM_MASTERING:\n        raise ValueError(\"No processing modes selected or available!\")\n        \nexcept Exception as e:\n    print(f\"❌ Setup failed: {e}\")\n    raise",
   "outputs": [
    {
     "name": "stdout",
     "output_type": "stream",
     "text": [
      "📁 Setting up workspace...\n",
      "Workspace created at: /Users/itay/Documents/post_mix_data/PostMixRuns/postmix_dual_mode_v1_20250828-224538\n",
      "🎛️ Importing stems for stem mastering...\n",
      "Found 4 valid stems: drums, bass, vocals, music\n",
      "✅ Loaded drums stem: 358.0s\n",
      "✅ Loaded bass stem: 358.0s\n",
      "✅ Loaded vocals stem: 358.0s\n",
      "✅ Loaded music stem: 358.0s\n",
      "✅ Found 4 active stems: drums, bass, vocals, music\n",
      "✅ All stems at 44100 Hz\n",
      "Imported mix → /Users/itay/Documents/post_mix_data/PostMixRuns/postmix_dual_mode_v1_20250828-224538/inputs/drums.wav\n",
      "Imported mix → /Users/itay/Documents/post_mix_data/PostMixRuns/postmix_dual_mode_v1_20250828-224538/inputs/bass.wav\n",
      "Imported mix → /Users/itay/Documents/post_mix_data/PostMixRuns/postmix_dual_mode_v1_20250828-224538/inputs/vocals.wav\n",
      "Imported mix → /Users/itay/Documents/post_mix_data/PostMixRuns/postmix_dual_mode_v1_20250828-224538/inputs/music.wav\n",
      "✅ Stems imported successfully: 4 stems loaded\n"
     ]
    }
   ],
   "execution_count": 3
  },
  {
   "cell_type": "code",
   "metadata": {
    "ExecuteTime": {
     "end_time": "2025-08-28T22:45:45.521338Z",
     "start_time": "2025-08-28T22:45:41.815211Z"
    }
   },
   "source": "# ============================================\n# ANALYSIS AND RECOMMENDATIONS - DUAL MODE\n# ============================================\n\ntry:\n    # Store analysis and plans for each mode\n    single_file_plan = None\n    stem_plan = None\n    analysis_results = {}\n    \n    # 3) Analyze audio for each selected mode\n    if RUN_SINGLE_FILE:\n        print(\"📊 Analyzing single-file audio...\")\n        \n        single_analysis = analyze_wav(single_file_data[\"mix_path\"])\n        analysis_results[\"single_file\"] = single_analysis\n        \n        # Log detailed metrics\n        logger.log_metrics(\"analysis_single_file\", {\n            \"sr\": single_analysis.sr, \n            \"duration_s\": single_analysis.duration_s,\n            \"peak_dbfs\": single_analysis.basic[\"peak_dbfs\"],\n            \"true_peak_dbfs\": single_analysis.true_peak_dbfs,\n            \"rms_dbfs\": single_analysis.basic[\"rms_dbfs\"],\n            \"lufs_integrated\": single_analysis.lufs_integrated,\n            \"crest_db\": single_analysis.basic[\"crest_db\"],\n            \"bass_energy_%\": single_analysis.bass_energy_pct,\n            \"air_energy_%\": single_analysis.air_energy_pct,\n            \"processing_mode\": \"single_file\"\n        })\n        \n        # Generate processing recommendations\n        print(\"🎯 Generating single-file recommendations...\")\n        single_recommendations = recommend_from_analysis(single_analysis)\n        print(\"SINGLE-FILE \" + recommendation_summary(single_recommendations))\n        \n        # Build comprehensive processing plan\n        single_file_plan = build_all_variants_plan(\n            single_recommendations, prefix=\"SF\", top_recommendations=MAX_RECOMMENDATIONS\n        )\n        \n        print(f\"✅ Generated {len(single_file_plan)} single-file variants\")\n    \n    if RUN_STEM_MASTERING:\n        print(\"📊 Analyzing stem audio...\")\n        \n        # Create temporary mix for analysis by summing stems\n        first_stem = getattr(stem_set_data[\"stem_set\"], list(stem_set_data[\"valid_stem_paths\"].keys())[0])\n        temp_mix_path = os.path.join(workspace_paths.inputs, \"temp_stem_sum.wav\")\n        stem_audio_sum = np.zeros((int(stem_set_data[\"stem_set\"].get_total_duration() * first_stem.sr), 2), dtype=np.float32)\n        \n        for stem_type in stem_set_data[\"stem_set\"].get_active_stems():\n            stem_audio = getattr(stem_set_data[\"stem_set\"], stem_type)\n            if stem_audio:\n                # Convert to stereo if mono\n                audio_array = stem_audio.samples\n                if audio_array.ndim == 1:\n                    audio_array = np.column_stack([audio_array, audio_array])\n                \n                # Add to sum (with length matching)\n                audio_len = min(len(audio_array), len(stem_audio_sum))\n                stem_audio_sum[:audio_len] += audio_array[:audio_len] * 0.25  # Scale down to avoid clipping\n        \n        # Save temporary sum for analysis\n        sf.write(temp_mix_path, stem_audio_sum, first_stem.sr, subtype=\"FLOAT\")\n        stem_analysis = analyze_wav(temp_mix_path)\n        analysis_results[\"stem_mastering\"] = stem_analysis\n        \n        # Log analysis with stem info\n        logger.log_metrics(\"analysis_stem_sum\", {\n            \"sr\": stem_analysis.sr, \n            \"duration_s\": stem_analysis.duration_s,\n            \"active_stems\": stem_set_data[\"stem_set\"].get_active_stems(),\n            \"total_stems\": len(stem_set_data[\"stem_set\"].get_active_stems()),\n            \"peak_dbfs\": stem_analysis.basic[\"peak_dbfs\"],\n            \"lufs_integrated\": stem_analysis.lufs_integrated,\n            \"processing_mode\": \"stem_mastering\"\n        })\n        \n        # Use configured stem combinations\n        stem_plan = CONFIG.pipeline.stem_combinations\n        print(f\"✅ Using {len(stem_plan)} stem combination variants\")\n        print(f\"🎛️ Stem combinations: {', '.join([combo[0] for combo in stem_plan])}\")\n    \n    # Log processing plans\n    logger.log_params(\"processing_plans\", {\n        \"single_file_plan_size\": len(single_file_plan) if single_file_plan else 0,\n        \"stem_plan_size\": len(stem_plan) if stem_plan else 0,\n        \"modes_active\": [mode for mode in [\"single_file\", \"stem_mastering\"] if globals()[f\"RUN_{mode.upper()}\"]],\n    }, code_versions={\"presets_recs\": CODE_VERSIONS[\"presets_recs\"]})\n    \n    print(\"✅ Analysis completed for all selected modes\")\n    \nexcept Exception as e:\n    print(f\"❌ Analysis failed: {e}\")\n    raise",
   "outputs": [
    {
     "name": "stdout",
     "output_type": "stream",
     "text": [
      "📊 Analyzing stem audio...\n",
      "✅ Using 34 stem combination variants\n",
      "🎛️ Stem combinations: Stem_PunchyMix, Stem_WideAndOpen, Stem_TightAndControlled, Stem_Aggressive, Stem_Balanced, Stem_RadioReady, Stem_LiveBand, Stem_EDM_Club, Stem_Intimate, Stem_Experimental, Stem_VintageSoul, Stem_ModernPop, Stem_HeavyRock, Stem_3D_Immersive, Stem_Cinematic_AI, Stem_Binaural_Psycho, Stem_VR_Experience, Stem_Quantum_Club, Stem_Neural_Trance, Stem_Breakbeat_Morph, Stem_Subliminal, Stem_Depth_Natural, Stem_Depth_Dramatic, Stem_Depth_Intimate, Stem_Depth_Stadium, Stem_Depth_VocalFocus, Stem_Musical_Balanced, Stem_Musical_VocalForward, Stem_Musical_Warm, Stem_Musical_Clear, Stem_Musical_Polished, Stem_RadioReady_Depth, Stem_Aggressive_Depth, Stem_PunchyMix_Depth\n",
      "✅ Analysis completed for all selected modes\n"
     ]
    }
   ],
   "execution_count": 4
  },
  {
   "cell_type": "code",
   "metadata": {
    "ExecuteTime": {
     "end_time": "2025-08-28T22:45:51.490319Z",
     "start_time": "2025-08-28T22:45:45.552756Z"
    }
   },
   "source": "# ============================================\n# PRE-MASTERING PROCESSING - DUAL MODE\n# ============================================\n\ntry:\n    # Store results from each mode\n    all_variant_metadata = []\n    \n    render_options = RenderOptions(\n        target_peak_dbfs=CONFIG.audio.render_peak_target_dbfs, \n        bit_depth=CONFIG.audio.default_bit_depth, \n        hpf_hz=None, \n        save_headroom_first=False\n    )\n    \n    # 5a) Single-file processing\n    if RUN_SINGLE_FILE and single_file_plan:\n        print(\"🔧 Single-file pre-mastering preparation...\")\n        \n        # Setup single-file render engine\n        sf_engine = RenderEngine(single_file_data[\"audio_data\"], single_file_data[\"sample_rate\"], \n                                 preprocess=PreprocessConfig(\n                                     low_cutoff=CONFIG.audio.prep_hpf_hz,\n                                     kick_lo=CONFIG.audio.kick_freq_low,\n                                     kick_hi=CONFIG.audio.kick_freq_high\n                                 ))\n        sf_preprocess_metadata = sf_engine.preprocess()\n        logger.log_params(\"single_file_preprocess_cache\", sf_preprocess_metadata, \n                         code_versions={\n                             \"processors\": CODE_VERSIONS[\"processors\"], \n                             \"render_engine\": CODE_VERSIONS[\"render_engine\"]\n                         })\n        \n        # Generate single-file variants in dedicated subfolder\n        sf_variant_dir = os.path.join(workspace_paths.outputs, \"single_file\", \"premasters\")\n        sf_variant_metadata = sf_engine.commit_variants(sf_variant_dir, single_file_plan, opts=render_options)\n        \n        # Tag metadata to identify processing mode\n        for meta in sf_variant_metadata:\n            meta[\"processing_mode\"] = \"single_file\"\n            register_and_log_artifact(manifest, logger, meta[\"out_path\"], \n                                     kind=\"sf_premaster\", params=meta, \n                                     stage=f\"single_file__{os.path.basename(meta['out_path'])}\")\n        \n        all_variant_metadata.extend(sf_variant_metadata)\n        print(f\"✅ Created {len(sf_variant_metadata)} single-file premaster variants\")\n    \n    # 5b) Stem mastering processing\n    if RUN_STEM_MASTERING and stem_plan:\n        print(\"🎛️ Stem mastering preparation...\")\n        \n        # Setup stem render engine\n        stem_engine = StemRenderEngine(stem_set_data[\"stem_set\"], \n                                     preprocess=PreprocessConfig(\n                                         low_cutoff=CONFIG.audio.prep_hpf_hz,\n                                         kick_lo=CONFIG.audio.kick_freq_low,\n                                         kick_hi=CONFIG.audio.kick_freq_high\n                                     ))\n        stem_preprocess_metadata = stem_engine.preprocess_all_stems()\n        logger.log_params(\"stem_preprocess_cache\", stem_preprocess_metadata, \n                         code_versions={\n                             \"stem_mastering\": CODE_VERSIONS.get(\"stem_mastering\", \"1.0\"),\n                             \"render_engine\": CODE_VERSIONS[\"render_engine\"]\n                         })\n        \n        # Process stem combinations in dedicated subfolder\n        stem_variant_dir = os.path.join(workspace_paths.outputs, \"stem_mastering\", \"premasters\")\n        stem_results = stem_engine.commit_stem_variants(\n            stem_variant_dir, stem_plan, opts=render_options\n        )\n        \n        # Convert stem results to compatible format\n        stem_variant_metadata = []\n        for variant_name, variant_data in stem_results.items():\n            stem_meta = {\n                \"out_path\": variant_data[\"final_mix_path\"],\n                \"variant_name\": variant_name,\n                \"stem_results\": variant_data[\"stem_results\"],\n                \"active_stems\": variant_data[\"active_stems\"],\n                \"processing_mode\": \"stem_mastering\"\n            }\n            stem_variant_metadata.append(stem_meta)\n            register_and_log_artifact(manifest, logger, variant_data[\"final_mix_path\"], \n                                     kind=\"stem_premaster\", params=variant_data, \n                                     stage=f\"stem_mastering__{variant_name}\")\n        \n        all_variant_metadata.extend(stem_variant_metadata)\n        print(f\"✅ Created {len(stem_variant_metadata)} stem-processed variants\")\n        print(f\"🎛️ Each variant intelligently combined {len(stem_set_data['stem_set'].get_active_stems())} stems\")\n    \n    if not all_variant_metadata:\n        raise ValueError(\"No variants were generated from any processing mode!\")\n    \n    total_single_file = len([v for v in all_variant_metadata if v.get(\"processing_mode\") == \"single_file\"])\n    total_stem = len([v for v in all_variant_metadata if v.get(\"processing_mode\") == \"stem_mastering\"])\n    \n    print(f\"\\n🎯 PRE-MASTERING SUMMARY:\")\n    print(f\"   📄 Single-file variants: {total_single_file}\")\n    print(f\"   🎛️ Stem mastering variants: {total_stem}\")\n    print(f\"   📊 Total variants for mastering: {len(all_variant_metadata)}\")\n    \n    # Store for next step\n    variant_metadata = all_variant_metadata\n\nexcept Exception as e:\n    print(f\"❌ Pre-mastering failed: {e}\")\n    raise\n\n# ============================================\n# MASTERING STEP - USING ORCHESTRATOR (CREATES FOLDERS!)\n# ============================================\n\ntry:\n    print(\"\\n🎭 Running mastering orchestration with PROPER FOLDER STRUCTURE...\")\n    \n    # Create mastering orchestrator\n    orchestrator = MasteringOrchestrator(workspace_paths, manifest)\n    provider = LocalMasterProvider(bit_depth=\"PCM_24\")\n    \n    # Process all premasters using the orchestrator\n    master_results = []\n    all_master_paths = []\n    \n    print(f\"📂 Found {len(variant_metadata)} premaster files to master\")\n    \n    for variant_meta in variant_metadata:\n        premaster_path = variant_meta[\"out_path\"]\n        \n        if not os.path.exists(premaster_path):\n            print(f\"⚠️ Skipping missing file: {premaster_path}\")\n            continue\n            \n        print(f\"\\n🎭 Mastering: {os.path.basename(premaster_path)}\")\n        \n        # Use the orchestrator to create proper folder structure\n        results = orchestrator.run(\n            premaster_path=premaster_path,\n            providers=[provider],\n            styles=None,  # Uses default 4 styles\n            out_tag=\"masters\",\n            level_match_preview_lufs=-14.0\n        )\n        \n        # Collect all result paths\n        for result in results:\n            master_results.append(result)\n            all_master_paths.append(result.out_path)\n            \n            # Also add the -14 LUFS versions (they're created automatically)\n            base_dir = os.path.dirname(result.out_path)\n            lufs_file = os.path.join(base_dir, f\"{result.style}_-14LUFS.wav\")\n            if os.path.exists(lufs_file):\n                all_master_paths.append(lufs_file)\n    \n    print(f\"\\n✅ Mastering completed successfully!\")\n    print(f\"📊 Results:\")\n    print(f\"   🎯 Master folders: {len(variant_metadata)}\")\n    print(f\"   📁 Total audio files: {len(all_master_paths)}\")\n    \n    # Show folder structure\n    masters_dir = os.path.join(workspace_paths.outputs, \"masters\")\n    if os.path.exists(masters_dir):\n        folders = [f for f in os.listdir(masters_dir) if os.path.isdir(os.path.join(masters_dir, f))]\n        print(f\"\\n📁 Master folders created:\")\n        for folder in sorted(folders):\n            folder_path = os.path.join(masters_dir, folder)\n            file_count = len([f for f in os.listdir(folder_path) if f.endswith('.wav')])\n            print(f\"   • {folder}/ ({file_count} files)\")\n    \n    # Update master_paths for later use\n    master_paths = all_master_paths\n    \n    print(f\"\\n🎊 MASTERS ARE NOW FOLDERS!\")\n    print(f\"Each master is a folder containing 8 audio files (4 styles × 2 versions)\")\n\nexcept Exception as e:\n    print(f\"❌ Mastering orchestration failed: {e}\")\n    raise",
   "outputs": [
    {
     "name": "stdout",
     "output_type": "stream",
     "text": [
      "🎛️ Stem mastering preparation...\n",
      "✅ Found 4 active stems: drums, bass, vocals, music\n",
      "✅ All stems at 44100 Hz\n"
     ]
    },
    {
     "ename": "KeyboardInterrupt",
     "evalue": "",
     "output_type": "error",
     "traceback": [
      "\u001B[0;31m---------------------------------------------------------------------------\u001B[0m",
      "\u001B[0;31mKeyboardInterrupt\u001B[0m                         Traceback (most recent call last)",
      "Cell \u001B[0;32mIn[5], line 59\u001B[0m\n\u001B[1;32m     52\u001B[0m \u001B[38;5;66;03m# Setup stem render engine\u001B[39;00m\n\u001B[1;32m     53\u001B[0m stem_engine \u001B[38;5;241m=\u001B[39m StemRenderEngine(stem_set_data[\u001B[38;5;124m\"\u001B[39m\u001B[38;5;124mstem_set\u001B[39m\u001B[38;5;124m\"\u001B[39m], \n\u001B[1;32m     54\u001B[0m                              preprocess\u001B[38;5;241m=\u001B[39mPreprocessConfig(\n\u001B[1;32m     55\u001B[0m                                  low_cutoff\u001B[38;5;241m=\u001B[39mCONFIG\u001B[38;5;241m.\u001B[39maudio\u001B[38;5;241m.\u001B[39mprep_hpf_hz,\n\u001B[1;32m     56\u001B[0m                                  kick_lo\u001B[38;5;241m=\u001B[39mCONFIG\u001B[38;5;241m.\u001B[39maudio\u001B[38;5;241m.\u001B[39mkick_freq_low,\n\u001B[1;32m     57\u001B[0m                                  kick_hi\u001B[38;5;241m=\u001B[39mCONFIG\u001B[38;5;241m.\u001B[39maudio\u001B[38;5;241m.\u001B[39mkick_freq_high\n\u001B[1;32m     58\u001B[0m                              ))\n\u001B[0;32m---> 59\u001B[0m stem_preprocess_metadata \u001B[38;5;241m=\u001B[39m \u001B[43mstem_engine\u001B[49m\u001B[38;5;241;43m.\u001B[39;49m\u001B[43mpreprocess_all_stems\u001B[49m\u001B[43m(\u001B[49m\u001B[43m)\u001B[49m\n\u001B[1;32m     60\u001B[0m logger\u001B[38;5;241m.\u001B[39mlog_params(\u001B[38;5;124m\"\u001B[39m\u001B[38;5;124mstem_preprocess_cache\u001B[39m\u001B[38;5;124m\"\u001B[39m, stem_preprocess_metadata, \n\u001B[1;32m     61\u001B[0m                  code_versions\u001B[38;5;241m=\u001B[39m{\n\u001B[1;32m     62\u001B[0m                      \u001B[38;5;124m\"\u001B[39m\u001B[38;5;124mstem_mastering\u001B[39m\u001B[38;5;124m\"\u001B[39m: CODE_VERSIONS\u001B[38;5;241m.\u001B[39mget(\u001B[38;5;124m\"\u001B[39m\u001B[38;5;124mstem_mastering\u001B[39m\u001B[38;5;124m\"\u001B[39m, \u001B[38;5;124m\"\u001B[39m\u001B[38;5;124m1.0\u001B[39m\u001B[38;5;124m\"\u001B[39m),\n\u001B[1;32m     63\u001B[0m                      \u001B[38;5;124m\"\u001B[39m\u001B[38;5;124mrender_engine\u001B[39m\u001B[38;5;124m\"\u001B[39m: CODE_VERSIONS[\u001B[38;5;124m\"\u001B[39m\u001B[38;5;124mrender_engine\u001B[39m\u001B[38;5;124m\"\u001B[39m]\n\u001B[1;32m     64\u001B[0m                  })\n\u001B[1;32m     66\u001B[0m \u001B[38;5;66;03m# Process stem combinations in dedicated subfolder\u001B[39;00m\n",
      "File \u001B[0;32m~/Documents/GitHub/post_mix_analysis/render_engine.py:236\u001B[0m, in \u001B[0;36mStemRenderEngine.preprocess_all_stems\u001B[0;34m(self)\u001B[0m\n\u001B[1;32m    234\u001B[0m metadata \u001B[38;5;241m=\u001B[39m {}\n\u001B[1;32m    235\u001B[0m \u001B[38;5;28;01mfor\u001B[39;00m stem_type, engine \u001B[38;5;129;01min\u001B[39;00m \u001B[38;5;28mself\u001B[39m\u001B[38;5;241m.\u001B[39mstem_engines\u001B[38;5;241m.\u001B[39mitems():\n\u001B[0;32m--> 236\u001B[0m     metadata[stem_type] \u001B[38;5;241m=\u001B[39m \u001B[43mengine\u001B[49m\u001B[38;5;241;43m.\u001B[39;49m\u001B[43mpreprocess\u001B[49m\u001B[43m(\u001B[49m\u001B[43m)\u001B[49m\n\u001B[1;32m    237\u001B[0m \u001B[38;5;28;01mreturn\u001B[39;00m metadata\n",
      "File \u001B[0;32m~/Documents/GitHub/post_mix_analysis/render_engine.py:53\u001B[0m, in \u001B[0;36mRenderEngine.preprocess\u001B[0;34m(self)\u001B[0m\n\u001B[1;32m     51\u001B[0m \u001B[38;5;28;01mdef\u001B[39;00m\u001B[38;5;250m \u001B[39m\u001B[38;5;21mpreprocess\u001B[39m(\u001B[38;5;28mself\u001B[39m) \u001B[38;5;241m-\u001B[39m\u001B[38;5;241m>\u001B[39m Dict[\u001B[38;5;28mstr\u001B[39m, Any]:\n\u001B[1;32m     52\u001B[0m \u001B[38;5;250m    \u001B[39m\u001B[38;5;124;03m\"\"\"Build fast preview cache (low/high split, kick band, envelope).\"\"\"\u001B[39;00m\n\u001B[0;32m---> 53\u001B[0m     \u001B[38;5;28mself\u001B[39m\u001B[38;5;241m.\u001B[39mcache \u001B[38;5;241m=\u001B[39m \u001B[43mbuild_preview_cache\u001B[49m\u001B[43m(\u001B[49m\n\u001B[1;32m     54\u001B[0m \u001B[43m        \u001B[49m\u001B[38;5;28;43mself\u001B[39;49m\u001B[38;5;241;43m.\u001B[39;49m\u001B[43mx\u001B[49m\u001B[43m,\u001B[49m\u001B[43m \u001B[49m\u001B[38;5;28;43mself\u001B[39;49m\u001B[38;5;241;43m.\u001B[39;49m\u001B[43msr\u001B[49m\u001B[43m,\u001B[49m\n\u001B[1;32m     55\u001B[0m \u001B[43m        \u001B[49m\u001B[43mlow_cutoff\u001B[49m\u001B[38;5;241;43m=\u001B[39;49m\u001B[38;5;28;43mself\u001B[39;49m\u001B[38;5;241;43m.\u001B[39;49m\u001B[43mpre_cfg\u001B[49m\u001B[38;5;241;43m.\u001B[39;49m\u001B[43mlow_cutoff\u001B[49m\u001B[43m,\u001B[49m\n\u001B[1;32m     56\u001B[0m \u001B[43m        \u001B[49m\u001B[43mkick_lo\u001B[49m\u001B[38;5;241;43m=\u001B[39;49m\u001B[38;5;28;43mself\u001B[39;49m\u001B[38;5;241;43m.\u001B[39;49m\u001B[43mpre_cfg\u001B[49m\u001B[38;5;241;43m.\u001B[39;49m\u001B[43mkick_lo\u001B[49m\u001B[43m,\u001B[49m\n\u001B[1;32m     57\u001B[0m \u001B[43m        \u001B[49m\u001B[43mkick_hi\u001B[49m\u001B[38;5;241;43m=\u001B[39;49m\u001B[38;5;28;43mself\u001B[39;49m\u001B[38;5;241;43m.\u001B[39;49m\u001B[43mpre_cfg\u001B[49m\u001B[38;5;241;43m.\u001B[39;49m\u001B[43mkick_hi\u001B[49m\n\u001B[1;32m     58\u001B[0m \u001B[43m    \u001B[49m\u001B[43m)\u001B[49m\n\u001B[1;32m     59\u001B[0m     \u001B[38;5;28;01mreturn\u001B[39;00m {\n\u001B[1;32m     60\u001B[0m         \u001B[38;5;124m\"\u001B[39m\u001B[38;5;124msr\u001B[39m\u001B[38;5;124m\"\u001B[39m: \u001B[38;5;28mself\u001B[39m\u001B[38;5;241m.\u001B[39msr,\n\u001B[1;32m     61\u001B[0m         \u001B[38;5;124m\"\u001B[39m\u001B[38;5;124mn_samples\u001B[39m\u001B[38;5;124m\"\u001B[39m: \u001B[38;5;28mint\u001B[39m(\u001B[38;5;28mself\u001B[39m\u001B[38;5;241m.\u001B[39mx\u001B[38;5;241m.\u001B[39mshape[\u001B[38;5;241m0\u001B[39m]),\n\u001B[0;32m   (...)\u001B[0m\n\u001B[1;32m     64\u001B[0m         \u001B[38;5;124m\"\u001B[39m\u001B[38;5;124mkick_hi\u001B[39m\u001B[38;5;124m\"\u001B[39m: \u001B[38;5;28mself\u001B[39m\u001B[38;5;241m.\u001B[39mpre_cfg\u001B[38;5;241m.\u001B[39mkick_hi\n\u001B[1;32m     65\u001B[0m     }\n",
      "File \u001B[0;32m~/Documents/GitHub/post_mix_analysis/processors.py:198\u001B[0m, in \u001B[0;36mbuild_preview_cache\u001B[0;34m(x, sr, low_cutoff, kick_lo, kick_hi)\u001B[0m\n\u001B[1;32m    196\u001B[0m high \u001B[38;5;241m=\u001B[39m x \u001B[38;5;241m-\u001B[39m low\n\u001B[1;32m    197\u001B[0m kick \u001B[38;5;241m=\u001B[39m bandpass_filter(x, sr, f_lo\u001B[38;5;241m=\u001B[39mkick_lo, f_hi\u001B[38;5;241m=\u001B[39mkick_hi, order\u001B[38;5;241m=\u001B[39m\u001B[38;5;241m4\u001B[39m)\n\u001B[0;32m--> 198\u001B[0m env \u001B[38;5;241m=\u001B[39m \u001B[43m_envelope_detector\u001B[49m\u001B[43m(\u001B[49m\u001B[43m_mono\u001B[49m\u001B[43m(\u001B[49m\u001B[43mkick\u001B[49m\u001B[43m)\u001B[49m\u001B[43m,\u001B[49m\u001B[43m \u001B[49m\u001B[43msr\u001B[49m\u001B[43m,\u001B[49m\u001B[43m \u001B[49m\u001B[43mattack_ms\u001B[49m\u001B[38;5;241;43m=\u001B[39;49m\u001B[38;5;241;43m4.0\u001B[39;49m\u001B[43m,\u001B[49m\u001B[43m \u001B[49m\u001B[43mrelease_ms\u001B[49m\u001B[38;5;241;43m=\u001B[39;49m\u001B[38;5;241;43m90.0\u001B[39;49m\u001B[43m)\u001B[49m\n\u001B[1;32m    199\u001B[0m p95 \u001B[38;5;241m=\u001B[39m np\u001B[38;5;241m.\u001B[39mpercentile(env, \u001B[38;5;241m95\u001B[39m) \u001B[38;5;28;01mif\u001B[39;00m env\u001B[38;5;241m.\u001B[39msize \u001B[38;5;28;01melse\u001B[39;00m \u001B[38;5;241m0.0\u001B[39m\n\u001B[1;32m    200\u001B[0m env01 \u001B[38;5;241m=\u001B[39m np\u001B[38;5;241m.\u001B[39mzeros_like(env, dtype\u001B[38;5;241m=\u001B[39mnp\u001B[38;5;241m.\u001B[39mfloat32) \u001B[38;5;28;01mif\u001B[39;00m p95 \u001B[38;5;241m<\u001B[39m\u001B[38;5;241m=\u001B[39m \u001B[38;5;241m1e-9\u001B[39m \u001B[38;5;28;01melse\u001B[39;00m np\u001B[38;5;241m.\u001B[39mclip(env \u001B[38;5;241m/\u001B[39m p95, \u001B[38;5;241m0.0\u001B[39m, \u001B[38;5;241m1.0\u001B[39m)\u001B[38;5;241m.\u001B[39mastype(np\u001B[38;5;241m.\u001B[39mfloat32)\n",
      "File \u001B[0;32m~/Documents/GitHub/post_mix_analysis/processors.py:56\u001B[0m, in \u001B[0;36m_envelope_detector\u001B[0;34m(mono, sr, attack_ms, release_ms)\u001B[0m\n\u001B[1;32m     54\u001B[0m prev \u001B[38;5;241m=\u001B[39m \u001B[38;5;241m0.0\u001B[39m\n\u001B[1;32m     55\u001B[0m \u001B[38;5;28;01mfor\u001B[39;00m i, v \u001B[38;5;129;01min\u001B[39;00m \u001B[38;5;28menumerate\u001B[39m(np\u001B[38;5;241m.\u001B[39mabs(mono)):\n\u001B[0;32m---> 56\u001B[0m     \u001B[38;5;28;01mif\u001B[39;00m v \u001B[38;5;241m>\u001B[39m prev:\n\u001B[1;32m     57\u001B[0m         prev \u001B[38;5;241m=\u001B[39m a_a\u001B[38;5;241m*\u001B[39mprev \u001B[38;5;241m+\u001B[39m (\u001B[38;5;241m1\u001B[39m \u001B[38;5;241m-\u001B[39m a_a)\u001B[38;5;241m*\u001B[39mv\n\u001B[1;32m     58\u001B[0m     \u001B[38;5;28;01melse\u001B[39;00m:\n",
      "\u001B[0;31mKeyboardInterrupt\u001B[0m: "
     ]
    }
   ],
   "execution_count": 5
  },
  {
   "cell_type": "code",
   "source": "# ============================================\n# SKIP ALL REPORTING - AUDIO FILES ONLY\n# ============================================\n\nprint(\"⚡ Skipping all reporting steps - focusing on audio file creation only\")\nprint(\"✅ Audio processing complete - ready for listening tests\")\nprint(\"📁 All files available in workspace for immediate use\")\n\n# No streaming simulation\n# No comparison reports  \n# No heavy analysis\n# Just the audio files you need",
   "metadata": {},
   "outputs": [],
   "execution_count": null
  },
  {
   "cell_type": "code",
   "source": "# ============================================\n# MINIMAL SUMMARY - FILES ONLY\n# ============================================\n\nprint(\"📁 FINAL SUMMARY - AUDIO FILES READY\")\nprint(\"=\"*50)\nprint(f\"Workspace: {workspace_paths.root}\")\n\ntotal_single_file = len([v for v in variant_metadata if v.get(\"processing_mode\") == \"single_file\"])\ntotal_stem = len([v for v in variant_metadata if v.get(\"processing_mode\") == \"stem_mastering\"])\n\nif RUN_SINGLE_FILE:\n    print(f\"\\n📄 Single-File: {total_single_file} variants\")\n    print(f\"   📁 {workspace_paths.root}/outputs/single_file/\")\n\nif RUN_STEM_MASTERING:\n    print(f\"\\n🎛️ Stem Mastering: {total_stem} variants\") \n    print(f\"   📁 {workspace_paths.root}/outputs/stem_mastering/\")\n\nprint(f\"\\n🎧 READY FOR A/B TESTING!\")\nprint(\"⚡ No reports = faster workflow!\")",
   "metadata": {},
   "outputs": [],
   "execution_count": null
  },
  {
   "cell_type": "code",
   "source": "# ============================================\n# FINALIZATION AND SUMMARY - DUAL MODE\n# ============================================\n\ntry:\n    # 7) Create reproducibility bundle\n    print(\"📦 Creating reproducibility bundle...\")\n    \n    bundle_path = os.path.join(workspace_paths.reports, \"bundles\", f\"{logger.run_id}.zip\")\n    \n    # Include all outputs from both processing modes\n    all_outputs = list(set(master_paths))\n    \n    reproducibility_zip = make_repro_zip(\n        bundle_path,\n        workspace_root=workspace_paths.root,\n        run_logger=logger,\n        env_info=environment_info,\n        inputs=([single_file_data[\"mix_path\"]] if single_file_data else []) + \n               (list(stem_set_data[\"valid_stem_paths\"].values()) if stem_set_data else []),\n        outputs=all_outputs,\n        extra_jsons={\n            \"code_versions\": CODE_VERSIONS, \n            \"processing_modes\": {\n                \"single_file_enabled\": RUN_SINGLE_FILE,\n                \"stem_mastering_enabled\": RUN_STEM_MASTERING,\n                \"single_file_variants\": len([v for v in variant_metadata if v.get(\"processing_mode\") == \"single_file\"]),\n                \"stem_variants\": len([v for v in variant_metadata if v.get(\"processing_mode\") == \"stem_mastering\"])\n            },\n            \"configuration\": CONFIG.to_dict(),\n            \"pipeline_version\": \"3.0_dual_mode\",\n            \"folder_structure\": {\n                \"single_file\": \"single_file/premasters/ → single_file/masters/\",\n                \"stem_mastering\": \"stem_mastering/premasters/ → stem_mastering/masters/\",\n                \"note\": \"Organized by processing mode for easy comparison\"\n            }\n        },\n        readme_text=\"Dual-mode post-mix pipeline with both single-file and stem mastering capabilities. Results organized by processing mode for direct comparison.\"\n    )\n    \n    register_and_log_artifact(manifest, logger, reproducibility_zip, \n                             kind=\"bundle\", params={\"run_id\": logger.run_id, \"version\": \"3.0\"}, \n                             stage=\"repro_zip\")\n    \n    # 8) Write final summary\n    logger.write_summary({\n        \"pipeline_version\": \"3.0_dual_mode\",\n        \"project\": PROJECT_NAME,\n        \"run_id\": logger.run_id,\n        \"processing_modes\": {\n            \"single_file\": RUN_SINGLE_FILE,\n            \"stem_mastering\": RUN_STEM_MASTERING\n        },\n        \"inputs\": {\n            \"single_file\": single_file_data[\"mix_path\"] if single_file_data else None,\n            \"stems\": list(stem_set_data[\"valid_stem_paths\"].values()) if stem_set_data else []\n        },\n        \"outputs\": {\n            \"total_variants\": len(variant_metadata),\n            \"total_masters\": len(master_paths),\n            \"single_file_variants\": len([v for v in variant_metadata if v.get(\"processing_mode\") == \"single_file\"]),\n            \"stem_variants\": len([v for v in variant_metadata if v.get(\"processing_mode\") == \"stem_mastering\"])\n        },\n        \"configuration_snapshot\": CONFIG.to_dict(),\n        \"environment_hash\": json_sha256(environment_info)\n    })\n    \n    write_manifest(manifest)\n    \n    print(\"\\\\n\" + \"=\"*60)\n    print(\"🎉 DUAL-MODE PROCESSING COMPLETED SUCCESSFULLY!\")\n    print(\"=\"*60)\n    print(f\"📁 Workspace: {workspace_paths.root}\")\n    \n    total_single_file = len([v for v in variant_metadata if v.get(\"processing_mode\") == \"single_file\"])\n    total_stem = len([v for v in variant_metadata if v.get(\"processing_mode\") == \"stem_mastering\"])\n    \n    if RUN_SINGLE_FILE:\n        print(f\"\\\\n📄 Single-File Processing:\")\n        print(f\"   Input: {single_file_data['mix_path'] if single_file_data else 'None'}\")\n        print(f\"   Variants: {total_single_file}\")\n        print(f\"   Location: single_file/\")\n    \n    if RUN_STEM_MASTERING:\n        print(f\"\\\\n🎛️ Stem Mastering:\")\n        if stem_set_data:\n            print(f\"   Stems: {', '.join(stem_set_data['valid_stem_paths'].keys())}\")\n        print(f\"   Variants: {total_stem}\")\n        print(f\"   Location: stem_mastering/\")\n    \n    print(f\"\\\\n📊 Total Results:\")\n    print(f\"   Variants: {len(variant_metadata)}\")\n    print(f\"   Masters: {len(master_paths)}\")\n    print(f\"   Organized in: {len(variant_metadata)} variant subfolders\")\n    \n    print(f\"\\\\n📦 Bundle: {reproducibility_zip}\")\n    print(\"\\\\n✨ Ready for A/B comparison between processing modes!\")\n    \nexcept Exception as e:\n    print(f\"❌ Finalization failed: {e}\")\n    raise",
   "metadata": {},
   "outputs": [],
   "execution_count": null
  },
  {
   "cell_type": "code",
   "source": "# This cell has been removed - mastering is now integrated into cell-6",
   "metadata": {},
   "outputs": [],
   "execution_count": null
  },
  {
   "cell_type": "code",
   "metadata": {},
   "source": "## Summary of Improvements\n\nThis cleaned up version includes:\n\n### ✅ **Code Quality Improvements**\n- Removed duplicate mastering provider classes\n- Consolidated audio conversion logic into `audio_utils.py`\n- Fixed naming inconsistencies throughout codebase\n- Eliminated redundant functions and utilities\n\n### ✅ **Configuration Management**\n- Centralized configuration system in `config.py`\n- Environment variable support for key settings\n- Consistent parameter usage across all modules\n- Configuration versioning and snapshots\n\n### ✅ **Error Handling**\n- Proper exception handling with specific error types\n- Input validation for all audio processing functions\n- Graceful failure recovery where possible\n- Detailed error messages for debugging\n\n### ✅ **Architecture Improvements**\n- Simplified over-engineered abstractions\n- Cleaner separation of concerns\n- More maintainable and readable code structure\n- Better documentation and type hints\n\n### 🎛️ **NEW: Stem Mastering Integration**\n- **Dual-mode processing**: Choose between single-file or 4-stem processing\n- **Intelligent stem processing**: Category-specific dial optimization (drums, bass, vocals, music)\n- **Smart stem summing**: Automatic gain staging and bus compression\n- **5 stem combinations**: Punchy Mix, Wide & Open, Tight & Controlled, Aggressive, Balanced\n- **Backward compatibility**: Existing single-file pipeline unchanged\n\n### 🔧 **Next Steps for Further Improvement**\n- Add unit tests for all modules\n- Implement async processing for better performance  \n- Add more streaming platform profiles\n- Create CLI interface for batch processing\n- Add real-time monitoring and progress bars\n- Expand stem categories and processing variants",
   "outputs": [],
   "execution_count": null
  }
 ],
 "metadata": {
  "kernelspec": {
   "display_name": "Python 3",
   "language": "python",
   "name": "python3"
  },
  "language_info": {
   "codemirror_mode": {
    "name": "ipython",
    "version": 3
   },
   "file_extension": ".py",
   "mimetype": "text/x-python",
   "name": "python",
   "nbconvert_exporter": "python",
   "pygments_lexer": "ipython3",
   "version": "3.8.0"
  }
 },
 "nbformat": 4,
 "nbformat_minor": 4
}
