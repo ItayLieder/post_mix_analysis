{
 "cells": [
  {
   "metadata": {},
   "cell_type": "markdown",
   "source": ""
  },
  {
   "cell_type": "markdown",
   "metadata": {},
   "source": [
    "# Post-Mix Analysis Pipeline - Cleaned Up Version\n",
    "\n",
    "This notebook provides a streamlined end-to-end audio post-production pipeline:\n",
    "1. Audio import and analysis\n",
    "2. Pre-mastering preparation \n",
    "3. Mastering with different styles\n",
    "4. Streaming platform simulation\n",
    "5. Comparison reporting\n",
    "\n",
    "**Key improvements in this version:**\n",
    "- Centralized configuration system\n",
    "- Proper error handling\n",
    "- Eliminated code duplication\n",
    "- Consistent naming conventions\n",
    "- Modular, reusable components"
   ]
  },
  {
   "cell_type": "code",
   "metadata": {
    "ExecuteTime": {
     "end_time": "2025-08-26T18:21:54.601758Z",
     "start_time": "2025-08-26T18:21:53.611541Z"
    }
   },
   "source": [
    "# Import all required modules with cleaned up dependencies\n",
    "from __future__ import annotations\n",
    "import sys\n",
    "import importlib\n",
    "\n",
    "# Force reload the mastering orchestrator\n",
    "if 'mastering_orchestrator' in sys.modules:\n",
    "  importlib.reload(sys.modules['mastering_orchestrator'])\n",
    "\n",
    "# Re-import\n",
    "from mastering_orchestrator import MasteringOrchestrator, LocalMasterProvider\n",
    "print(\"✅ Modules reloaded with latest changes!\")\n",
    "# Core modules \n",
    "import os\n",
    "import json\n",
    "import numpy as np\n",
    "import soundfile as sf\n",
    "import pandas as pd\n",
    "import matplotlib.pyplot as plt\n",
    "from dataclasses import asdict\n",
    "\n",
    "# Project modules (now cleaned up)\n",
    "from config import CONFIG, CFG  # New centralized configuration\n",
    "from audio_utils import validate_audio  # New utilities\n",
    "from utils import ensure_audio_valid  # Audio validation from utils\n",
    "from data_handler import *\n",
    "from analysis import *\n",
    "from dsp_premitives import *\n",
    "from processors import *\n",
    "from render_engine import *\n",
    "from pre_master_prep import *\n",
    "from streaming_normalization_simulator import *\n",
    "from comparison_reporting import *\n",
    "from presets_recommendations import *\n",
    "from logging_versioning import *\n",
    "from utils import *\n",
    "from mastering_orchestrator import *\n",
    "from stem_mastering import *  # New stem mastering capabilities\n",
    "\n",
    "print(\"✓ All modules loaded successfully with improved error handling and configuration\")\n",
    "print(f\"✓ Using configuration version: {CONFIG.to_dict()['audio']}\")\n",
    "print(f\"✓ Workspace configured: {CONFIG.workspace.get_workspace_root()}\")\n",
    "print(f\"✓ Processing mode configured: {CONFIG.pipeline.get_processing_mode()}\")\n",
    "if CONFIG.pipeline.is_stem_mode():\n",
    "    print(\"✓ Stem mastering enabled - 4-category intelligent processing available\")\n",
    "else:\n",
    "    print(\"✓ Single-file processing mode - traditional pipeline\")"
   ],
   "outputs": [
    {
     "name": "stdout",
     "output_type": "stream",
     "text": [
      "Post-Mix I/O layer loaded: AudioBuffer, load_wav, save_wav, resample_poly, slice_preview, with_suffix, auto_out_path, sha256_file, print_audio_summary.\n",
      "Convenience helpers loaded: make_workspace, batch_load_wavs, env_fingerprint, Manifest, write/read_manifest, register_input, register_artifact, import_mix.\n",
      "✅ Modules reloaded with latest changes!\n",
      "Analysis layer loaded: analyze_wav/analyze_audio_array, analysis_table, plot_spectrum, plot_short_term_loudness, plot_waveform_excerpt, LUFS approx, true-peak approx, stereo & health metrics.\n",
      "DSP Primitives Layer loaded:\n",
      "- Gain/level: apply_gain_db, normalize_peak, normalize_lufs, measure_peak, measure_rms\n",
      "- Filters: highpass_filter, lowpass_filter, bandpass_filter, shelf_filter, peaking_eq, notch_filter, tilt_eq\n",
      "- Stereo: mid_side_encode, mid_side_decode, stereo_widener\n",
      "- Dynamics: compressor (soft‑knee), transient_shaper\n",
      "- Fades: fade_in, fade_out\n",
      "- K‑weighting/LUFS approx: k_weight, lufs_integrated_approx\n",
      "Patched: render_from_cache now unpacks widen_stereo tuple correctly.\n",
      "Processors (Feature Macros) loaded: make_bassier, make_punchier, reduce_mud, add_air, widen_stereo, premaster_prep, build_preview_cache, render_from_cache.\n",
      "Comparison & Reporting layer loaded:\n",
      "- collect_metrics, build_comparison_tables\n",
      "- plot_overlays (saves to reports/)\n",
      "- make_blind_ab_pack (optional)\n",
      "- write_report_html (self-contained)\n",
      "- write_report_bundle (one-shot with manifest)\n",
      "Presets & Recommendations layer loaded:\n",
      "- PRESETS dict, list_presets(), get_preset(name)\n",
      "- recommend_from_analysis(rep) → [Recommendation]\n",
      "- build_premaster_plan_from_recs(recs, limit) [legacy]\n",
      "- build_all_variants_plan(recs, prefix, top_recommendations) [comprehensive]\n",
      "- recommend_mastering_styles_from_metrics(rep)\n",
      "- recommendation_summary(recs)\n",
      "Logging · Versioning · Reproducibility layer loaded:\n",
      "- RunLogger.start(workspace_root, tag) → logger\n",
      "- logger.log_params/metrics/artifact(), logger.write_summary()\n",
      "- capture_environment(), file_sha256(), capture_config_snapshot()\n",
      "- processing_digest(name, code_versions, params)\n",
      "- make_repro_zip(out_zip, workspace_root, logger, env_info, inputs, outputs)\n",
      "- register_and_log_artifact(manifest, logger, path, kind, params, stage)\n",
      "- CODE_VERSIONS dict (update per layer when you change code)\n",
      "Stem Mastering module loaded:\n",
      "- StemSet dataclass for 4-stem organization\n",
      "- STEM_VARIANTS with category-specific dial settings\n",
      "- STEM_COMBINATIONS for intelligent stem processing\n",
      "- load_stem_set(), validate_stem_set(), create_stem_variants()\n",
      "- Compatible with existing single-file pipeline\n",
      "✓ All modules loaded successfully with improved error handling and configuration\n",
      "✓ Using configuration version: {'default_bit_depth': 'PCM_24', 'default_sample_rate': 48000, 'max_clip_range': 4.0, 'safe_clip_range': 1.0, 'prep_hpf_hz': 20.0, 'prep_peak_target_dbfs': -6.0, 'render_peak_target_dbfs': -1.0, 'true_peak_ceiling_db': -1.0, 'lufs_bs1770_offset': -0.691, 'oversample_factor': 4, 'bass_freq_low': 20.0, 'bass_freq_high': 120.0, 'air_freq_low': 8000.0, 'kick_freq_low': 40.0, 'kick_freq_high': 110.0, 'subsonic_cutoff': 30.0}\n",
      "✓ Workspace configured: /Users/itay/Documents/post_mix_data/PostMixRuns\n",
      "✓ Processing mode configured: single_file\n",
      "✓ Single-file processing mode - traditional pipeline\n"
     ]
    }
   ],
   "execution_count": 1
  },
  {
   "cell_type": "markdown",
   "metadata": {},
   "source": "## Dual Processing Modes\n\nThis pipeline now supports **two processing modes**:\n\n### 🎛️ **Stem Mastering Mode** (NEW!)\n- Process 4 stem categories separately: **drums**, **bass**, **vocals**, **music** \n- Each stem gets optimized processing based on its content type\n- Intelligent stem summing with category-specific gain staging\n- 5 stem combinations: Punchy Mix, Wide & Open, Tight & Controlled, Aggressive, Balanced\n- Set `RUN_STEM_MASTERING = True` and configure `STEM_PATHS`\n\n### 📄 **Single-File Mode** (Traditional)\n- Process complete stereo mix with dial-based variants\n- 38+ processing variants including presets and recommendations\n- Genre-specific and style-specific processing options  \n- Set `RUN_SINGLE_FILE = True` (default)\n\nBoth modes produce organized output folders and comprehensive reports for A/B comparison."
  },
  {
   "metadata": {
    "ExecuteTime": {
     "end_time": "2025-08-26T18:21:54.615149Z",
     "start_time": "2025-08-26T18:21:54.609504Z"
    }
   },
   "cell_type": "code",
   "source": [
    "# ============================================\n",
    "# CONFIGURATION - Edit these values as needed\n",
    "# ============================================\n",
    "\n",
    "# ============================================\n",
    "# PROCESSING MODE SELECTION\n",
    "# ============================================\n",
    "# Choose processing modes to run:\n",
    "# - Set RUN_SINGLE_FILE = True to run traditional single-file processing\n",
    "# - Set RUN_STEM_MASTERING = True to run 4-stem intelligent processing\n",
    "# - Set BOTH to True to compare single-file vs stem mastering results!\n",
    "\n",
    "RUN_SINGLE_FILE = True      # Run traditional single-file processing\n",
    "RUN_STEM_MASTERING = True   # Run stem mastering processing\n",
    "\n",
    "# Single file input (used when RUN_SINGLE_FILE = True)\n",
    "BASE_INPUT_PATH = \"/Users/itay/Documents/post_mix_data/mixes/crashing_stems/\"\n",
    "\n",
    "MIX_SOURCE_PATH = BASE_INPUT_PATH + \"mix.wav\"\n",
    "# Stem file paths (only used if RUN_STEM_MASTERING = True)\n",
    "STEM_PATHS = {\n",
    "    \"drums\": BASE_INPUT_PATH + \"drums.wav\",    # Update these paths\n",
    "    \"bass\": BASE_INPUT_PATH + \"bass.wav\",     # to your actual\n",
    "    \"vocals\": BASE_INPUT_PATH + \"vocals.wav\",   # \"/Users/itay/Documents/post_mix_data/stems/vocals.wav\",  # stem files\n",
    "    \"music\": BASE_INPUT_PATH + \"music.wav\"    # Set to None if not available\n",
    "}\n",
    "\n",
    "# Project settings\n",
    "PROJECT_NAME = \"postmix_dual_mode_v1\"\n",
    "\n",
    "# Processing options\n",
    "ENABLE_STREAMING_SIMULATION = True\n",
    "MAX_RECOMMENDATIONS = 3\n",
    "LEVEL_MATCH_LUFS = -14.0  # For A/B comparison previews\n",
    "REFERENCE_NAME = \"Original\"\n",
    "\n",
    "# Validate configuration\n",
    "print(f\"Project: {PROJECT_NAME}\")\n",
    "print(f\"🎯 Processing Modes Selected:\")\n",
    "if RUN_SINGLE_FILE:\n",
    "    print(f\"  ✅ Single-file processing: {MIX_SOURCE_PATH}\")\n",
    "if RUN_STEM_MASTERING:\n",
    "    valid_stems = [k for k, v in STEM_PATHS.items() if v is not None]\n",
    "    print(f\"  ✅ Stem mastering: {len(valid_stems)} stems ({', '.join(valid_stems)})\")\n",
    "if not RUN_SINGLE_FILE and not RUN_STEM_MASTERING:\n",
    "    print(\"  ⚠️  No processing modes selected!\")\n",
    "\n",
    "print(f\"📁 Workspace root: {CONFIG.workspace.get_workspace_root()}\")\n",
    "print(f\"Audio config: {CONFIG.audio.default_bit_depth} @ {CONFIG.audio.render_peak_target_dbfs} dBFS peak target\")\n",
    "print(f\"Processing config: Limiter attack={CONFIG.processing.limiter_attack_ms}ms, release={CONFIG.processing.limiter_release_ms}ms\")\n",
    "print(f\"\\n📍 IMPORTANT: All outputs will be saved to {CONFIG.workspace.get_workspace_root()}\")\n",
    "print(\"   This keeps your Git repo clean and prevents accidentally committing large audio files!\")\n",
    "\n",
    "if RUN_SINGLE_FILE and RUN_STEM_MASTERING:\n",
    "    print(\"\\n🆚 DUAL MODE: Both processing types will run for direct comparison!\")\n",
    "    print(\"   Output folders will be: single_file/ and stem_mastering/\")"
   ],
   "outputs": [
    {
     "name": "stdout",
     "output_type": "stream",
     "text": [
      "Project: postmix_dual_mode_v1\n",
      "🎯 Processing Modes Selected:\n",
      "  ✅ Single-file processing: /Users/itay/Documents/post_mix_data/mixes/crashing_stems/mix.wav\n",
      "  ✅ Stem mastering: 4 stems (drums, bass, vocals, music)\n",
      "📁 Workspace root: /Users/itay/Documents/post_mix_data/PostMixRuns\n",
      "Audio config: PCM_24 @ -1.0 dBFS peak target\n",
      "Processing config: Limiter attack=1.0ms, release=50.0ms\n",
      "\n",
      "📍 IMPORTANT: All outputs will be saved to /Users/itay/Documents/post_mix_data/PostMixRuns\n",
      "   This keeps your Git repo clean and prevents accidentally committing large audio files!\n",
      "\n",
      "🆚 DUAL MODE: Both processing types will run for direct comparison!\n",
      "   Output folders will be: single_file/ and stem_mastering/\n"
     ]
    }
   ],
   "execution_count": 2
  },
  {
   "cell_type": "code",
   "metadata": {
    "ExecuteTime": {
     "end_time": "2025-08-26T18:21:58.843527Z",
     "start_time": "2025-08-26T18:21:54.640413Z"
    }
   },
   "source": "# ============================================\n# MAIN PROCESSING PIPELINE - DUAL MODE\n# ============================================\n\ntry:\n    # 1) Setup workspace and logging\n    print(\"📁 Setting up workspace...\")\n    workspace_paths = make_workspace(project=PROJECT_NAME)\n    manifest = Manifest(project=PROJECT_NAME, workspace=workspace_paths)\n    \n    logger = RunLogger.start(workspace_paths.root, tag=PROJECT_NAME)\n    environment_info = capture_environment()\n    logger.log_event(\"env\", {\"environment\": environment_info})\n    \n    # Store results from each mode\n    single_file_data = None\n    stem_set_data = None\n    \n    # 2) Import and validate audio based on selected modes\n    if RUN_SINGLE_FILE:\n        print(\"📄 Importing single mix file...\")\n        \n        if not os.path.exists(MIX_SOURCE_PATH):\n            raise FileNotFoundError(f\"Audio file not found: {MIX_SOURCE_PATH}\")\n            \n        mix_path = import_mix(workspace_paths, MIX_SOURCE_PATH, alias=\"mix.wav\")\n        register_input(manifest, mix_path, alias=\"mix\")\n        register_and_log_artifact(manifest, logger, mix_path, kind=\"input\", \n                                 params={\"alias\": \"mix\", \"mode\": \"single_file\"}, stage=\"import_mix\")\n        \n        # Load and validate audio\n        audio_data, sample_rate = sf.read(mix_path)\n        ensure_audio_valid(audio_data, \"input mix\")\n        \n        # Print summary\n        audio_buffer = load_wav(mix_path)\n        print_audio_summary(audio_buffer, \"Original Mix (Single-File)\")\n        \n        single_file_data = {\n            \"audio_data\": audio_data,\n            \"sample_rate\": sample_rate,\n            \"mix_path\": mix_path,\n            \"audio_buffer\": audio_buffer\n        }\n        \n        print(\"✅ Single-file audio imported and validated successfully\")\n    \n    if RUN_STEM_MASTERING:\n        print(\"🎛️ Importing stems for stem mastering...\")\n        \n        # Validate stem paths\n        valid_stem_paths = {k: v for k, v in STEM_PATHS.items() if v and os.path.exists(v)}\n        if not valid_stem_paths:\n            print(\"❌ No valid stem files found for stem mastering - skipping stem mode\")\n            RUN_STEM_MASTERING = False\n        else:\n            print(f\"Found {len(valid_stem_paths)} valid stems: {', '.join(valid_stem_paths.keys())}\")\n            \n            # Load stem set\n            stem_set = load_stem_set(valid_stem_paths)\n            if not validate_stem_set(stem_set):\n                print(\"❌ Stem set validation failed - skipping stem mode\")\n                RUN_STEM_MASTERING = False\n            else:\n                # Register stems as inputs\n                for stem_type, stem_path in valid_stem_paths.items():\n                    imported_stem = import_mix(workspace_paths, stem_path, alias=f\"{stem_type}.wav\")\n                    register_input(manifest, imported_stem, alias=stem_type)\n                    register_and_log_artifact(manifest, logger, imported_stem, kind=\"stem_input\", \n                                             params={\"alias\": stem_type, \"stem_type\": stem_type, \"mode\": \"stem_mastering\"}, stage=\"import_stems\")\n                \n                stem_set_data = {\n                    \"stem_set\": stem_set,\n                    \"valid_stem_paths\": valid_stem_paths,\n                    \"sample_rate\": getattr(stem_set, list(valid_stem_paths.keys())[0]).sr\n                }\n                \n                print(f\"✅ Stems imported successfully: {len(valid_stem_paths)} stems loaded\")\n    \n    if not RUN_SINGLE_FILE and not RUN_STEM_MASTERING:\n        raise ValueError(\"No processing modes selected or available!\")\n        \nexcept Exception as e:\n    print(f\"❌ Setup failed: {e}\")\n    raise",
   "outputs": [
    {
     "name": "stdout",
     "output_type": "stream",
     "text": [
      "📁 Setting up workspace...\n",
      "Workspace created at: /Users/itay/Documents/post_mix_data/PostMixRuns/postmix_dual_mode_v1_20250826-182154\n",
      "📄 Importing single mix file...\n",
      "Imported mix → /Users/itay/Documents/post_mix_data/PostMixRuns/postmix_dual_mode_v1_20250826-182154/inputs/mix.wav\n",
      "Original Mix (Single-File): sr=44100 | ch=2 | dur=356.191s | peak=0.81275 | rms=0.090521\n",
      "  path: /Users/itay/Documents/post_mix_data/PostMixRuns/postmix_dual_mode_v1_20250826-182154/inputs/mix.wav\n",
      "  sha256: 5557b62299c05abb...\n",
      "  src dtype: int32 | src ch: 2\n",
      "✅ Single-file audio imported and validated successfully\n",
      "🎛️ Importing stems for stem mastering...\n",
      "Found 4 valid stems: drums, bass, vocals, music\n",
      "✅ Loaded drums stem: 356.2s\n",
      "✅ Loaded bass stem: 356.2s\n",
      "✅ Loaded vocals stem: 356.2s\n",
      "✅ Loaded music stem: 356.2s\n",
      "✅ Found 4 active stems: drums, bass, vocals, music\n",
      "✅ All stems at 44100 Hz\n",
      "Imported mix → /Users/itay/Documents/post_mix_data/PostMixRuns/postmix_dual_mode_v1_20250826-182154/inputs/drums.wav\n",
      "Imported mix → /Users/itay/Documents/post_mix_data/PostMixRuns/postmix_dual_mode_v1_20250826-182154/inputs/bass.wav\n",
      "Imported mix → /Users/itay/Documents/post_mix_data/PostMixRuns/postmix_dual_mode_v1_20250826-182154/inputs/vocals.wav\n",
      "Imported mix → /Users/itay/Documents/post_mix_data/PostMixRuns/postmix_dual_mode_v1_20250826-182154/inputs/music.wav\n",
      "✅ Stems imported successfully: 4 stems loaded\n"
     ]
    }
   ],
   "execution_count": 3
  },
  {
   "cell_type": "code",
   "metadata": {
    "ExecuteTime": {
     "end_time": "2025-08-26T18:22:05.195470Z",
     "start_time": "2025-08-26T18:21:58.946360Z"
    }
   },
   "source": "# ============================================\n# ANALYSIS AND RECOMMENDATIONS - DUAL MODE\n# ============================================\n\ntry:\n    # Store analysis and plans for each mode\n    single_file_plan = None\n    stem_plan = None\n    analysis_results = {}\n    \n    # 3) Analyze audio for each selected mode\n    if RUN_SINGLE_FILE:\n        print(\"📊 Analyzing single-file audio...\")\n        \n        single_analysis = analyze_wav(single_file_data[\"mix_path\"])\n        analysis_results[\"single_file\"] = single_analysis\n        \n        # Log detailed metrics\n        logger.log_metrics(\"analysis_single_file\", {\n            \"sr\": single_analysis.sr, \n            \"duration_s\": single_analysis.duration_s,\n            \"peak_dbfs\": single_analysis.basic[\"peak_dbfs\"],\n            \"true_peak_dbfs\": single_analysis.true_peak_dbfs,\n            \"rms_dbfs\": single_analysis.basic[\"rms_dbfs\"],\n            \"lufs_integrated\": single_analysis.lufs_integrated,\n            \"crest_db\": single_analysis.basic[\"crest_db\"],\n            \"bass_energy_%\": single_analysis.bass_energy_pct,\n            \"air_energy_%\": single_analysis.air_energy_pct,\n            \"processing_mode\": \"single_file\"\n        })\n        \n        # Generate processing recommendations\n        print(\"🎯 Generating single-file recommendations...\")\n        single_recommendations = recommend_from_analysis(single_analysis)\n        print(\"SINGLE-FILE \" + recommendation_summary(single_recommendations))\n        \n        # Build comprehensive processing plan\n        single_file_plan = build_all_variants_plan(\n            single_recommendations, prefix=\"SF\", top_recommendations=MAX_RECOMMENDATIONS\n        )\n        \n        print(f\"✅ Generated {len(single_file_plan)} single-file variants\")\n    \n    if RUN_STEM_MASTERING:\n        print(\"📊 Analyzing stem audio...\")\n        \n        # Create temporary mix for analysis by summing stems\n        first_stem = getattr(stem_set_data[\"stem_set\"], list(stem_set_data[\"valid_stem_paths\"].keys())[0])\n        temp_mix_path = os.path.join(workspace_paths.inputs, \"temp_stem_sum.wav\")\n        stem_audio_sum = np.zeros((int(stem_set_data[\"stem_set\"].get_total_duration() * first_stem.sr), 2), dtype=np.float32)\n        \n        for stem_type in stem_set_data[\"stem_set\"].get_active_stems():\n            stem_audio = getattr(stem_set_data[\"stem_set\"], stem_type)\n            if stem_audio:\n                # Convert to stereo if mono\n                audio_array = stem_audio.samples\n                if audio_array.ndim == 1:\n                    audio_array = np.column_stack([audio_array, audio_array])\n                \n                # Add to sum (with length matching)\n                audio_len = min(len(audio_array), len(stem_audio_sum))\n                stem_audio_sum[:audio_len] += audio_array[:audio_len] * 0.25  # Scale down to avoid clipping\n        \n        # Save temporary sum for analysis\n        sf.write(temp_mix_path, stem_audio_sum, first_stem.sr, subtype=\"FLOAT\")\n        stem_analysis = analyze_wav(temp_mix_path)\n        analysis_results[\"stem_mastering\"] = stem_analysis\n        \n        # Log analysis with stem info\n        logger.log_metrics(\"analysis_stem_sum\", {\n            \"sr\": stem_analysis.sr, \n            \"duration_s\": stem_analysis.duration_s,\n            \"active_stems\": stem_set_data[\"stem_set\"].get_active_stems(),\n            \"total_stems\": len(stem_set_data[\"stem_set\"].get_active_stems()),\n            \"peak_dbfs\": stem_analysis.basic[\"peak_dbfs\"],\n            \"lufs_integrated\": stem_analysis.lufs_integrated,\n            \"processing_mode\": \"stem_mastering\"\n        })\n        \n        # Use configured stem combinations\n        stem_plan = CONFIG.pipeline.stem_combinations\n        print(f\"✅ Using {len(stem_plan)} stem combination variants\")\n        print(f\"🎛️ Stem combinations: {', '.join([combo[0] for combo in stem_plan])}\")\n    \n    # Log processing plans\n    logger.log_params(\"processing_plans\", {\n        \"single_file_plan_size\": len(single_file_plan) if single_file_plan else 0,\n        \"stem_plan_size\": len(stem_plan) if stem_plan else 0,\n        \"modes_active\": [mode for mode in [\"single_file\", \"stem_mastering\"] if globals()[f\"RUN_{mode.upper()}\"]],\n    }, code_versions={\"presets_recs\": CODE_VERSIONS[\"presets_recs\"]})\n    \n    print(\"✅ Analysis completed for all selected modes\")\n    \nexcept Exception as e:\n    print(f\"❌ Analysis failed: {e}\")\n    raise",
   "outputs": [
    {
     "name": "stdout",
     "output_type": "stream",
     "text": [
      "📊 Analyzing single-file audio...\n",
      "🎯 Generating single-file recommendations...\n",
      "SINGLE-FILE - De-mud & Open Top (priority 1): B27 P30 C18 A25 W6\n",
      "    • bass_energy %87.5 is high → reduce mud via clarity + keep lows controlled\n",
      "    • air_energy %0.002 is low → add air shelf for brightness\n",
      "    • crest 18.9 dB → moderate punch to emphasize transients\n",
      "    ↪ Start here if the mix feels boomy/dull.\n",
      "- Punch Up the Transients (priority 2): B16 P38 C10 A14 W6\n",
      "    • crest 18.9 dB (dynamic) and LUFS -22.2 (quiet) → add transient definition\n",
      "    • small air lift to help intelligibility\n",
      "✅ Generated 38 single-file variants\n",
      "📊 Analyzing stem audio...\n",
      "✅ Using 5 stem combination variants\n",
      "🎛️ Stem combinations: Stem_PunchyMix, Stem_WideAndOpen, Stem_TightAndControlled, Stem_Aggressive, Stem_Balanced\n",
      "✅ Analysis completed for all selected modes\n"
     ]
    }
   ],
   "execution_count": 4
  },
  {
   "cell_type": "code",
   "metadata": {
    "ExecuteTime": {
     "end_time": "2025-08-26T18:29:24.998422Z",
     "start_time": "2025-08-26T18:22:05.232539Z"
    }
   },
   "source": "# ============================================\n# PRE-MASTERING PROCESSING - DUAL MODE\n# ============================================\n\ntry:\n    # Store results from each mode\n    all_variant_metadata = []\n    \n    render_options = RenderOptions(\n        target_peak_dbfs=CONFIG.audio.render_peak_target_dbfs, \n        bit_depth=CONFIG.audio.default_bit_depth, \n        hpf_hz=None, \n        save_headroom_first=False\n    )\n    \n    # 5a) Single-file processing\n    if RUN_SINGLE_FILE and single_file_plan:\n        print(\"🔧 Single-file pre-mastering preparation...\")\n        \n        # Setup single-file render engine\n        sf_engine = RenderEngine(single_file_data[\"audio_data\"], single_file_data[\"sample_rate\"], \n                                 preprocess=PreprocessConfig(\n                                     low_cutoff=CONFIG.audio.prep_hpf_hz,\n                                     kick_lo=CONFIG.audio.kick_freq_low,\n                                     kick_hi=CONFIG.audio.kick_freq_high\n                                 ))\n        sf_preprocess_metadata = sf_engine.preprocess()\n        logger.log_params(\"single_file_preprocess_cache\", sf_preprocess_metadata, \n                         code_versions={\n                             \"processors\": CODE_VERSIONS[\"processors\"], \n                             \"render_engine\": CODE_VERSIONS[\"render_engine\"]\n                         })\n        \n        # Generate single-file variants in dedicated subfolder\n        sf_variant_dir = os.path.join(workspace_paths.outputs, \"single_file\", \"premasters\")\n        sf_variant_metadata = sf_engine.commit_variants(sf_variant_dir, single_file_plan, opts=render_options)\n        \n        # Tag metadata to identify processing mode\n        for meta in sf_variant_metadata:\n            meta[\"processing_mode\"] = \"single_file\"\n            register_and_log_artifact(manifest, logger, meta[\"out_path\"], \n                                     kind=\"sf_premaster\", params=meta, \n                                     stage=f\"single_file__{os.path.basename(meta['out_path'])}\")\n        \n        all_variant_metadata.extend(sf_variant_metadata)\n        print(f\"✅ Created {len(sf_variant_metadata)} single-file premaster variants\")\n    \n    # 5b) Stem mastering processing\n    if RUN_STEM_MASTERING and stem_plan:\n        print(\"🎛️ Stem mastering preparation...\")\n        \n        # Setup stem render engine\n        stem_engine = StemRenderEngine(stem_set_data[\"stem_set\"], \n                                     preprocess=PreprocessConfig(\n                                         low_cutoff=CONFIG.audio.prep_hpf_hz,\n                                         kick_lo=CONFIG.audio.kick_freq_low,\n                                         kick_hi=CONFIG.audio.kick_freq_high\n                                     ))\n        stem_preprocess_metadata = stem_engine.preprocess_all_stems()\n        logger.log_params(\"stem_preprocess_cache\", stem_preprocess_metadata, \n                         code_versions={\n                             \"stem_mastering\": CODE_VERSIONS.get(\"stem_mastering\", \"1.0\"),\n                             \"render_engine\": CODE_VERSIONS[\"render_engine\"]\n                         })\n        \n        # Process stem combinations in dedicated subfolder\n        stem_variant_dir = os.path.join(workspace_paths.outputs, \"stem_mastering\", \"premasters\")\n        stem_results = stem_engine.commit_stem_variants(\n            stem_variant_dir, stem_plan, opts=render_options\n        )\n        \n        # Convert stem results to compatible format\n        stem_variant_metadata = []\n        for variant_name, variant_data in stem_results.items():\n            stem_meta = {\n                \"out_path\": variant_data[\"final_mix_path\"],\n                \"variant_name\": variant_name,\n                \"stem_results\": variant_data[\"stem_results\"],\n                \"active_stems\": variant_data[\"active_stems\"],\n                \"processing_mode\": \"stem_mastering\"\n            }\n            stem_variant_metadata.append(stem_meta)\n            register_and_log_artifact(manifest, logger, variant_data[\"final_mix_path\"], \n                                     kind=\"stem_premaster\", params=variant_data, \n                                     stage=f\"stem_mastering__{variant_name}\")\n        \n        all_variant_metadata.extend(stem_variant_metadata)\n        print(f\"✅ Created {len(stem_variant_metadata)} stem-processed variants\")\n        print(f\"🎛️ Each variant intelligently combined {len(stem_set_data['stem_set'].get_active_stems())} stems\")\n    \n    if not all_variant_metadata:\n        raise ValueError(\"No variants were generated from any processing mode!\")\n    \n    total_single_file = len([v for v in all_variant_metadata if v.get(\"processing_mode\") == \"single_file\"])\n    total_stem = len([v for v in all_variant_metadata if v.get(\"processing_mode\") == \"stem_mastering\"])\n    \n    print(f\"\\n🎯 PRE-MASTERING SUMMARY:\")\n    print(f\"   📄 Single-file variants: {total_single_file}\")\n    print(f\"   🎛️ Stem mastering variants: {total_stem}\")\n    print(f\"   📊 Total variants for mastering: {len(all_variant_metadata)}\")\n    \n    # Store for next step\n    variant_metadata = all_variant_metadata\n\nexcept Exception as e:\n    print(f\"❌ Pre-mastering failed: {e}\")\n    raise\n\n# ============================================\n# MASTERING STEP - USING ORCHESTRATOR (CREATES FOLDERS!)\n# ============================================\n\ntry:\n    print(\"\\n🎭 Running mastering orchestration with PROPER FOLDER STRUCTURE...\")\n    \n    # Create mastering orchestrator\n    orchestrator = MasteringOrchestrator(workspace_paths, manifest)\n    provider = LocalMasterProvider(bit_depth=\"PCM_24\")\n    \n    # Process all premasters using the orchestrator\n    master_results = []\n    all_master_paths = []\n    \n    print(f\"📂 Found {len(variant_metadata)} premaster files to master\")\n    \n    for variant_meta in variant_metadata:\n        premaster_path = variant_meta[\"out_path\"]\n        \n        if not os.path.exists(premaster_path):\n            print(f\"⚠️ Skipping missing file: {premaster_path}\")\n            continue\n            \n        print(f\"\\n🎭 Mastering: {os.path.basename(premaster_path)}\")\n        \n        # Use the orchestrator to create proper folder structure\n        results = orchestrator.run(\n            premaster_path=premaster_path,\n            providers=[provider],\n            styles=None,  # Uses default 4 styles\n            out_tag=\"masters\",\n            level_match_preview_lufs=-14.0\n        )\n        \n        # Collect all result paths\n        for result in results:\n            master_results.append(result)\n            all_master_paths.append(result.out_path)\n            \n            # Also add the -14 LUFS versions (they're created automatically)\n            base_dir = os.path.dirname(result.out_path)\n            lufs_file = os.path.join(base_dir, f\"{result.style}_-14LUFS.wav\")\n            if os.path.exists(lufs_file):\n                all_master_paths.append(lufs_file)\n    \n    print(f\"\\n✅ Mastering completed successfully!\")\n    print(f\"📊 Results:\")\n    print(f\"   🎯 Master folders: {len(variant_metadata)}\")\n    print(f\"   📁 Total audio files: {len(all_master_paths)}\")\n    \n    # Show folder structure\n    masters_dir = os.path.join(workspace_paths.outputs, \"masters\")\n    if os.path.exists(masters_dir):\n        folders = [f for f in os.listdir(masters_dir) if os.path.isdir(os.path.join(masters_dir, f))]\n        print(f\"\\n📁 Master folders created:\")\n        for folder in sorted(folders):\n            folder_path = os.path.join(masters_dir, folder)\n            file_count = len([f for f in os.listdir(folder_path) if f.endswith('.wav')])\n            print(f\"   • {folder}/ ({file_count} files)\")\n    \n    # Update master_paths for later use\n    master_paths = all_master_paths\n    \n    print(f\"\\n🎊 MASTERS ARE NOW FOLDERS!\")\n    print(f\"Each master is a folder containing 8 audio files (4 styles × 2 versions)\")\n\nexcept Exception as e:\n    print(f\"❌ Mastering orchestration failed: {e}\")\n    raise",
   "outputs": [
    {
     "name": "stdout",
     "output_type": "stream",
     "text": [
      "🔧 Single-file pre-mastering preparation...\n",
      "✅ Created 38 single-file premaster variants\n",
      "🎛️ Stem mastering preparation...\n",
      "✅ Found 4 active stems: drums, bass, vocals, music\n",
      "✅ All stems at 44100 Hz\n",
      "🎛️ Processing stem combination: Stem_PunchyMix\n",
      "  ✅ Processed drums stem\n",
      "  ✅ Processed bass stem\n",
      "  ✅ Processed vocals stem\n",
      "  ✅ Processed music stem\n",
      "    Peak after stem summing: 0.255 (-11.9 dBFS)\n",
      "    Applied makeup gain: 3.5 dB\n",
      "  🎉 Completed Stem_PunchyMix with 4 stems\n",
      "🎛️ Processing stem combination: Stem_WideAndOpen\n",
      "  ✅ Processed drums stem\n",
      "  ✅ Processed bass stem\n",
      "  ✅ Processed vocals stem\n",
      "  ✅ Processed music stem\n",
      "    Peak after stem summing: 0.248 (-12.1 dBFS)\n",
      "    Applied makeup gain: 3.5 dB\n",
      "  🎉 Completed Stem_WideAndOpen with 4 stems\n",
      "🎛️ Processing stem combination: Stem_TightAndControlled\n",
      "  ✅ Processed drums stem\n",
      "  ✅ Processed bass stem\n",
      "  ✅ Processed vocals stem\n",
      "  ✅ Processed music stem\n",
      "    Peak after stem summing: 0.255 (-11.9 dBFS)\n",
      "    Applied makeup gain: 3.5 dB\n",
      "  🎉 Completed Stem_TightAndControlled with 4 stems\n",
      "🎛️ Processing stem combination: Stem_Aggressive\n",
      "  ✅ Processed drums stem\n",
      "  ✅ Processed bass stem\n",
      "  ✅ Processed vocals stem\n",
      "  ✅ Processed music stem\n",
      "    Peak after stem summing: 0.254 (-11.9 dBFS)\n",
      "    Applied makeup gain: 3.5 dB\n",
      "  🎉 Completed Stem_Aggressive with 4 stems\n",
      "🎛️ Processing stem combination: Stem_Balanced\n",
      "  ✅ Processed drums stem\n",
      "  ✅ Processed bass stem\n",
      "  ✅ Processed vocals stem\n",
      "  ✅ Processed music stem\n",
      "    Peak after stem summing: 0.251 (-12.0 dBFS)\n",
      "    Applied makeup gain: 3.5 dB\n",
      "  🎉 Completed Stem_Balanced with 4 stems\n",
      "✅ Created 5 stem-processed variants\n",
      "🎛️ Each variant intelligently combined 4 stems\n",
      "\n",
      "🎯 PRE-MASTERING SUMMARY:\n",
      "   📄 Single-file variants: 38\n",
      "   🎛️ Stem mastering variants: 5\n",
      "   📊 Total variants for mastering: 43\n",
      "\n",
      "🎭 Running mastering orchestration with PROPER FOLDER STRUCTURE...\n",
      "📂 Found 43 premaster files to master\n",
      "\n",
      "🎭 Mastering: SF_Transparent.wav\n",
      "🎭 Creating mastered folder: SF_Transparent/ (8 files: 4 styles × 2 versions)\n",
      "    Mastering input peak: -1.0 dBTP\n",
      "    Normalized hot input down to -3.5 dBTP\n",
      "    Skipped final normalization - peak at -3.2 dBTP is acceptable\n",
      "      Applied soft limiting to prevent clipping\n",
      "      loud -14 LUFS: -23.7 → -14.0 LUFS (gain: +9.7 dB)\n",
      "    Mastering input peak: -1.0 dBTP\n",
      "    Normalized hot input down to -3.5 dBTP\n",
      "    Skipped final normalization - peak at -3.4 dBTP is acceptable\n",
      "      Applied soft limiting to prevent clipping\n",
      "      neutral -14 LUFS: -23.8 → -14.0 LUFS (gain: +9.8 dB)\n",
      "    Mastering input peak: -1.0 dBTP\n",
      "    Normalized hot input down to -3.5 dBTP\n",
      "    Skipped final normalization - peak at -3.3 dBTP is acceptable\n",
      "      Applied soft limiting to prevent clipping\n",
      "      warm -14 LUFS: -23.6 → -14.0 LUFS (gain: +9.6 dB)\n",
      "    Mastering input peak: -1.0 dBTP\n",
      "    Normalized hot input down to -3.5 dBTP\n"
     ]
    },
    {
     "ename": "KeyboardInterrupt",
     "evalue": "",
     "output_type": "error",
     "traceback": [
      "\u001B[0;31m---------------------------------------------------------------------------\u001B[0m",
      "\u001B[0;31mKeyboardInterrupt\u001B[0m                         Traceback (most recent call last)",
      "Cell \u001B[0;32mIn[5], line 136\u001B[0m\n\u001B[1;32m    133\u001B[0m \u001B[38;5;28mprint\u001B[39m(\u001B[38;5;124mf\u001B[39m\u001B[38;5;124m\"\u001B[39m\u001B[38;5;130;01m\\n\u001B[39;00m\u001B[38;5;124m🎭 Mastering: \u001B[39m\u001B[38;5;132;01m{\u001B[39;00mos\u001B[38;5;241m.\u001B[39mpath\u001B[38;5;241m.\u001B[39mbasename(premaster_path)\u001B[38;5;132;01m}\u001B[39;00m\u001B[38;5;124m\"\u001B[39m)\n\u001B[1;32m    135\u001B[0m \u001B[38;5;66;03m# Use the orchestrator to create proper folder structure\u001B[39;00m\n\u001B[0;32m--> 136\u001B[0m results \u001B[38;5;241m=\u001B[39m \u001B[43morchestrator\u001B[49m\u001B[38;5;241;43m.\u001B[39;49m\u001B[43mrun\u001B[49m\u001B[43m(\u001B[49m\n\u001B[1;32m    137\u001B[0m \u001B[43m    \u001B[49m\u001B[43mpremaster_path\u001B[49m\u001B[38;5;241;43m=\u001B[39;49m\u001B[43mpremaster_path\u001B[49m\u001B[43m,\u001B[49m\n\u001B[1;32m    138\u001B[0m \u001B[43m    \u001B[49m\u001B[43mproviders\u001B[49m\u001B[38;5;241;43m=\u001B[39;49m\u001B[43m[\u001B[49m\u001B[43mprovider\u001B[49m\u001B[43m]\u001B[49m\u001B[43m,\u001B[49m\n\u001B[1;32m    139\u001B[0m \u001B[43m    \u001B[49m\u001B[43mstyles\u001B[49m\u001B[38;5;241;43m=\u001B[39;49m\u001B[38;5;28;43;01mNone\u001B[39;49;00m\u001B[43m,\u001B[49m\u001B[43m  \u001B[49m\u001B[38;5;66;43;03m# Uses default 4 styles\u001B[39;49;00m\n\u001B[1;32m    140\u001B[0m \u001B[43m    \u001B[49m\u001B[43mout_tag\u001B[49m\u001B[38;5;241;43m=\u001B[39;49m\u001B[38;5;124;43m\"\u001B[39;49m\u001B[38;5;124;43mmasters\u001B[39;49m\u001B[38;5;124;43m\"\u001B[39;49m\u001B[43m,\u001B[49m\n\u001B[1;32m    141\u001B[0m \u001B[43m    \u001B[49m\u001B[43mlevel_match_preview_lufs\u001B[49m\u001B[38;5;241;43m=\u001B[39;49m\u001B[38;5;241;43m-\u001B[39;49m\u001B[38;5;241;43m14.0\u001B[39;49m\n\u001B[1;32m    142\u001B[0m \u001B[43m\u001B[49m\u001B[43m)\u001B[49m\n\u001B[1;32m    144\u001B[0m \u001B[38;5;66;03m# Collect all result paths\u001B[39;00m\n\u001B[1;32m    145\u001B[0m \u001B[38;5;28;01mfor\u001B[39;00m result \u001B[38;5;129;01min\u001B[39;00m results:\n",
      "File \u001B[0;32m~/Documents/GitHub/post_mix_analysis/mastering_orchestrator.py:424\u001B[0m, in \u001B[0;36mMasteringOrchestrator.run\u001B[0;34m(self, premaster_path, providers, styles, out_tag, level_match_preview_lufs)\u001B[0m\n\u001B[1;32m    421\u001B[0m \u001B[38;5;28;01mfor\u001B[39;00m style, strength \u001B[38;5;129;01min\u001B[39;00m styles:\n\u001B[1;32m    422\u001B[0m     \u001B[38;5;28;01mtry\u001B[39;00m:\n\u001B[1;32m    423\u001B[0m         \u001B[38;5;66;03m# Process with automatic -14 LUFS version creation\u001B[39;00m\n\u001B[0;32m--> 424\u001B[0m         result \u001B[38;5;241m=\u001B[39m \u001B[38;5;28;43mself\u001B[39;49m\u001B[38;5;241;43m.\u001B[39;49m\u001B[43m_process_single_job\u001B[49m\u001B[43m(\u001B[49m\n\u001B[1;32m    425\u001B[0m \u001B[43m            \u001B[49m\u001B[43mprovider\u001B[49m\u001B[43m,\u001B[49m\u001B[43m \u001B[49m\u001B[43mpremaster_path\u001B[49m\u001B[43m,\u001B[49m\u001B[43m \u001B[49m\u001B[43mstyle\u001B[49m\u001B[43m,\u001B[49m\u001B[43m \u001B[49m\u001B[43mstrength\u001B[49m\u001B[43m,\u001B[49m\u001B[43m \u001B[49m\n\u001B[1;32m    426\u001B[0m \u001B[43m            \u001B[49m\u001B[43moutput_dir\u001B[49m\u001B[43m,\u001B[49m\u001B[43m \u001B[49m\u001B[43mout_tag\u001B[49m\u001B[43m,\u001B[49m\u001B[43m \u001B[49m\u001B[43mlevel_match_preview_lufs\u001B[49m\n\u001B[1;32m    427\u001B[0m \u001B[43m        \u001B[49m\u001B[43m)\u001B[49m\n\u001B[1;32m    428\u001B[0m         \u001B[38;5;28;01mif\u001B[39;00m result:\n\u001B[1;32m    429\u001B[0m             results\u001B[38;5;241m.\u001B[39mappend(result)\n",
      "File \u001B[0;32m~/Documents/GitHub/post_mix_analysis/mastering_orchestrator.py:568\u001B[0m, in \u001B[0;36mMasteringOrchestrator._process_single_job\u001B[0;34m(self, provider, premaster_path, style, strength, output_dir, out_tag, level_match_preview_lufs)\u001B[0m\n\u001B[1;32m    566\u001B[0m \u001B[38;5;66;03m# Process based on provider type\u001B[39;00m\n\u001B[1;32m    567\u001B[0m \u001B[38;5;28;01mif\u001B[39;00m \u001B[38;5;28misinstance\u001B[39m(provider, LocalMasterProvider):\n\u001B[0;32m--> 568\u001B[0m     result \u001B[38;5;241m=\u001B[39m \u001B[43mprovider\u001B[49m\u001B[38;5;241;43m.\u001B[39;49m\u001B[43mrun_sync\u001B[49m\u001B[43m(\u001B[49m\u001B[43mrequest\u001B[49m\u001B[43m,\u001B[49m\u001B[43m \u001B[49m\u001B[43mout_path\u001B[49m\u001B[43m)\u001B[49m\n\u001B[1;32m    569\u001B[0m \u001B[38;5;28;01melse\u001B[39;00m:\n\u001B[1;32m    570\u001B[0m     result \u001B[38;5;241m=\u001B[39m \u001B[38;5;28mself\u001B[39m\u001B[38;5;241m.\u001B[39m_handle_async_provider(provider, request, out_path)\n",
      "File \u001B[0;32m~/Documents/GitHub/post_mix_analysis/mastering_orchestrator.py:331\u001B[0m, in \u001B[0;36mLocalMasterProvider.run_sync\u001B[0;34m(self, req, out_path)\u001B[0m\n\u001B[1;32m    329\u001B[0m \u001B[38;5;28;01mtry\u001B[39;00m:\n\u001B[1;32m    330\u001B[0m     audio, sr \u001B[38;5;241m=\u001B[39m sf\u001B[38;5;241m.\u001B[39mread(req\u001B[38;5;241m.\u001B[39minput_path)\n\u001B[0;32m--> 331\u001B[0m     processed_audio, params \u001B[38;5;241m=\u001B[39m \u001B[38;5;28;43mself\u001B[39;49m\u001B[38;5;241;43m.\u001B[39;49m\u001B[43m_apply_style\u001B[49m\u001B[43m(\u001B[49m\u001B[43maudio\u001B[49m\u001B[43m,\u001B[49m\u001B[43m \u001B[49m\u001B[43msr\u001B[49m\u001B[43m,\u001B[49m\u001B[43m \u001B[49m\u001B[43mreq\u001B[49m\u001B[38;5;241;43m.\u001B[39;49m\u001B[43mstyle\u001B[49m\u001B[43m,\u001B[49m\u001B[43m \u001B[49m\u001B[43mreq\u001B[49m\u001B[38;5;241;43m.\u001B[39;49m\u001B[43mstrength\u001B[49m\u001B[43m)\u001B[49m\n\u001B[1;32m    333\u001B[0m     \u001B[38;5;66;03m# Ensure output directory exists\u001B[39;00m\n\u001B[1;32m    334\u001B[0m     os\u001B[38;5;241m.\u001B[39mmakedirs(os\u001B[38;5;241m.\u001B[39mpath\u001B[38;5;241m.\u001B[39mdirname(os\u001B[38;5;241m.\u001B[39mpath\u001B[38;5;241m.\u001B[39mabspath(out_path)), exist_ok\u001B[38;5;241m=\u001B[39m\u001B[38;5;28;01mTrue\u001B[39;00m)\n",
      "File \u001B[0;32m~/Documents/GitHub/post_mix_analysis/mastering_orchestrator.py:300\u001B[0m, in \u001B[0;36mLocalMasterProvider._apply_style\u001B[0;34m(self, audio, sr, style, strength)\u001B[0m\n\u001B[1;32m    298\u001B[0m         \u001B[38;5;28mprint\u001B[39m(\u001B[38;5;124mf\u001B[39m\u001B[38;5;124m\"\u001B[39m\u001B[38;5;124m    Applied final YouTube normalization to -2.0 dBTP\u001B[39m\u001B[38;5;124m\"\u001B[39m)\n\u001B[1;32m    299\u001B[0m \u001B[38;5;28;01melse\u001B[39;00m:\n\u001B[0;32m--> 300\u001B[0m     limited \u001B[38;5;241m=\u001B[39m \u001B[43m_lookahead_limiter\u001B[49m\u001B[43m(\u001B[49m\u001B[43mprocessed\u001B[49m\u001B[43m,\u001B[49m\u001B[43m \u001B[49m\u001B[43msr\u001B[49m\u001B[43m,\u001B[49m\u001B[43m \u001B[49m\u001B[43mceiling_dbfs\u001B[49m\u001B[38;5;241;43m=\u001B[39;49m\u001B[38;5;241;43m-\u001B[39;49m\u001B[38;5;241;43m2.0\u001B[39;49m\u001B[43m)\u001B[49m  \u001B[38;5;66;03m# More conservative ceiling\u001B[39;00m\n\u001B[1;32m    301\u001B[0m     processed \u001B[38;5;241m=\u001B[39m (\u001B[38;5;241m1.0\u001B[39m \u001B[38;5;241m-\u001B[39m glue_amount) \u001B[38;5;241m*\u001B[39m processed \u001B[38;5;241m+\u001B[39m glue_amount \u001B[38;5;241m*\u001B[39m limited\n\u001B[1;32m    302\u001B[0m     \u001B[38;5;66;03m# Final peak control - only if needed\u001B[39;00m\n",
      "File \u001B[0;32m~/Documents/GitHub/post_mix_analysis/mastering_orchestrator.py:184\u001B[0m, in \u001B[0;36m_lookahead_limiter\u001B[0;34m(x, sr, ceiling_dbfs, lookahead_ms, attack_ms, release_ms, knee_db)\u001B[0m\n\u001B[1;32m    182\u001B[0m \u001B[38;5;28;01mfor\u001B[39;00m i \u001B[38;5;129;01min\u001B[39;00m \u001B[38;5;28mrange\u001B[39m(\u001B[38;5;28mlen\u001B[39m(magnitude)):\n\u001B[1;32m    183\u001B[0m     current_mag \u001B[38;5;241m=\u001B[39m magnitude[i]\n\u001B[0;32m--> 184\u001B[0m     coeff \u001B[38;5;241m=\u001B[39m attack_coeff \u001B[38;5;28;01mif\u001B[39;00m \u001B[43mnp\u001B[49m\u001B[38;5;241;43m.\u001B[39;49m\u001B[43many\u001B[49m\u001B[43m(\u001B[49m\u001B[43mcurrent_mag\u001B[49m\u001B[43m \u001B[49m\u001B[38;5;241;43m>\u001B[39;49m\u001B[43m \u001B[49m\u001B[43menv_state\u001B[49m\u001B[43m)\u001B[49m \u001B[38;5;28;01melse\u001B[39;00m release_coeff\n\u001B[1;32m    185\u001B[0m     env_state \u001B[38;5;241m=\u001B[39m np\u001B[38;5;241m.\u001B[39mmaximum(current_mag, env_state \u001B[38;5;241m*\u001B[39m coeff)\n\u001B[1;32m    186\u001B[0m     envelope[i] \u001B[38;5;241m=\u001B[39m env_state\n",
      "File \u001B[0;32m/opt/miniconda3/envs/audio-sim/lib/python3.10/site-packages/numpy/_core/fromnumeric.py:2580\u001B[0m, in \u001B[0;36many\u001B[0;34m(a, axis, out, keepdims, where)\u001B[0m\n\u001B[1;32m   2477\u001B[0m \u001B[38;5;129m@array_function_dispatch\u001B[39m(_any_dispatcher)\n\u001B[1;32m   2478\u001B[0m \u001B[38;5;28;01mdef\u001B[39;00m\u001B[38;5;250m \u001B[39m\u001B[38;5;21many\u001B[39m(a, axis\u001B[38;5;241m=\u001B[39m\u001B[38;5;28;01mNone\u001B[39;00m, out\u001B[38;5;241m=\u001B[39m\u001B[38;5;28;01mNone\u001B[39;00m, keepdims\u001B[38;5;241m=\u001B[39mnp\u001B[38;5;241m.\u001B[39m_NoValue, \u001B[38;5;241m*\u001B[39m, where\u001B[38;5;241m=\u001B[39mnp\u001B[38;5;241m.\u001B[39m_NoValue):\n\u001B[1;32m   2479\u001B[0m \u001B[38;5;250m    \u001B[39m\u001B[38;5;124;03m\"\"\"\u001B[39;00m\n\u001B[1;32m   2480\u001B[0m \u001B[38;5;124;03m    Test whether any array element along a given axis evaluates to True.\u001B[39;00m\n\u001B[1;32m   2481\u001B[0m \n\u001B[0;32m   (...)\u001B[0m\n\u001B[1;32m   2578\u001B[0m \n\u001B[1;32m   2579\u001B[0m \u001B[38;5;124;03m    \"\"\"\u001B[39;00m\n\u001B[0;32m-> 2580\u001B[0m     \u001B[38;5;28;01mreturn\u001B[39;00m \u001B[43m_wrapreduction_any_all\u001B[49m\u001B[43m(\u001B[49m\u001B[43ma\u001B[49m\u001B[43m,\u001B[49m\u001B[43m \u001B[49m\u001B[43mnp\u001B[49m\u001B[38;5;241;43m.\u001B[39;49m\u001B[43mlogical_or\u001B[49m\u001B[43m,\u001B[49m\u001B[43m \u001B[49m\u001B[38;5;124;43m'\u001B[39;49m\u001B[38;5;124;43many\u001B[39;49m\u001B[38;5;124;43m'\u001B[39;49m\u001B[43m,\u001B[49m\u001B[43m \u001B[49m\u001B[43maxis\u001B[49m\u001B[43m,\u001B[49m\u001B[43m \u001B[49m\u001B[43mout\u001B[49m\u001B[43m,\u001B[49m\n\u001B[1;32m   2581\u001B[0m \u001B[43m                                  \u001B[49m\u001B[43mkeepdims\u001B[49m\u001B[38;5;241;43m=\u001B[39;49m\u001B[43mkeepdims\u001B[49m\u001B[43m,\u001B[49m\u001B[43m \u001B[49m\u001B[43mwhere\u001B[49m\u001B[38;5;241;43m=\u001B[39;49m\u001B[43mwhere\u001B[49m\u001B[43m)\u001B[49m\n",
      "File \u001B[0;32m/opt/miniconda3/envs/audio-sim/lib/python3.10/site-packages/numpy/_core/fromnumeric.py:102\u001B[0m, in \u001B[0;36m_wrapreduction_any_all\u001B[0;34m(obj, ufunc, method, axis, out, **kwargs)\u001B[0m\n\u001B[1;32m     99\u001B[0m     \u001B[38;5;28;01melse\u001B[39;00m:\n\u001B[1;32m    100\u001B[0m         \u001B[38;5;28;01mreturn\u001B[39;00m reduction(axis\u001B[38;5;241m=\u001B[39maxis, out\u001B[38;5;241m=\u001B[39mout, \u001B[38;5;241m*\u001B[39m\u001B[38;5;241m*\u001B[39mpasskwargs)\n\u001B[0;32m--> 102\u001B[0m \u001B[38;5;28;01mreturn\u001B[39;00m \u001B[43mufunc\u001B[49m\u001B[38;5;241;43m.\u001B[39;49m\u001B[43mreduce\u001B[49m\u001B[43m(\u001B[49m\u001B[43mobj\u001B[49m\u001B[43m,\u001B[49m\u001B[43m \u001B[49m\u001B[43maxis\u001B[49m\u001B[43m,\u001B[49m\u001B[43m \u001B[49m\u001B[38;5;28;43mbool\u001B[39;49m\u001B[43m,\u001B[49m\u001B[43m \u001B[49m\u001B[43mout\u001B[49m\u001B[43m,\u001B[49m\u001B[43m \u001B[49m\u001B[38;5;241;43m*\u001B[39;49m\u001B[38;5;241;43m*\u001B[39;49m\u001B[43mpasskwargs\u001B[49m\u001B[43m)\u001B[49m\n",
      "\u001B[0;31mKeyboardInterrupt\u001B[0m: "
     ]
    }
   ],
   "execution_count": 5
  },
  {
   "cell_type": "code",
   "source": "# ============================================\n# SKIP ALL REPORTING - AUDIO FILES ONLY\n# ============================================\n\nprint(\"⚡ Skipping all reporting steps - focusing on audio file creation only\")\nprint(\"✅ Audio processing complete - ready for listening tests\")\nprint(\"📁 All files available in workspace for immediate use\")\n\n# No streaming simulation\n# No comparison reports  \n# No heavy analysis\n# Just the audio files you need",
   "metadata": {
    "ExecuteTime": {
     "end_time": "2025-08-26T18:29:25.018051Z",
     "start_time": "2025-08-26T15:36:27.114617Z"
    }
   },
   "outputs": [
    {
     "name": "stdout",
     "output_type": "stream",
     "text": [
      "⚡ Skipping all reporting steps - focusing on audio file creation only\n",
      "✅ Audio processing complete - ready for listening tests\n",
      "📁 All files available in workspace for immediate use\n"
     ]
    }
   ],
   "execution_count": 6
  },
  {
   "cell_type": "code",
   "source": "# ============================================\n# MINIMAL SUMMARY - FILES ONLY\n# ============================================\n\nprint(\"📁 FINAL SUMMARY - AUDIO FILES READY\")\nprint(\"=\"*50)\nprint(f\"Workspace: {workspace_paths.root}\")\n\ntotal_single_file = len([v for v in variant_metadata if v.get(\"processing_mode\") == \"single_file\"])\ntotal_stem = len([v for v in variant_metadata if v.get(\"processing_mode\") == \"stem_mastering\"])\n\nif RUN_SINGLE_FILE:\n    print(f\"\\n📄 Single-File: {total_single_file} variants\")\n    print(f\"   📁 {workspace_paths.root}/outputs/single_file/\")\n\nif RUN_STEM_MASTERING:\n    print(f\"\\n🎛️ Stem Mastering: {total_stem} variants\") \n    print(f\"   📁 {workspace_paths.root}/outputs/stem_mastering/\")\n\nprint(f\"\\n🎧 READY FOR A/B TESTING!\")\nprint(\"⚡ No reports = faster workflow!\")",
   "metadata": {
    "ExecuteTime": {
     "end_time": "2025-08-26T18:29:25.018774Z",
     "start_time": "2025-08-26T15:36:27.131365Z"
    }
   },
   "outputs": [
    {
     "name": "stdout",
     "output_type": "stream",
     "text": [
      "📁 FINAL SUMMARY - AUDIO FILES READY\n",
      "==================================================\n",
      "Workspace: /Users/itay/Documents/post_mix_data/PostMixRuns/postmix_dual_mode_v1_20250826-152634\n",
      "\n",
      "📄 Single-File: 38 variants\n",
      "   📁 /Users/itay/Documents/post_mix_data/PostMixRuns/postmix_dual_mode_v1_20250826-152634/outputs/single_file/\n",
      "\n",
      "🎛️ Stem Mastering: 5 variants\n",
      "   📁 /Users/itay/Documents/post_mix_data/PostMixRuns/postmix_dual_mode_v1_20250826-152634/outputs/stem_mastering/\n",
      "\n",
      "🎧 READY FOR A/B TESTING!\n",
      "⚡ No reports = faster workflow!\n"
     ]
    }
   ],
   "execution_count": 7
  },
  {
   "cell_type": "code",
   "source": "# ============================================\n# FINALIZATION AND SUMMARY - DUAL MODE\n# ============================================\n\ntry:\n    # 7) Create reproducibility bundle\n    print(\"📦 Creating reproducibility bundle...\")\n    \n    bundle_path = os.path.join(workspace_paths.reports, \"bundles\", f\"{logger.run_id}.zip\")\n    \n    # Include all outputs from both processing modes\n    all_outputs = list(set(master_paths))\n    \n    reproducibility_zip = make_repro_zip(\n        bundle_path,\n        workspace_root=workspace_paths.root,\n        run_logger=logger,\n        env_info=environment_info,\n        inputs=([single_file_data[\"mix_path\"]] if single_file_data else []) + \n               (list(stem_set_data[\"valid_stem_paths\"].values()) if stem_set_data else []),\n        outputs=all_outputs,\n        extra_jsons={\n            \"code_versions\": CODE_VERSIONS, \n            \"processing_modes\": {\n                \"single_file_enabled\": RUN_SINGLE_FILE,\n                \"stem_mastering_enabled\": RUN_STEM_MASTERING,\n                \"single_file_variants\": len([v for v in variant_metadata if v.get(\"processing_mode\") == \"single_file\"]),\n                \"stem_variants\": len([v for v in variant_metadata if v.get(\"processing_mode\") == \"stem_mastering\"])\n            },\n            \"configuration\": CONFIG.to_dict(),\n            \"pipeline_version\": \"3.0_dual_mode\",\n            \"folder_structure\": {\n                \"single_file\": \"single_file/premasters/ → single_file/masters/\",\n                \"stem_mastering\": \"stem_mastering/premasters/ → stem_mastering/masters/\",\n                \"note\": \"Organized by processing mode for easy comparison\"\n            }\n        },\n        readme_text=\"Dual-mode post-mix pipeline with both single-file and stem mastering capabilities. Results organized by processing mode for direct comparison.\"\n    )\n    \n    register_and_log_artifact(manifest, logger, reproducibility_zip, \n                             kind=\"bundle\", params={\"run_id\": logger.run_id, \"version\": \"3.0\"}, \n                             stage=\"repro_zip\")\n    \n    # 8) Write final summary\n    logger.write_summary({\n        \"pipeline_version\": \"3.0_dual_mode\",\n        \"project\": PROJECT_NAME,\n        \"run_id\": logger.run_id,\n        \"processing_modes\": {\n            \"single_file\": RUN_SINGLE_FILE,\n            \"stem_mastering\": RUN_STEM_MASTERING\n        },\n        \"inputs\": {\n            \"single_file\": single_file_data[\"mix_path\"] if single_file_data else None,\n            \"stems\": list(stem_set_data[\"valid_stem_paths\"].values()) if stem_set_data else []\n        },\n        \"outputs\": {\n            \"total_variants\": len(variant_metadata),\n            \"total_masters\": len(master_paths),\n            \"single_file_variants\": len([v for v in variant_metadata if v.get(\"processing_mode\") == \"single_file\"]),\n            \"stem_variants\": len([v for v in variant_metadata if v.get(\"processing_mode\") == \"stem_mastering\"])\n        },\n        \"configuration_snapshot\": CONFIG.to_dict(),\n        \"environment_hash\": json_sha256(environment_info)\n    })\n    \n    write_manifest(manifest)\n    \n    print(\"\\\\n\" + \"=\"*60)\n    print(\"🎉 DUAL-MODE PROCESSING COMPLETED SUCCESSFULLY!\")\n    print(\"=\"*60)\n    print(f\"📁 Workspace: {workspace_paths.root}\")\n    \n    total_single_file = len([v for v in variant_metadata if v.get(\"processing_mode\") == \"single_file\"])\n    total_stem = len([v for v in variant_metadata if v.get(\"processing_mode\") == \"stem_mastering\"])\n    \n    if RUN_SINGLE_FILE:\n        print(f\"\\\\n📄 Single-File Processing:\")\n        print(f\"   Input: {single_file_data['mix_path'] if single_file_data else 'None'}\")\n        print(f\"   Variants: {total_single_file}\")\n        print(f\"   Location: single_file/\")\n    \n    if RUN_STEM_MASTERING:\n        print(f\"\\\\n🎛️ Stem Mastering:\")\n        if stem_set_data:\n            print(f\"   Stems: {', '.join(stem_set_data['valid_stem_paths'].keys())}\")\n        print(f\"   Variants: {total_stem}\")\n        print(f\"   Location: stem_mastering/\")\n    \n    print(f\"\\\\n📊 Total Results:\")\n    print(f\"   Variants: {len(variant_metadata)}\")\n    print(f\"   Masters: {len(master_paths)}\")\n    print(f\"   Organized in: {len(all_master_results)} variant subfolders\")\n    \n    print(f\"\\\\n📦 Bundle: {reproducibility_zip}\")\n    print(\"\\\\n✨ Ready for A/B comparison between processing modes!\")\n    \nexcept Exception as e:\n    print(f\"❌ Finalization failed: {e}\")\n    raise",
   "metadata": {
    "ExecuteTime": {
     "end_time": "2025-08-26T18:29:25.019194Z",
     "start_time": "2025-08-26T15:36:27.150200Z"
    }
   },
   "outputs": [
    {
     "name": "stdout",
     "output_type": "stream",
     "text": [
      "📦 Creating reproducibility bundle...\n",
      "Manifest written: /Users/itay/Documents/post_mix_data/PostMixRuns/postmix_dual_mode_v1_20250826-152634/manifest.json\n",
      "\\n============================================================\n",
      "🎉 DUAL-MODE PROCESSING COMPLETED SUCCESSFULLY!\n",
      "============================================================\n",
      "📁 Workspace: /Users/itay/Documents/post_mix_data/PostMixRuns/postmix_dual_mode_v1_20250826-152634\n",
      "\\n📄 Single-File Processing:\n",
      "   Input: /Users/itay/Documents/post_mix_data/PostMixRuns/postmix_dual_mode_v1_20250826-152634/inputs/mix.wav\n",
      "   Variants: 38\n",
      "   Location: single_file/\n",
      "\\n🎛️ Stem Mastering:\n",
      "   Stems: drums, bass, vocals, music\n",
      "   Variants: 5\n",
      "   Location: stem_mastering/\n",
      "\\n📊 Total Results:\n",
      "   Variants: 43\n",
      "   Masters: 86\n",
      "   Organized in: 86 variant subfolders\n",
      "\\n📦 Bundle: /Users/itay/Documents/post_mix_data/PostMixRuns/postmix_dual_mode_v1_20250826-152634/reports/bundles/postmix_dual_mode_v1_20250826T152634Z_12585f.zip\n",
      "\\n✨ Ready for A/B comparison between processing modes!\n"
     ]
    }
   ],
   "execution_count": 8
  },
  {
   "cell_type": "code",
   "source": "# This cell has been removed - mastering is now integrated into cell-6",
   "metadata": {
    "ExecuteTime": {
     "end_time": "2025-08-26T18:29:25.038350Z",
     "start_time": "2025-08-26T15:36:34.701687Z"
    }
   },
   "outputs": [],
   "execution_count": 9
  },
  {
   "cell_type": "code",
   "metadata": {
    "ExecuteTime": {
     "end_time": "2025-08-26T18:29:25.038738Z",
     "start_time": "2025-08-26T15:36:34.730236Z"
    }
   },
   "source": "## Summary of Improvements\n\nThis cleaned up version includes:\n\n### ✅ **Code Quality Improvements**\n- Removed duplicate mastering provider classes\n- Consolidated audio conversion logic into `audio_utils.py`\n- Fixed naming inconsistencies throughout codebase\n- Eliminated redundant functions and utilities\n\n### ✅ **Configuration Management**\n- Centralized configuration system in `config.py`\n- Environment variable support for key settings\n- Consistent parameter usage across all modules\n- Configuration versioning and snapshots\n\n### ✅ **Error Handling**\n- Proper exception handling with specific error types\n- Input validation for all audio processing functions\n- Graceful failure recovery where possible\n- Detailed error messages for debugging\n\n### ✅ **Architecture Improvements**\n- Simplified over-engineered abstractions\n- Cleaner separation of concerns\n- More maintainable and readable code structure\n- Better documentation and type hints\n\n### 🎛️ **NEW: Stem Mastering Integration**\n- **Dual-mode processing**: Choose between single-file or 4-stem processing\n- **Intelligent stem processing**: Category-specific dial optimization (drums, bass, vocals, music)\n- **Smart stem summing**: Automatic gain staging and bus compression\n- **5 stem combinations**: Punchy Mix, Wide & Open, Tight & Controlled, Aggressive, Balanced\n- **Backward compatibility**: Existing single-file pipeline unchanged\n\n### 🔧 **Next Steps for Further Improvement**\n- Add unit tests for all modules\n- Implement async processing for better performance  \n- Add more streaming platform profiles\n- Create CLI interface for batch processing\n- Add real-time monitoring and progress bars\n- Expand stem categories and processing variants",
   "outputs": [
    {
     "ename": "SyntaxError",
     "evalue": "invalid syntax (3888862432.py, line 3)",
     "output_type": "error",
     "traceback": [
      "\u001B[0;36m  Cell \u001B[0;32mIn[10], line 3\u001B[0;36m\u001B[0m\n\u001B[0;31m    This cleaned up version includes:\u001B[0m\n\u001B[0m         ^\u001B[0m\n\u001B[0;31mSyntaxError\u001B[0m\u001B[0;31m:\u001B[0m invalid syntax\n"
     ]
    }
   ],
   "execution_count": 10
  }
 ],
 "metadata": {
  "kernelspec": {
   "display_name": "Python 3",
   "language": "python",
   "name": "python3"
  },
  "language_info": {
   "codemirror_mode": {
    "name": "ipython",
    "version": 3
   },
   "file_extension": ".py",
   "mimetype": "text/x-python",
   "name": "python",
   "nbconvert_exporter": "python",
   "pygments_lexer": "ipython3",
   "version": "3.8.0"
  }
 },
 "nbformat": 4,
 "nbformat_minor": 4
}
