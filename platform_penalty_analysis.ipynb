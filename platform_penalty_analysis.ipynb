{
 "cells": [
  {
   "cell_type": "markdown",
   "metadata": {},
   "source": [
    "# 🎧 Platform Penalty Analysis\n",
    "\n",
    "**Simulate how your masters sound on different streaming platforms:**\n",
    "- 🎵 **Spotify**: Loudness normalization (-14 LUFS) + MP3 compression artifacts\n",
    "- 🎬 **YouTube**: Loudness normalization (-14 LUFS) + aggressive compression + stereo limiting\n",
    "- 🍎 **Apple Music**: Loudness normalization (-16 LUFS) + AAC compression + gentle limiting\n",
    "- 🎧 **SoundCloud**: MP3 compression + dynamic range reduction + high-frequency rolloff\n",
    "- 📻 **Radio**: Heavy compression + stereo narrowing + EQ curve + brick-wall limiting\n",
    "- 💿 **CD**: No streaming artifacts, just format conversion simulation\n",
    "\n",
    "**Features:**\n",
    "- Batch process all masters in a folder\n",
    "- Platform-specific audio processing simulation\n",
    "- Organized output with platform folders and suffixes\n",
    "- Before/after analysis reports"
   ]
  },
  {
   "cell_type": "markdown",
   "metadata": {},
   "source": [
    "## ⚙️ User Configuration\n",
    "**Edit these settings, then run all cells**"
   ]
  },
  {
   "cell_type": "code",
   "metadata": {
    "ExecuteTime": {
     "end_time": "2025-09-02T07:11:59.050910Z",
     "start_time": "2025-09-02T07:11:59.043394Z"
    }
   },
   "source": [
    "# ============================================================================\n",
    "# 🎧 PLATFORM PENALTY CONFIGURATION\n",
    "# ============================================================================\n",
    "\n",
    "# 📁 INPUT SETTINGS\n",
    "# Path to folder containing master WAV files\n",
    "MASTERS_FOLDER_PATH = \"/Users/itay/Documents/post_mix_data/Masters/\"\n",
    "\n",
    "# 🎵 PLATFORM SELECTION\n",
    "# Choose which platforms to simulate (True = enable, False = skip)\n",
    "PLATFORMS = {\n",
    "    'spotify': True,      # Spotify streaming simulation\n",
    "    'youtube': True,      # YouTube streaming simulation  \n",
    "    'apple_music': False,  # Apple Music streaming simulation\n",
    "    'soundcloud': False,   # SoundCloud streaming simulation\n",
    "    'radio': False,        # Commercial radio simulation\n",
    "    'cd': False,           # CD format simulation\n",
    "}\n",
    "\n",
    "# 🎚️ PROCESSING OPTIONS\n",
    "APPLY_LOUDNESS_NORMALIZATION = True    # Apply platform loudness targets\n",
    "SIMULATE_COMPRESSION_ARTIFACTS = True  # Simulate MP3/AAC artifacts\n",
    "APPLY_PLATFORM_EQ = True              # Apply platform-specific EQ curves\n",
    "CREATE_ANALYSIS_REPORT = True         # Generate before/after analysis\n",
    "\n",
    "# 🎧 OUTPUT SETTINGS\n",
    "OUTPUT_BASE_DIR = \"/Users/itay/Documents/post_mix_data\"  # Base output directory\n",
    "OUTPUT_FOLDER_NAME = \"penalized_masters\"                # Output folder name\n",
    "OUTPUT_FORMAT = \"PCM_24\"                               # Output bit depth\n",
    "\n",
    "print(\"✅ Platform penalty configuration loaded!\")\n",
    "print(f\"📁 Masters folder: {MASTERS_FOLDER_PATH}\")\n",
    "print(f\"🎵 Platforms enabled: {', '.join([p for p, enabled in PLATFORMS.items() if enabled])}\")\n",
    "print(f\"📊 Analysis report: {'Enabled' if CREATE_ANALYSIS_REPORT else 'Disabled'}\")"
   ],
   "outputs": [
    {
     "name": "stdout",
     "output_type": "stream",
     "text": [
      "✅ Platform penalty configuration loaded!\n",
      "📁 Masters folder: /Users/itay/Documents/post_mix_data/Masters/\n",
      "🎵 Platforms enabled: spotify, youtube\n",
      "📊 Analysis report: Enabled\n"
     ]
    }
   ],
   "execution_count": 1
  },
  {
   "cell_type": "markdown",
   "metadata": {},
   "source": [
    "## 📦 Load Dependencies"
   ]
  },
  {
   "cell_type": "code",
   "metadata": {
    "ExecuteTime": {
     "end_time": "2025-09-02T07:12:00.187334Z",
     "start_time": "2025-09-02T07:11:59.063928Z"
    }
   },
   "source": [
    "# Core imports\n",
    "import os\n",
    "import json\n",
    "import numpy as np\n",
    "import soundfile as sf\n",
    "from pathlib import Path\n",
    "from datetime import datetime\n",
    "import warnings\n",
    "warnings.filterwarnings('ignore')\n",
    "\n",
    "# Audio processing\n",
    "from dsp_premitives import (\n",
    "    peaking_eq, shelf_filter, highpass_filter, lowpass_filter,\n",
    "    compressor, normalize_lufs, measure_peak, measure_rms,\n",
    "    stereo_widener, apply_gain_db, _db_to_lin, _lin_to_db\n",
    ")\n",
    "\n",
    "# Analysis (if available)\n",
    "try:\n",
    "    from analysis import analyze_wav\n",
    "    ANALYSIS_AVAILABLE = True\n",
    "except ImportError:\n",
    "    ANALYSIS_AVAILABLE = False\n",
    "    print(\"⚠️ Analysis module not available - skipping detailed analysis\")\n",
    "\n",
    "print(\"🎧 Platform Penalty System Loaded!\")\n",
    "print(\"✅ Audio processing capabilities ready\")\n",
    "print(\"🚀 Ready to simulate streaming platforms!\")"
   ],
   "outputs": [
    {
     "name": "stdout",
     "output_type": "stream",
     "text": [
      "DSP Primitives Layer loaded:\n",
      "- Gain/level: apply_gain_db, normalize_peak, normalize_lufs, measure_peak, measure_rms\n",
      "- Filters: highpass_filter, lowpass_filter, bandpass_filter, shelf_filter, peaking_eq, notch_filter, tilt_eq\n",
      "- Stereo: mid_side_encode, mid_side_decode, stereo_widener\n",
      "- Dynamics: compressor (soft‑knee), transient_shaper\n",
      "- Fades: fade_in, fade_out\n",
      "- K‑weighting/LUFS approx: k_weight, lufs_integrated_approx\n",
      "Analysis layer loaded: analyze_wav/analyze_audio_array, analysis_table, plot_spectrum, plot_short_term_loudness, plot_waveform_excerpt, LUFS approx, true-peak approx, stereo & health metrics.\n",
      "🎧 Platform Penalty System Loaded!\n",
      "✅ Audio processing capabilities ready\n",
      "🚀 Ready to simulate streaming platforms!\n"
     ]
    }
   ],
   "execution_count": 2
  },
  {
   "cell_type": "markdown",
   "metadata": {},
   "source": [
    "## 🎵 Platform Processing Engines"
   ]
  },
  {
   "cell_type": "code",
   "metadata": {
    "ExecuteTime": {
     "end_time": "2025-09-02T07:12:00.273217Z",
     "start_time": "2025-09-02T07:12:00.265313Z"
    }
   },
   "source": "class PlatformProcessor:\n    \"\"\"Base class for platform-specific audio processing\"\"\"\n    \n    def __init__(self, platform_name: str, target_lufs: float = -14.0, can_boost: bool = False, boost_headroom_db: float = 1.0):\n        self.platform_name = platform_name\n        self.target_lufs = target_lufs\n        self.can_boost = can_boost\n        self.boost_headroom_db = boost_headroom_db\n        self.sample_rate = 44100\n    \n    def process(self, audio: np.ndarray, sr: int) -> np.ndarray:\n        \"\"\"Apply platform-specific processing\"\"\"\n        self.sample_rate = sr\n        processed = audio.copy()\n        \n        # Apply platform-specific processing\n        processed = self._apply_platform_processing(processed)\n        \n        # Apply loudness normalization if enabled\n        if APPLY_LOUDNESS_NORMALIZATION:\n            processed = self._apply_loudness_normalization(processed)\n        \n        return processed\n    \n    def _apply_platform_processing(self, audio: np.ndarray) -> np.ndarray:\n        \"\"\"Override in subclasses for platform-specific processing\"\"\"\n        return audio\n    \n    def _apply_loudness_normalization(self, audio: np.ndarray) -> np.ndarray:\n        \"\"\"Apply loudness normalization based on platform behavior\"\"\"\n        try:\n            # Measure current loudness\n            from dsp_premitives import measure_lufs\n            current_lufs = measure_lufs(audio, self.sample_rate)\n            \n            # Check peak before normalization\n            peak_before = np.max(np.abs(audio))\n            peak_db_before = 20 * np.log10(peak_before) if peak_before > 0 else -100\n            \n            # Calculate loudness difference\n            loudness_diff = self.target_lufs - current_lufs\n            \n            if loudness_diff < 0:\n                # Song is louder than target - apply penalty (turn it down)\n                gain_db = loudness_diff\n                gain_linear = 10 ** (gain_db / 20)\n                \n                processed = audio * gain_linear\n                peak_after = np.max(np.abs(processed))\n                peak_db_after = 20 * np.log10(peak_after) if peak_after > 0 else -100\n                \n                print(f\"      📉 Loudness Penalty: {gain_db:.1f} dB (LUFS: {current_lufs:.1f} → {self.target_lufs})\")\n                print(f\"         Peak: {peak_db_before:.1f} → {peak_db_after:.1f} dBFS (should never increase!)\")\n                \n                return processed\n                \n            elif loudness_diff > 0 and self.can_boost:\n                # Song is quieter and platform can boost\n                # Apply boost but leave headroom to prevent clipping\n                max_boost = loudness_diff - self.boost_headroom_db\n                if max_boost > 0:\n                    gain_db = max_boost\n                    gain_linear = 10 ** (gain_db / 20)\n                    \n                    # Check if boost would cause clipping\n                    peak_after_boost = peak_before * gain_linear\n                    if peak_after_boost > 0.95:  # Leave some headroom\n                        # Limit boost to prevent clipping\n                        gain_linear = 0.95 / peak_before\n                        gain_db = 20 * np.log10(gain_linear)\n                    \n                    processed = audio * gain_linear\n                    peak_after = np.max(np.abs(processed))\n                    peak_db_after = 20 * np.log10(peak_after) if peak_after > 0 else -100\n                    \n                    print(f\"      📈 Volume Boost: +{gain_db:.1f} dB (LUFS: {current_lufs:.1f} → ~{current_lufs + gain_db:.1f})\")\n                    print(f\"         Peak: {peak_db_before:.1f} → {peak_db_after:.1f} dBFS (max: -0.4 dBFS)\")\n                    \n                    # Final safety check - hard clip prevention\n                    if peak_after > 1.0:\n                        print(f\"         ⚠️ CLIPPING DETECTED! Reducing gain...\")\n                        processed = processed * (0.99 / peak_after)\n                    \n                    return processed\n                else:\n                    print(f\"      ✅ No change (too close to target)\")\n                    return audio\n            else:\n                # Song is quieter but platform doesn't boost\n                print(f\"      ✅ No boost (LUFS: {current_lufs:.1f}, platform doesn't boost)\")\n                print(f\"         Peak: {peak_db_before:.1f} dBFS\")\n                return audio\n                \n        except Exception as e:\n            print(f\"      ⚠️ Could not measure LUFS: {e}\")\n            # Fallback: assume it's a loud master and apply typical penalty\n            return audio * 0.8  # -2dB typical penalty",
   "outputs": [],
   "execution_count": 3
  },
  {
   "cell_type": "code",
   "metadata": {
    "ExecuteTime": {
     "end_time": "2025-09-02T07:12:00.285549Z",
     "start_time": "2025-09-02T07:12:00.281344Z"
    }
   },
   "source": "class SpotifyProcessor(PlatformProcessor):\n    \"\"\"Spotify streaming simulation (Normal mode)\"\"\"\n    \n    def __init__(self):\n        # Spotify can boost quiet tracks, leaving ~1dB headroom\n        super().__init__(\"Spotify\", target_lufs=-14.0, can_boost=True, boost_headroom_db=1.0)\n    \n    def _apply_platform_processing(self, audio: np.ndarray) -> np.ndarray:\n        \"\"\"Spotify: Clean normalization + mild MP3 artifacts\"\"\"\n        processed = audio.copy()\n        \n        if SIMULATE_COMPRESSION_ARTIFACTS:\n            # Simulate mild MP3 compression artifacts\n            # High frequency rolloff only - very gentle\n            processed = lowpass_filter(processed, self.sample_rate, 17000, order=1)\n        \n        return processed\n\n\nclass YouTubeProcessor(PlatformProcessor):\n    \"\"\"YouTube streaming simulation\"\"\"\n    \n    def __init__(self):\n        # YouTube only turns down, never boosts\n        super().__init__(\"YouTube\", target_lufs=-14.0, can_boost=False)\n    \n    def _apply_platform_processing(self, audio: np.ndarray) -> np.ndarray:\n        \"\"\"YouTube: Compression artifacts + codec simulation\"\"\"\n        processed = audio.copy()\n        \n        if SIMULATE_COMPRESSION_ARTIFACTS:\n            # High frequency rolloff for codec simulation\n            processed = lowpass_filter(processed, self.sample_rate, 16000, order=1)\n            \n            # NO compression - just codec artifacts\n            # YouTube's actual loudness normalization doesn't add compression\n            # It just turns down the volume\n            \n            # Very slight stereo width reduction for codec\n            if audio.ndim == 2:\n                processed = stereo_widener(processed, width=0.95)\n        \n        return processed",
   "outputs": [],
   "execution_count": 4
  },
  {
   "cell_type": "code",
   "metadata": {
    "ExecuteTime": {
     "end_time": "2025-09-02T07:12:00.297890Z",
     "start_time": "2025-09-02T07:12:00.293623Z"
    }
   },
   "source": [
    "class AppleMusicProcessor(PlatformProcessor):\n",
    "    \"\"\"Apple Music streaming simulation\"\"\"\n",
    "    \n",
    "    def __init__(self):\n",
    "        super().__init__(\"Apple Music\", target_lufs=-16.0)\n",
    "    \n",
    "    def _apply_platform_processing(self, audio: np.ndarray) -> np.ndarray:\n",
    "        \"\"\"Apple Music: High quality AAC + gentle processing\"\"\"\n",
    "        processed = audio.copy()\n",
    "        \n",
    "        if SIMULATE_COMPRESSION_ARTIFACTS:\n",
    "            # High quality AAC simulation - minimal artifacts\n",
    "            processed = lowpass_filter(processed, self.sample_rate, 18000, order=1)\n",
    "            \n",
    "            # Very gentle limiting\n",
    "            processed = compressor(\n",
    "                processed, self.sample_rate,\n",
    "                threshold_db=-3.0,\n",
    "                ratio=2.0,\n",
    "                attack_ms=5.0,\n",
    "                release_ms=100.0\n",
    "            )\n",
    "        \n",
    "        return processed\n",
    "\n",
    "\n",
    "class SoundCloudProcessor(PlatformProcessor):\n",
    "    \"\"\"SoundCloud streaming simulation\"\"\"\n",
    "    \n",
    "    def __init__(self):\n",
    "        super().__init__(\"SoundCloud\", target_lufs=-14.0)\n",
    "    \n",
    "    def _apply_platform_processing(self, audio: np.ndarray) -> np.ndarray:\n",
    "        \"\"\"SoundCloud: Heavy MP3 compression + processing\"\"\"\n",
    "        processed = audio.copy()\n",
    "        \n",
    "        if SIMULATE_COMPRESSION_ARTIFACTS:\n",
    "            # Heavy MP3 compression artifacts\n",
    "            processed = lowpass_filter(processed, self.sample_rate, 11000, order=4)\n",
    "            \n",
    "            # Dynamic range reduction\n",
    "            processed = compressor(\n",
    "                processed, self.sample_rate,\n",
    "                threshold_db=-12.0,\n",
    "                ratio=4.0,\n",
    "                attack_ms=2.0,\n",
    "                release_ms=50.0\n",
    "            )\n",
    "            \n",
    "            # Additional harmonic distortion\n",
    "            processed = np.tanh(processed * 1.1) / 1.1\n",
    "        \n",
    "        return processed"
   ],
   "outputs": [],
   "execution_count": 5
  },
  {
   "cell_type": "code",
   "metadata": {
    "ExecuteTime": {
     "end_time": "2025-09-02T07:12:00.314969Z",
     "start_time": "2025-09-02T07:12:00.309525Z"
    }
   },
   "source": [
    "class RadioProcessor(PlatformProcessor):\n",
    "    \"\"\"Commercial radio simulation\"\"\"\n",
    "    \n",
    "    def __init__(self):\n",
    "        super().__init__(\"Radio\", target_lufs=-12.0)\n",
    "    \n",
    "    def _apply_platform_processing(self, audio: np.ndarray) -> np.ndarray:\n",
    "        \"\"\"Radio: Heavy compression + EQ + stereo narrowing\"\"\"\n",
    "        processed = audio.copy()\n",
    "        \n",
    "        # Radio EQ curve\n",
    "        if APPLY_PLATFORM_EQ:\n",
    "            processed = highpass_filter(processed, self.sample_rate, 80, order=2)  # Remove sub\n",
    "            processed = peaking_eq(processed, self.sample_rate, 100, -2.0, 1.0)    # Reduce mud\n",
    "            processed = peaking_eq(processed, self.sample_rate, 3000, 2.0, 1.5)    # Presence boost\n",
    "            processed = peaking_eq(processed, self.sample_rate, 8000, 1.5, 1.0)    # Air\n",
    "            processed = lowpass_filter(processed, self.sample_rate, 13000, order=2) # Top rolloff\n",
    "        \n",
    "        # Heavy compression\n",
    "        processed = compressor(\n",
    "            processed, self.sample_rate,\n",
    "            threshold_db=-6.0,\n",
    "            ratio=6.0,\n",
    "            attack_ms=0.5,\n",
    "            release_ms=20.0\n",
    "        )\n",
    "        \n",
    "        # Stereo narrowing for mono compatibility\n",
    "        if audio.ndim == 2:\n",
    "            processed = stereo_widener(processed, width=0.6)\n",
    "        \n",
    "        # Brick wall limiting\n",
    "        processed = compressor(\n",
    "            processed, self.sample_rate,\n",
    "            threshold_db=-1.0,\n",
    "            ratio=20.0,\n",
    "            attack_ms=0.1,\n",
    "            release_ms=5.0\n",
    "        )\n",
    "        \n",
    "        return processed\n",
    "\n",
    "\n",
    "class CDProcessor(PlatformProcessor):\n",
    "    \"\"\"CD format simulation\"\"\"\n",
    "    \n",
    "    def __init__(self):\n",
    "        super().__init__(\"CD\", target_lufs=-16.0)\n",
    "    \n",
    "    def _apply_platform_processing(self, audio: np.ndarray) -> np.ndarray:\n",
    "        \"\"\"CD: Minimal processing - format conversion only\"\"\"\n",
    "        processed = audio.copy()\n",
    "        \n",
    "        # CD format simulation: 16-bit quantization noise simulation\n",
    "        if SIMULATE_COMPRESSION_ARTIFACTS:\n",
    "            # Add subtle quantization noise\n",
    "            noise_floor = 1.0 / (2**16)  # 16-bit noise floor\n",
    "            noise = np.random.random(processed.shape) * noise_floor * 0.1\n",
    "            processed = processed + noise\n",
    "        \n",
    "        return processed"
   ],
   "outputs": [],
   "execution_count": 6
  },
  {
   "cell_type": "code",
   "metadata": {
    "ExecuteTime": {
     "end_time": "2025-09-02T07:12:00.325024Z",
     "start_time": "2025-09-02T07:12:00.321406Z"
    }
   },
   "source": [
    "# Platform processor factory\n",
    "PLATFORM_PROCESSORS = {\n",
    "    'spotify': SpotifyProcessor,\n",
    "    'youtube': YouTubeProcessor,\n",
    "    'apple_music': AppleMusicProcessor,\n",
    "    'soundcloud': SoundCloudProcessor,\n",
    "    'radio': RadioProcessor,\n",
    "    'cd': CDProcessor,\n",
    "}\n",
    "\n",
    "print(\"🎵 Platform processors loaded:\")\n",
    "for platform in PLATFORM_PROCESSORS.keys():\n",
    "    status = \"✅\" if PLATFORMS.get(platform, False) else \"⏸️\"\n",
    "    print(f\"  {status} {platform.title().replace('_', ' ')}\")"
   ],
   "outputs": [
    {
     "name": "stdout",
     "output_type": "stream",
     "text": [
      "🎵 Platform processors loaded:\n",
      "  ✅ Spotify\n",
      "  ✅ Youtube\n",
      "  ⏸️ Apple Music\n",
      "  ⏸️ Soundcloud\n",
      "  ⏸️ Radio\n",
      "  ⏸️ Cd\n"
     ]
    }
   ],
   "execution_count": 7
  },
  {
   "cell_type": "markdown",
   "metadata": {},
   "source": [
    "## 📁 Discover Master Files"
   ]
  },
  {
   "cell_type": "code",
   "metadata": {
    "ExecuteTime": {
     "end_time": "2025-09-02T07:12:00.336935Z",
     "start_time": "2025-09-02T07:12:00.332071Z"
    }
   },
   "source": [
    "def find_master_files(masters_folder: str) -> list:\n",
    "    \"\"\"Find all WAV files in the masters folder\"\"\"\n",
    "    masters_path = Path(masters_folder)\n",
    "    \n",
    "    if not masters_path.exists():\n",
    "        raise FileNotFoundError(f\"Masters folder not found: {masters_folder}\")\n",
    "    \n",
    "    # Find all WAV files\n",
    "    wav_files = []\n",
    "    for wav_file in masters_path.rglob('*.wav'):\n",
    "        if wav_file.is_file():\n",
    "            wav_files.append(wav_file)\n",
    "    \n",
    "    # Sort by name for consistent processing order\n",
    "    wav_files.sort(key=lambda x: x.name)\n",
    "    \n",
    "    return wav_files\n",
    "\n",
    "\n",
    "# Discover master files\n",
    "print(f\"🔍 Scanning for master files in: {MASTERS_FOLDER_PATH}\")\n",
    "\n",
    "try:\n",
    "    master_files = find_master_files(MASTERS_FOLDER_PATH)\n",
    "    \n",
    "    print(f\"\\n📊 Found {len(master_files)} master files:\")\n",
    "    for i, master_file in enumerate(master_files, 1):\n",
    "        relative_path = os.path.relpath(master_file, MASTERS_FOLDER_PATH)\n",
    "        print(f\"  {i:2d}. {relative_path}\")\n",
    "    \n",
    "    if len(master_files) == 0:\n",
    "        print(\"❌ No WAV files found in the specified folder!\")\n",
    "    else:\n",
    "        print(f\"\\n✅ Ready to process {len(master_files)} files\")\n",
    "        \n",
    "except FileNotFoundError as e:\n",
    "    print(f\"❌ Error: {e}\")\n",
    "    master_files = []"
   ],
   "outputs": [
    {
     "name": "stdout",
     "output_type": "stream",
     "text": [
      "🔍 Scanning for master files in: /Users/itay/Documents/post_mix_data/Masters/\n",
      "\n",
      "📊 Found 2 master files:\n",
      "   1. Bass_Heavy.wav\n",
      "   2. Stem_Aggressive.wav\n",
      "\n",
      "✅ Ready to process 2 files\n"
     ]
    }
   ],
   "execution_count": 8
  },
  {
   "cell_type": "markdown",
   "metadata": {},
   "source": [
    "## 🎧 Setup Output Structure"
   ]
  },
  {
   "cell_type": "code",
   "metadata": {
    "ExecuteTime": {
     "end_time": "2025-09-02T07:12:00.380011Z",
     "start_time": "2025-09-02T07:12:00.374376Z"
    }
   },
   "source": "# Create output directory structure\ntimestamp = datetime.now().strftime(\"%Y%m%d_%H%M%S\")\n# Create mother folder and timestamped subfolder\nmother_folder = Path(OUTPUT_BASE_DIR) / OUTPUT_FOLDER_NAME\nmother_folder.mkdir(parents=True, exist_ok=True)\noutput_base = mother_folder / f\"session_{timestamp}\"\n\nprint(f\"📁 Creating output structure...\")\nprint(f\"   Mother folder: {mother_folder}\")\nprint(f\"   Session folder: {output_base}\")\n\n# Create base output directory\noutput_base.mkdir(parents=True, exist_ok=True)\n\n# Create platform subdirectories\nplatform_dirs = {}\nenabled_platforms = [platform for platform, enabled in PLATFORMS.items() if enabled]\n\nfor platform in enabled_platforms:\n    platform_dir = output_base / platform\n    platform_dir.mkdir(exist_ok=True)\n    platform_dirs[platform] = platform_dir\n    print(f\"   ✅ {platform}: {platform_dir}\")\n\n# Create analysis directory if needed\nif CREATE_ANALYSIS_REPORT:\n    analysis_dir = output_base / \"analysis\"\n    analysis_dir.mkdir(exist_ok=True)\n    print(f\"   📊 analysis: {analysis_dir}\")\n\nprint(f\"\\n✅ Output structure ready!\")\nprint(f\"📂 {len(platform_dirs)} platform folders created\")",
   "outputs": [
    {
     "name": "stdout",
     "output_type": "stream",
     "text": [
      "📁 Creating output structure...\n",
      "   Mother folder: /Users/itay/Documents/post_mix_data/penalized_masters\n",
      "   Session folder: /Users/itay/Documents/post_mix_data/penalized_masters/session_20250902_101200\n",
      "   ✅ spotify: /Users/itay/Documents/post_mix_data/penalized_masters/session_20250902_101200/spotify\n",
      "   ✅ youtube: /Users/itay/Documents/post_mix_data/penalized_masters/session_20250902_101200/youtube\n",
      "   📊 analysis: /Users/itay/Documents/post_mix_data/penalized_masters/session_20250902_101200/analysis\n",
      "\n",
      "✅ Output structure ready!\n",
      "📂 2 platform folders created\n"
     ]
    }
   ],
   "execution_count": 9
  },
  {
   "cell_type": "markdown",
   "metadata": {},
   "source": [
    "## 🎛️ Process Masters for All Platforms"
   ]
  },
  {
   "cell_type": "code",
   "metadata": {
    "ExecuteTime": {
     "end_time": "2025-09-02T07:12:11.373757Z",
     "start_time": "2025-09-02T07:12:00.391116Z"
    }
   },
   "source": [
    "if master_files and enabled_platforms:\n",
    "    print(f\"🎛️ PROCESSING {len(master_files)} MASTERS FOR {len(enabled_platforms)} PLATFORMS\")\n",
    "    print(\"=\" * 70)\n",
    "    \n",
    "    # Initialize processors\n",
    "    processors = {}\n",
    "    for platform in enabled_platforms:\n",
    "        processors[platform] = PLATFORM_PROCESSORS[platform]()\n",
    "    \n",
    "    # Process each master file\n",
    "    total_files_processed = 0\n",
    "    processing_results = []\n",
    "    \n",
    "    for file_idx, master_file in enumerate(master_files, 1):\n",
    "        print(f\"\\n[{file_idx}/{len(master_files)}] Processing: {master_file.name}\")\n",
    "        \n",
    "        try:\n",
    "            # Load master file\n",
    "            audio_data, sample_rate = sf.read(str(master_file))\n",
    "            \n",
    "            print(f\"   📊 Loaded: {audio_data.shape} @ {sample_rate} Hz\")\n",
    "            \n",
    "            # Get base filename without extension\n",
    "            base_name = master_file.stem\n",
    "            \n",
    "            file_results = {\n",
    "                'original_file': str(master_file),\n",
    "                'base_name': base_name,\n",
    "                'platforms': {}\n",
    "            }\n",
    "            \n",
    "            # Process for each enabled platform\n",
    "            for platform in enabled_platforms:\n",
    "                print(f\"   🎵 Processing for {platform.title().replace('_', ' ')}...\")\n",
    "                \n",
    "                try:\n",
    "                    # Apply platform processing\n",
    "                    processor = processors[platform]\n",
    "                    processed_audio = processor.process(audio_data, sample_rate)\n",
    "                    \n",
    "                    # Create output filename with platform suffix\n",
    "                    output_filename = f\"{base_name}_{platform}.wav\"\n",
    "                    output_path = platform_dirs[platform] / output_filename\n",
    "                    \n",
    "                    # Save processed audio\n",
    "                    sf.write(str(output_path), processed_audio, sample_rate, subtype=OUTPUT_FORMAT)\n",
    "                    \n",
    "                    # Calculate basic metrics\n",
    "                    original_peak = measure_peak(audio_data)\n",
    "                    processed_peak = measure_peak(processed_audio)\n",
    "                    original_rms = measure_rms(audio_data)\n",
    "                    processed_rms = measure_rms(processed_audio)\n",
    "                    \n",
    "                    file_results['platforms'][platform] = {\n",
    "                        'output_path': str(output_path),\n",
    "                        'original_peak_db': _lin_to_db(original_peak),\n",
    "                        'processed_peak_db': _lin_to_db(processed_peak),\n",
    "                        'original_rms_db': _lin_to_db(original_rms),\n",
    "                        'processed_rms_db': _lin_to_db(processed_rms),\n",
    "                        'peak_change_db': _lin_to_db(processed_peak) - _lin_to_db(original_peak),\n",
    "                        'rms_change_db': _lin_to_db(processed_rms) - _lin_to_db(original_rms)\n",
    "                    }\n",
    "                    \n",
    "                    print(f\"      ✅ Saved: {output_filename}\")\n",
    "                    print(f\"      📊 Peak: {_lin_to_db(original_peak):.1f} → {_lin_to_db(processed_peak):.1f} dBFS\")\n",
    "                    \n",
    "                    total_files_processed += 1\n",
    "                    \n",
    "                except Exception as e:\n",
    "                    print(f\"      ❌ Error processing {platform}: {e}\")\n",
    "                    file_results['platforms'][platform] = {'error': str(e)}\n",
    "            \n",
    "            processing_results.append(file_results)\n",
    "            \n",
    "        except Exception as e:\n",
    "            print(f\"   ❌ Error loading file: {e}\")\n",
    "            processing_results.append({\n",
    "                'original_file': str(master_file),\n",
    "                'base_name': master_file.stem,\n",
    "                'error': str(e)\n",
    "            })\n",
    "    \n",
    "    print(\"\\n\" + \"=\" * 70)\n",
    "    print(\"🏆 PLATFORM PROCESSING COMPLETE!\")\n",
    "    print(\"=\" * 70)\n",
    "    print(f\"📊 SUMMARY:\")\n",
    "    print(f\"  • Masters processed: {len(master_files)}\")\n",
    "    print(f\"  • Platforms: {len(enabled_platforms)}\")\n",
    "    print(f\"  • Total files created: {total_files_processed}\")\n",
    "    print(f\"  • Output location: {output_base}\")\n",
    "    \n",
    "    print(f\"\\n📁 PLATFORM BREAKDOWN:\")\n",
    "    for platform in enabled_platforms:\n",
    "        platform_file_count = len([f for f in platform_dirs[platform].glob('*.wav')])\n",
    "        print(f\"  • {platform.title().replace('_', ' ')}: {platform_file_count} files\")\n",
    "\n",
    "elif not master_files:\n",
    "    print(\"❌ No master files found - cannot process\")\n",
    "    \n",
    "elif not enabled_platforms:\n",
    "    print(\"❌ No platforms enabled - cannot process\")\n",
    "    \n",
    "else:\n",
    "    print(\"❌ Cannot process - check configuration\")"
   ],
   "outputs": [
    {
     "name": "stdout",
     "output_type": "stream",
     "text": [
      "🎛️ PROCESSING 2 MASTERS FOR 2 PLATFORMS\n",
      "======================================================================\n",
      "\n",
      "[1/2] Processing: Bass_Heavy.wav\n",
      "   📊 Loaded: (15787800, 2) @ 44100 Hz\n",
      "   🎵 Processing for Spotify...\n",
      "      ⚠️ Could not measure LUFS: cannot import name 'measure_lufs' from 'dsp_premitives' (/Users/itay/Documents/GitHub/post_mix_analysis/dsp_premitives.py)\n",
      "      ✅ Saved: Bass_Heavy_spotify.wav\n",
      "      📊 Peak: 0.0 → -1.7 dBFS\n",
      "   🎵 Processing for Youtube...\n",
      "      ⚠️ Could not measure LUFS: cannot import name 'measure_lufs' from 'dsp_premitives' (/Users/itay/Documents/GitHub/post_mix_analysis/dsp_premitives.py)\n",
      "      ✅ Saved: Bass_Heavy_youtube.wav\n",
      "      📊 Peak: 0.0 → -1.7 dBFS\n",
      "\n",
      "[2/2] Processing: Stem_Aggressive.wav\n",
      "   📊 Loaded: (15787800, 2) @ 44100 Hz\n",
      "   🎵 Processing for Spotify...\n",
      "      ⚠️ Could not measure LUFS: cannot import name 'measure_lufs' from 'dsp_premitives' (/Users/itay/Documents/GitHub/post_mix_analysis/dsp_premitives.py)\n",
      "      ✅ Saved: Stem_Aggressive_spotify.wav\n",
      "      📊 Peak: 0.0 → -1.6 dBFS\n",
      "   🎵 Processing for Youtube...\n",
      "      ⚠️ Could not measure LUFS: cannot import name 'measure_lufs' from 'dsp_premitives' (/Users/itay/Documents/GitHub/post_mix_analysis/dsp_premitives.py)\n",
      "      ✅ Saved: Stem_Aggressive_youtube.wav\n",
      "      📊 Peak: 0.0 → -1.6 dBFS\n",
      "\n",
      "======================================================================\n",
      "🏆 PLATFORM PROCESSING COMPLETE!\n",
      "======================================================================\n",
      "📊 SUMMARY:\n",
      "  • Masters processed: 2\n",
      "  • Platforms: 2\n",
      "  • Total files created: 4\n",
      "  • Output location: /Users/itay/Documents/post_mix_data/penalized_masters/session_20250902_101200\n",
      "\n",
      "📁 PLATFORM BREAKDOWN:\n",
      "  • Spotify: 2 files\n",
      "  • Youtube: 2 files\n"
     ]
    }
   ],
   "execution_count": 10
  },
  {
   "cell_type": "markdown",
   "metadata": {},
   "source": [
    "## 📊 Generate Analysis Report"
   ]
  },
  {
   "cell_type": "code",
   "metadata": {
    "ExecuteTime": {
     "end_time": "2025-09-02T07:12:11.413380Z",
     "start_time": "2025-09-02T07:12:11.403127Z"
    }
   },
   "source": [
    "if CREATE_ANALYSIS_REPORT and 'processing_results' in locals() and processing_results:\n",
    "    print(\"📊 GENERATING ANALYSIS REPORT\")\n",
    "    print(\"=\" * 50)\n",
    "    \n",
    "    # Create analysis summary\n",
    "    analysis_summary = {\n",
    "        'timestamp': datetime.now().isoformat(),\n",
    "        'masters_folder': MASTERS_FOLDER_PATH,\n",
    "        'output_folder': str(output_base),\n",
    "        'platforms_processed': enabled_platforms,\n",
    "        'total_masters': len(master_files),\n",
    "        'total_files_created': total_files_processed,\n",
    "        'configuration': {\n",
    "            'loudness_normalization': APPLY_LOUDNESS_NORMALIZATION,\n",
    "            'compression_artifacts': SIMULATE_COMPRESSION_ARTIFACTS,\n",
    "            'platform_eq': APPLY_PLATFORM_EQ,\n",
    "            'output_format': OUTPUT_FORMAT\n",
    "        },\n",
    "        'processing_results': processing_results\n",
    "    }\n",
    "    \n",
    "    # Save JSON report\n",
    "    report_path = analysis_dir / f\"platform_penalty_report_{timestamp}.json\"\n",
    "    with open(report_path, 'w') as f:\n",
    "        json.dump(analysis_summary, f, indent=2)\n",
    "    \n",
    "    print(f\"✅ JSON report saved: {report_path}\")\n",
    "    \n",
    "    # Generate text summary\n",
    "    summary_path = analysis_dir / f\"platform_penalty_summary_{timestamp}.txt\"\n",
    "    with open(summary_path, 'w') as f:\n",
    "        f.write(\"🎧 PLATFORM PENALTY ANALYSIS SUMMARY\\n\")\n",
    "        f.write(\"=\" * 50 + \"\\n\\n\")\n",
    "        f.write(f\"Generated: {datetime.now().strftime('%Y-%m-%d %H:%M:%S')}\\n\")\n",
    "        f.write(f\"Masters folder: {MASTERS_FOLDER_PATH}\\n\")\n",
    "        f.write(f\"Output folder: {output_base}\\n\\n\")\n",
    "        \n",
    "        f.write(f\"📊 PROCESSING SUMMARY:\\n\")\n",
    "        f.write(f\"  • Masters processed: {len(master_files)}\\n\")\n",
    "        f.write(f\"  • Platforms: {', '.join(enabled_platforms)}\\n\")\n",
    "        f.write(f\"  • Total files created: {total_files_processed}\\n\\n\")\n",
    "        \n",
    "        f.write(f\"🎵 PLATFORM BREAKDOWN:\\n\")\n",
    "        for platform in enabled_platforms:\n",
    "            platform_file_count = len([f for f in platform_dirs[platform].glob('*.wav')])\n",
    "            f.write(f\"  • {platform.title().replace('_', ' ')}: {platform_file_count} files\\n\")\n",
    "        \n",
    "        f.write(f\"\\n📁 OUTPUT STRUCTURE:\\n\")\n",
    "        for platform in enabled_platforms:\n",
    "            f.write(f\"  📂 {platform}/\\n\")\n",
    "            for wav_file in sorted(platform_dirs[platform].glob('*.wav')):\n",
    "                f.write(f\"     • {wav_file.name}\\n\")\n",
    "        \n",
    "        # Add level change analysis\n",
    "        f.write(f\"\\n📈 LEVEL CHANGES SUMMARY:\\n\")\n",
    "        for result in processing_results:\n",
    "            if 'error' not in result and 'platforms' in result:\n",
    "                f.write(f\"\\n  🎵 {result['base_name']}:\\n\")\n",
    "                for platform, metrics in result['platforms'].items():\n",
    "                    if 'error' not in metrics:\n",
    "                        peak_change = metrics['peak_change_db']\n",
    "                        rms_change = metrics['rms_change_db']\n",
    "                        f.write(f\"    • {platform.title().replace('_', ' ')}: \"\n",
    "                               f\"Peak {peak_change:+.1f}dB, RMS {rms_change:+.1f}dB\\n\")\n",
    "    \n",
    "    print(f\"✅ Text summary saved: {summary_path}\")\n",
    "    \n",
    "    print(f\"\\n📊 ANALYSIS COMPLETE!\")\n",
    "    print(f\"   Reports saved in: {analysis_dir}\")\n",
    "\n",
    "elif CREATE_ANALYSIS_REPORT:\n",
    "    print(\"⚠️ Analysis report requested but no processing results available\")\n",
    "else:\n",
    "    print(\"ℹ️ Analysis report generation disabled\")"
   ],
   "outputs": [
    {
     "name": "stdout",
     "output_type": "stream",
     "text": [
      "📊 GENERATING ANALYSIS REPORT\n",
      "==================================================\n",
      "✅ JSON report saved: /Users/itay/Documents/post_mix_data/penalized_masters/session_20250902_101200/analysis/platform_penalty_report_20250902_101200.json\n",
      "✅ Text summary saved: /Users/itay/Documents/post_mix_data/penalized_masters/session_20250902_101200/analysis/platform_penalty_summary_20250902_101200.txt\n",
      "\n",
      "📊 ANALYSIS COMPLETE!\n",
      "   Reports saved in: /Users/itay/Documents/post_mix_data/penalized_masters/session_20250902_101200/analysis\n"
     ]
    }
   ],
   "execution_count": 11
  },
  {
   "cell_type": "markdown",
   "metadata": {},
   "source": [
    "## 🎉 Summary"
   ]
  },
  {
   "cell_type": "code",
   "metadata": {
    "ExecuteTime": {
     "end_time": "2025-09-02T07:12:11.458270Z",
     "start_time": "2025-09-02T07:12:11.450559Z"
    }
   },
   "source": [
    "# Final summary\n",
    "print(\"=\" * 70)\n",
    "print(\"🎉 PLATFORM PENALTY ANALYSIS COMPLETE!\")\n",
    "print(\"=\" * 70)\n",
    "\n",
    "if 'master_files' in locals() and master_files and enabled_platforms:\n",
    "    print(f\"📁 Output: {output_base}\")\n",
    "    print(f\"🎵 Masters processed: {len(master_files)}\")\n",
    "    print(f\"🎧 Platforms simulated: {', '.join(enabled_platforms)}\")\n",
    "    print(f\"📊 Total penalized files created: {total_files_processed}\")\n",
    "    \n",
    "    print(f\"\\n📂 FOLDER STRUCTURE:\")\n",
    "    print(f\"   {output_base.name}/\")\n",
    "    for platform in enabled_platforms:\n",
    "        file_count = len([f for f in platform_dirs[platform].glob('*.wav')])\n",
    "        print(f\"   ├── {platform}/ ({file_count} files)\")\n",
    "        \n",
    "        # Show first few files as examples\n",
    "        example_files = list(platform_dirs[platform].glob('*.wav'))[:3]\n",
    "        for i, example_file in enumerate(example_files):\n",
    "            prefix = \"│   ├──\" if i < len(example_files) - 1 else \"│   └──\"\n",
    "            print(f\"   {prefix} {example_file.name}\")\n",
    "        \n",
    "        if file_count > 3:\n",
    "            print(f\"   │   └── ... ({file_count - 3} more files)\")\n",
    "    \n",
    "    if CREATE_ANALYSIS_REPORT:\n",
    "        print(f\"   └── analysis/ (reports)\")\n",
    "    \n",
    "    print(f\"\\n✨ PLATFORM PROCESSING APPLIED:\")\n",
    "    for platform in enabled_platforms:\n",
    "        processor = processors[platform]\n",
    "        target_lufs = processor.target_lufs\n",
    "        print(f\"  • {platform.title().replace('_', ' ')}: {target_lufs} LUFS normalization + platform-specific processing\")\n",
    "    \n",
    "    print(f\"\\n🎧 Ready for A/B testing against originals!\")\n",
    "    print(f\"🔍 Compare how your masters sound on different platforms\")\n",
    "    \n",
    "else:\n",
    "    print(\"❌ Processing was not completed\")\n",
    "    print(\"   Check configuration and input paths\")\n",
    "\n",
    "print(\"\\n\" + \"=\" * 70)"
   ],
   "outputs": [
    {
     "name": "stdout",
     "output_type": "stream",
     "text": [
      "======================================================================\n",
      "🎉 PLATFORM PENALTY ANALYSIS COMPLETE!\n",
      "======================================================================\n",
      "📁 Output: /Users/itay/Documents/post_mix_data/penalized_masters/session_20250902_101200\n",
      "🎵 Masters processed: 2\n",
      "🎧 Platforms simulated: spotify, youtube\n",
      "📊 Total penalized files created: 4\n",
      "\n",
      "📂 FOLDER STRUCTURE:\n",
      "   session_20250902_101200/\n",
      "   ├── spotify/ (2 files)\n",
      "   │   ├── Stem_Aggressive_spotify.wav\n",
      "   │   └── Bass_Heavy_spotify.wav\n",
      "   ├── youtube/ (2 files)\n",
      "   │   ├── Bass_Heavy_youtube.wav\n",
      "   │   └── Stem_Aggressive_youtube.wav\n",
      "   └── analysis/ (reports)\n",
      "\n",
      "✨ PLATFORM PROCESSING APPLIED:\n",
      "  • Spotify: -14.0 LUFS normalization + platform-specific processing\n",
      "  • Youtube: -14.0 LUFS normalization + platform-specific processing\n",
      "\n",
      "🎧 Ready for A/B testing against originals!\n",
      "🔍 Compare how your masters sound on different platforms\n",
      "\n",
      "======================================================================\n"
     ]
    }
   ],
   "execution_count": 12
  }
 ],
 "metadata": {
  "kernelspec": {
   "display_name": "Python 3",
   "language": "python",
   "name": "python3"
  },
  "language_info": {
   "codemirror_mode": {
    "name": "ipython",
    "version": 3
   },
   "file_extension": ".py",
   "mimetype": "text/x-python",
   "name": "python",
   "nbconvert_exporter": "python",
   "pygments_lexer": "ipython3",
   "version": "3.8.5"
  }
 },
 "nbformat": 4,
 "nbformat_minor": 4
}
