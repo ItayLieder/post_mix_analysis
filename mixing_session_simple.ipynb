{
 "cells": [
  {
   "cell_type": "markdown",
   "metadata": {},
   "source": [
    "# 🎛️ Professional Mixing Session\n",
    "## Multi-Channel Mixing → Mixed WAV Export\n",
    "\n",
    "This notebook provides professional mixing of raw audio channels, creating a balanced stereo mix.\n",
    "\n",
    "**Workflow:**\n",
    "1. Load raw channels (organized by instrument groups)\n",
    "2. Apply professional mixing (EQ, compression, spatial positioning, effects)\n",
    "3. Export final mixed WAV file\n",
    "4. Optionally export stems for further processing"
   ]
  },
  {
   "cell_type": "code",
   "metadata": {
    "ExecuteTime": {
     "end_time": "2025-08-28T22:18:14.526007Z",
     "start_time": "2025-08-28T22:18:13.941578Z"
    }
   },
   "source": [
    "# Core imports and setup\n",
    "import os\n",
    "import json\n",
    "import numpy as np\n",
    "import soundfile as sf\n",
    "from pathlib import Path\n",
    "from typing import Dict, List, Tuple, Optional\n",
    "from datetime import datetime\n",
    "import warnings\n",
    "warnings.filterwarnings('ignore')\n",
    "\n",
    "# Import our mixing system\n",
    "from mixing_engine import MixingSession, ChannelStrip, MixBus\n",
    "from channel_recognition import identify_channel_type, suggest_processing\n",
    "from mix_templates import MixTemplate, get_template\n",
    "\n",
    "print(\"🎛️ Professional Mixing System Ready!\")\n",
    "print(\"📁 Supports multi-channel input with intelligent processing\")\n",
    "print(\"🎚️ Exports mixed WAV file\")"
   ],
   "outputs": [
    {
     "name": "stdout",
     "output_type": "stream",
     "text": [
      "DSP Primitives Layer loaded:\n",
      "- Gain/level: apply_gain_db, normalize_peak, normalize_lufs, measure_peak, measure_rms\n",
      "- Filters: highpass_filter, lowpass_filter, bandpass_filter, shelf_filter, peaking_eq, notch_filter, tilt_eq\n",
      "- Stereo: mid_side_encode, mid_side_decode, stereo_widener\n",
      "- Dynamics: compressor (soft‑knee), transient_shaper\n",
      "- Fades: fade_in, fade_out\n",
      "- K‑weighting/LUFS approx: k_weight, lufs_integrated_approx\n",
      "🎛️ Mixing Engine loaded!\n",
      "   • Multi-channel support with intelligent routing\n",
      "   • Template-based processing\n",
      "   • Bus architecture with grouping\n",
      "   • Exports stems for post-mix pipeline\n",
      "🔍 Channel Recognition System loaded!\n",
      "   • Name pattern matching with 40+ instrument types\n",
      "   • Frequency analysis for content identification\n",
      "   • Automatic processing suggestions\n",
      "   • User hint support for ambiguous channels\n",
      "🎨 Mix Templates loaded!\n",
      "   • 5 genre-specific templates (Pop, Rock, EDM, Hip-Hop, Jazz)\n",
      "   • Channel-specific EQ, compression, and effects\n",
      "   • Intelligent spatial positioning\n",
      "   • Customizable parameters for fine-tuning\n",
      "🎛️ Professional Mixing System Ready!\n",
      "📁 Supports multi-channel input with intelligent processing\n",
      "🎚️ Exports mixed WAV file\n"
     ]
    }
   ],
   "execution_count": 1
  },
  {
   "cell_type": "markdown",
   "metadata": {},
   "source": [
    "## 📁 Step 1: Define Your Input Channels\n",
    "\n",
    "Organize your raw audio files by instrument category."
   ]
  },
  {
   "cell_type": "code",
   "metadata": {
    "ExecuteTime": {
     "end_time": "2025-08-28T22:18:14.539447Z",
     "start_time": "2025-08-28T22:18:14.531102Z"
    }
   },
   "source": [
    "# Load from folder structure\n",
    "def load_from_folder_structure(base_path: str) -> Dict:\n",
    "    \"\"\"Load channels from organized folder structure\"\"\"\n",
    "    channels = {}\n",
    "    base = Path(base_path)\n",
    "    \n",
    "    print(f\"🔍 Looking for channels in: {base_path}\")\n",
    "    \n",
    "    if not base.exists():\n",
    "        print(f\"❌ Directory not found: {base_path}\")\n",
    "        print(\"📝 Please update the base_path variable below with your actual channel directory\")\n",
    "        return {}\n",
    "    \n",
    "    # Expected categories\n",
    "    categories = ['drums', 'bass', 'guitars', 'keys', 'vocals', 'backvocals', 'synths', 'strings', 'brass', 'percussion', 'fx', 'other']\n",
    "    \n",
    "    for category in categories:\n",
    "        category_path = base / category\n",
    "        if category_path.exists():\n",
    "            channels[category] = {}\n",
    "            audio_files = list(category_path.glob('*.wav'))\n",
    "            if audio_files:\n",
    "                print(f\"  ✅ Found {category}/ with {len(audio_files)} files\")\n",
    "                for audio_file in audio_files:\n",
    "                    channel_name = audio_file.stem\n",
    "                    channels[category][channel_name] = str(audio_file)\n",
    "            else:\n",
    "                print(f\"  ⚠️ Found {category}/ but no .wav files\")\n",
    "    \n",
    "    return channels\n",
    "\n",
    "# ⚠️ UPDATE THIS PATH TO YOUR ACTUAL CHANNEL DIRECTORY! ⚠️\n",
    "base_path = \"/Users/itay/Documents/post_mix_data/pre_mix_channels/combined_inst/\"\n",
    "\n",
    "print(\"📁 IMPORTANT: Update the base_path above with your actual directory!\")\n",
    "print(\"   Expected structure: your_directory/drums/kick.wav, your_directory/vocals/lead.wav, etc.\")\n",
    "print()\n",
    "\n",
    "channels = load_from_folder_structure(base_path)\n",
    "\n",
    "# Display loaded channels\n",
    "def display_channels(channels):\n",
    "    print(\"📁 Loaded Channels:\")\n",
    "    total = 0\n",
    "    for category, tracks in channels.items():\n",
    "        if tracks:\n",
    "            print(f\"\\n  {category.upper()}:\")\n",
    "            for name, path in tracks.items():\n",
    "                print(f\"    • {name}: {os.path.basename(path)}\")\n",
    "                total += 1\n",
    "    \n",
    "    if total == 0:\n",
    "        print(\"\\n❌ NO CHANNELS LOADED!\")\n",
    "        print(\"\\n🛠️ To fix this:\")\n",
    "        print(\"   1. Update the base_path variable above with your actual directory\")\n",
    "        print(\"   2. Make sure your audio files are organized like:\")\n",
    "        print(\"      your_directory/drums/kick.wav\")\n",
    "        print(\"      your_directory/bass/bass.wav\")  \n",
    "        print(\"      your_directory/vocals/lead.wav\")\n",
    "        print(\"   3. Re-run this cell\")\n",
    "        print(\"\\n⚠️ Without channels, the mixer will create empty/silent files!\")\n",
    "    else:\n",
    "        print(f\"\\n✅ Ready to mix {total} channels!\")\n",
    "    \n",
    "    return total\n",
    "\n",
    "total_channels = display_channels(channels)\n",
    "\n",
    "# Safety check\n",
    "if total_channels == 0:\n",
    "    print(\"\\n🛑 STOP: No channels loaded - please fix the path before continuing!\")"
   ],
   "outputs": [
    {
     "name": "stdout",
     "output_type": "stream",
     "text": [
      "📁 IMPORTANT: Update the base_path above with your actual directory!\n",
      "   Expected structure: your_directory/drums/kick.wav, your_directory/vocals/lead.wav, etc.\n",
      "\n",
      "🔍 Looking for channels in: /Users/itay/Documents/post_mix_data/pre_mix_channels/combined_inst/\n",
      "  ✅ Found drums/ with 5 files\n",
      "  ✅ Found bass/ with 5 files\n",
      "  ✅ Found guitars/ with 6 files\n",
      "  ✅ Found keys/ with 4 files\n",
      "  ✅ Found vocals/ with 3 files\n",
      "  ✅ Found backvocals/ with 5 files\n",
      "  ✅ Found synths/ with 3 files\n",
      "  ⚠️ Found fx/ but no .wav files\n",
      "📁 Loaded Channels:\n",
      "\n",
      "  DRUMS:\n",
      "    • tom: tom.wav\n",
      "    • hihat: hihat.wav\n",
      "    • kick: kick.wav\n",
      "    • snare: snare.wav\n",
      "    • cymbal: cymbal.wav\n",
      "\n",
      "  BASS:\n",
      "    • bass_guitar5: bass_guitar5.wav\n",
      "    • bass1: bass1.wav\n",
      "    • bass_guitar3: bass_guitar3.wav\n",
      "    • bass_synth2: bass_synth2.wav\n",
      "    • bass_synth4: bass_synth4.wav\n",
      "\n",
      "  GUITARS:\n",
      "    • electric_guitar4: electric_guitar4.wav\n",
      "    • electric_guitar5: electric_guitar5.wav\n",
      "    • electric_guitar6: electric_guitar6.wav\n",
      "    • electric_guitar2: electric_guitar2.wav\n",
      "    • acoustic_guitar1: acoustic_guitar1.wav\n",
      "    • electric_guitar3: electric_guitar3.wav\n",
      "\n",
      "  KEYS:\n",
      "    • bell3: bell3.wav\n",
      "    • clavinet1: clavinet1.wav\n",
      "    • piano4: piano4.wav\n",
      "    • piano2: piano2.wav\n",
      "\n",
      "  VOCALS:\n",
      "    • lead_vocal3: lead_vocal3.wav\n",
      "    • lead_vocal2: lead_vocal2.wav\n",
      "    • lead_vocal1: lead_vocal1.wav\n",
      "\n",
      "  BACKVOCALS:\n",
      "    • lead_vocal3: lead_vocal3.wav\n",
      "    • lead_vocal2: lead_vocal2.wav\n",
      "    • backing_vocal: backing_vocal.wav\n",
      "    • lead_vocal1: lead_vocal1.wav\n",
      "    • lead_vocal4: lead_vocal4.wav\n",
      "\n",
      "  SYNTHS:\n",
      "    • rythmic_synth1: rythmic_synth1.wav\n",
      "    • pad3: pad3.wav\n",
      "    • pad2: pad2.wav\n",
      "\n",
      "✅ Ready to mix 31 channels!\n"
     ]
    }
   ],
   "execution_count": 2
  },
  {
   "cell_type": "markdown",
   "metadata": {},
   "source": [
    "## 🎚️ Step 2: Choose Mix Template"
   ]
  },
  {
   "cell_type": "code",
   "metadata": {
    "ExecuteTime": {
     "end_time": "2025-08-28T22:18:14.552479Z",
     "start_time": "2025-08-28T22:18:14.549375Z"
    }
   },
   "source": [
    "# Select template\n",
    "selected_template = \"modern_pop\"  # Change this to your genre\n",
    "\n",
    "# Optional: Customize template parameters\n",
    "template_customization = {\n",
    "    \"brightness\": 0.7,      # 0-1 (dark to bright)\n",
    "    \"width\": 0.8,          # 0-1 (mono to wide)\n",
    "    \"aggression\": 0.8,     # 0-1 (gentle to aggressive)\n",
    "    \"vintage\": 0.3,        # 0-1 (modern to vintage)\n",
    "    \"dynamics\": 0.4,       # 0-1 (compressed to dynamic)\n",
    "    \"depth\": 0.7,          # 0-1 (flat to deep)\n",
    "}\n",
    "\n",
    "print(f\"🎛️ Selected Template: {selected_template}\")\n",
    "print(\"\\n📊 Template Characteristics:\")\n",
    "for param, value in template_customization.items():\n",
    "    bar = '█' * int(value * 10) + '░' * int((1-value) * 10)\n",
    "    print(f\"  {param:12} [{bar}] {value:.1%}\")"
   ],
   "outputs": [
    {
     "name": "stdout",
     "output_type": "stream",
     "text": [
      "🎛️ Selected Template: modern_pop\n",
      "\n",
      "📊 Template Characteristics:\n",
      "  brightness   [███████░░░] 70.0%\n",
      "  width        [████████░] 80.0%\n",
      "  aggression   [████████░] 80.0%\n",
      "  vintage      [███░░░░░░░] 30.0%\n",
      "  dynamics     [████░░░░░░] 40.0%\n",
      "  depth        [███████░░░] 70.0%\n"
     ]
    }
   ],
   "execution_count": 3
  },
  {
   "cell_type": "markdown",
   "metadata": {},
   "source": [
    "## 🎛️ Step 3: Configure Mix Settings"
   ]
  },
  {
   "cell_type": "code",
   "source": [
    "# 🎚️ MIX BALANCE PRESETS 🎚️\n",
    "# Choose a preset or create your own custom balance\n",
    "\n",
    "# Preset 1: Vocal-Forward (for singer-songwriter, pop vocals)\n",
    "vocal_forward = {\n",
    "    \"vocal_prominence\": 0.8,     # Prominent vocals\n",
    "    \"drum_punch\": 0.4,           # Subtle drums\n",
    "    \"bass_foundation\": 0.5,      # Balanced bass\n",
    "    \"instrument_presence\": 0.3,  # Background instruments\n",
    "}\n",
    "\n",
    "# Preset 2: Drum-Heavy (for rock, metal, energetic tracks)\n",
    "drum_heavy = {\n",
    "    \"vocal_prominence\": 0.5,     # Balanced vocals\n",
    "    \"drum_punch\": 0.9,           # Punchy, aggressive drums\n",
    "    \"bass_foundation\": 0.7,      # Strong foundation\n",
    "    \"instrument_presence\": 0.6,  # Present instruments\n",
    "}\n",
    "\n",
    "# Preset 3: Balanced Mix (neutral starting point)\n",
    "balanced = {\n",
    "    \"vocal_prominence\": 0.05,     # Balanced vocals\n",
    "    \"drum_punch\": 0.8,           # Balanced drums\n",
    "    \"bass_foundation\": 0.5,      # Balanced bass\n",
    "    \"instrument_presence\": 0.5,  # Balanced instruments\n",
    "}\n",
    "\n",
    "# Preset 4: Your Issue Fix (loud vocals, weak drums)\n",
    "fix_balance = {\n",
    "    \"vocal_prominence\": 0.01,     # 🎤 Reduce vocal dominance\n",
    "    \"drum_punch\": 0.99,           # 🥁 Increase drum punch\n",
    "    \"bass_foundation\": 0.6,      # 🎸 Solid foundation\n",
    "    \"instrument_presence\": 0.4,  # 🎹 Balanced instruments\n",
    "}\n",
    "\n",
    "# 🎯 CHOOSE YOUR BALANCE (uncomment one line)\n",
    "# selected_balance = vocal_forward\n",
    "# selected_balance = drum_heavy  \n",
    "# selected_balance = balanced\n",
    "selected_balance = fix_balance     # ← This should fix your vocals/drums issue\n",
    "\n",
    "# Or create your own custom balance:\n",
    "# selected_balance = {\n",
    "#     \"vocal_prominence\": 0.4,    # Adjust as needed (0.0 to 1.0)\n",
    "#     \"drum_punch\": 0.7,          # Adjust as needed (0.0 to 1.0)\n",
    "#     \"bass_foundation\": 0.6,     # Adjust as needed (0.0 to 1.0)\n",
    "#     \"instrument_presence\": 0.5, # Adjust as needed (0.0 to 1.0)\n",
    "# }\n",
    "\n",
    "print(\"🎚️ Selected Balance Profile:\")\n",
    "for param, value in selected_balance.items():\n",
    "    param_name = param.replace('_', ' ').title()\n",
    "    bar = '█' * int(value * 10) + '░' * int((1-value) * 10)\n",
    "    print(f\"  {param_name:18} [{bar}] {value:.1%}\")\n",
    "\n",
    "print(\"\\n💡 How it works:\")\n",
    "print(\"  • Vocal Prominence: Adjusts presence EQ, compression, reverb send\")\n",
    "print(\"  • Drum Punch: Enhances transients, compression attack, EQ punch frequencies\") \n",
    "print(\"  • Bass Foundation: Controls low-end EQ, compression, mud removal\")\n",
    "print(\"  • Instrument Presence: Manages clarity EQ, spatial positioning vs vocals\")"
   ],
   "metadata": {
    "ExecuteTime": {
     "end_time": "2025-08-28T22:18:14.573025Z",
     "start_time": "2025-08-28T22:18:14.567845Z"
    }
   },
   "outputs": [
    {
     "name": "stdout",
     "output_type": "stream",
     "text": [
      "🎚️ Selected Balance Profile:\n",
      "  Vocal Prominence   [░░░░░░░░░] 1.0%\n",
      "  Drum Punch         [█████████] 99.0%\n",
      "  Bass Foundation    [██████░░░░] 60.0%\n",
      "  Instrument Presence [████░░░░░░] 40.0%\n",
      "\n",
      "💡 How it works:\n",
      "  • Vocal Prominence: Adjusts presence EQ, compression, reverb send\n",
      "  • Drum Punch: Enhances transients, compression attack, EQ punch frequencies\n",
      "  • Bass Foundation: Controls low-end EQ, compression, mud removal\n",
      "  • Instrument Presence: Manages clarity EQ, spatial positioning vs vocals\n"
     ]
    }
   ],
   "execution_count": 4
  },
  {
   "cell_type": "markdown",
   "source": "# 🎚️ MIX BALANCE PRESETS 🎚️\n# Choose a preset or create your own custom balance\n\n# Preset 1: Vocal-Forward (for singer-songwriter, pop vocals)\nvocal_forward = {\n    \"vocal_prominence\": 0.8,     # Prominent vocals\n    \"drum_punch\": 0.4,           # Subtle drums\n    \"bass_foundation\": 0.5,      # Balanced bass\n    \"instrument_presence\": 0.3,  # Background instruments\n}\n\n# Preset 2: Drum-Heavy (for rock, metal, energetic tracks)\ndrum_heavy = {\n    \"vocal_prominence\": 0.5,     # Balanced vocals\n    \"drum_punch\": 0.75,          # Max safe drum punch (system caps at 0.75)\n    \"bass_foundation\": 0.7,      # Strong foundation\n    \"instrument_presence\": 0.6,  # Present instruments\n}\n\n# Preset 3: Balanced Mix (neutral starting point)\nbalanced = {\n    \"vocal_prominence\": 0.5,     # Balanced vocals\n    \"drum_punch\": 0.5,           # Balanced drums\n    \"bass_foundation\": 0.5,      # Balanced bass\n    \"instrument_presence\": 0.5,  # Balanced instruments\n}\n\n# Preset 4: Your Issue Fix - ANTI-CLIP VERSION\nfix_balance = {\n    \"vocal_prominence\": 0.3,     # 🎤 Reduce vocal dominance\n    \"drum_punch\": 0.65,          # 🥁 Moderate drum punch (safe level)\n    \"bass_foundation\": 0.6,      # 🎸 Solid foundation\n    \"instrument_presence\": 0.5,  # 🎹 Balanced instruments\n}\n\n# Preset 5: Ultra-Safe (if still clipping, try this)\nultra_safe = {\n    \"vocal_prominence\": 0.4,     # 🎤 Slightly reduce vocals\n    \"drum_punch\": 0.55,          # 🥁 Very conservative drum boost\n    \"bass_foundation\": 0.5,      # 🎸 Balanced foundation\n    \"instrument_presence\": 0.5,  # 🎹 Balanced instruments\n}\n\n# Preset 6: No Drum Boost (pure EQ/compression balance, no level changes)\nno_drum_boost = {\n    \"vocal_prominence\": 0.35,    # 🎤 Reduce vocals via EQ/compression only\n    \"drum_punch\": 0.5,           # 🥁 Neutral level, punch via EQ/compression only\n    \"bass_foundation\": 0.5,      # 🎸 Balanced\n    \"instrument_presence\": 0.5,  # 🎹 Balanced\n}\n\n# 🎯 CHOOSE YOUR BALANCE (uncomment one line)\n# selected_balance = vocal_forward\n# selected_balance = drum_heavy  \n# selected_balance = balanced\nselected_balance = fix_balance        # ← Anti-clip version (try this first)\n# selected_balance = ultra_safe       # ← If still clipping, try this\n# selected_balance = no_drum_boost    # ← If desperate - only EQ/compression, no gain\n\n# Or create your own custom balance:\n# selected_balance = {\n#     \"vocal_prominence\": 0.4,    # Adjust as needed (0.0 to 1.0)\n#     \"drum_punch\": 0.6,          # MAX 0.75 to prevent clipping!\n#     \"bass_foundation\": 0.6,     # Adjust as needed (0.0 to 1.0)\n#     \"instrument_presence\": 0.5, # Adjust as needed (0.0 to 1.0)\n# }\n\nprint(\"🎚️ Selected Balance Profile:\")\nfor param, value in selected_balance.items():\n    param_name = param.replace('_', ' ').title()\n    bar = '█' * int(value * 10) + '░' * int((1-value) * 10)\n    print(f\"  {param_name:18} [{bar}] {value:.1%}\")\n\nprint(\"\\n💡 How it works:\")\nprint(\"  • Vocal Prominence: Adjusts presence EQ, compression, reverb send\")\nprint(\"  • Drum Punch: Enhances transients, compression attack, EQ punch frequencies\") \nprint(\"  • Bass Foundation: Controls low-end EQ, compression, mud removal\")\nprint(\"  • Instrument Presence: Manages clarity EQ, spatial positioning vs vocals\")\n\nprint(\"\\n🛡️ Anti-Clipping Protection:\")\nprint(\"  • Drum punch automatically capped at 75% maximum\")\nprint(\"  • Ultra-conservative gain adjustments (max ±0.75dB)\")\nprint(\"  • Aggressive soft limiting kicks in at -3dBFS\")\nprint(\"  • Minimal EQ boosts (max +1dB) to prevent buildup\")\nprint(\"\\n  ⚠️ If STILL clipping, try 'ultra_safe' or 'no_drum_boost' presets\")",
   "metadata": {}
  },
  {
   "cell_type": "code",
   "source": "# 🎯 APPLY GUI BALANCE SETTINGS\n\n# Get the balance values from the GUI sliders\nif 'balance_gui' in locals():\n    # Get current slider values\n    gui_balance = balance_gui.get_balance_values()\n    \n    # Convert to the format expected by the mixing engine\n    selected_balance = {\n        \"channel_overrides\": gui_balance  # Direct channel-level control\n    }\n    \n    print(\"✅ Balance settings applied from GUI:\")\n    \n    # Show what was changed\n    changed_channels = {k: v for k, v in gui_balance.items() if abs(v - 1.0) > 0.01}\n    \n    if changed_channels:\n        print(f\"\\n🔧 Modified {len(changed_channels)} channels:\")\n        for channel_id, value in sorted(changed_channels.items()):\n            change_pct = (value - 1.0) * 100\n            direction = \"↑\" if change_pct > 0 else \"↓\"\n            print(f\"  {direction} {channel_id:40} = {value:.2f} ({change_pct:+.0f}%)\")\n    else:\n        print(\"  📊 All channels at neutral balance (1.0)\")\n        \n    print(f\"\\n💾 Python code for these settings:\")\n    print(balance_gui.get_python_code())\n    \nelse:\n    print(\"❌ GUI not found - please run the previous cell first\")\n    # Fallback to preset balance\n    selected_balance = {\n        \"vocal_prominence\": 0.3,\n        \"drum_punch\": 0.65, \n        \"bass_foundation\": 0.6,\n        \"instrument_presence\": 0.5,\n    }",
   "metadata": {
    "ExecuteTime": {
     "end_time": "2025-08-28T22:18:14.583254Z",
     "start_time": "2025-08-28T22:18:14.579595Z"
    }
   },
   "outputs": [
    {
     "name": "stdout",
     "output_type": "stream",
     "text": [
      "❌ GUI not found - please run the previous cell first\n"
     ]
    }
   ],
   "execution_count": 5
  },
  {
   "cell_type": "code",
   "source": "# 🎚️ MANUAL BALANCE CONTROL - BYPASSES BROKEN GUI\n\nprint(\"🎚️ MANUAL BALANCE CONTROL (BYPASSING BROKEN GUI)\")\nprint(\"=\" * 60)\n\n# Direct channel overrides - no GUI needed\nchannel_overrides = {\n    # DRUMS - Massive boost\n    'drums.kick': 4.0,      # 400% boost\n    'drums.snare': 4.0,     # 400% boost  \n    'drums.hihat': 3.0,     # 300% boost\n    'drums.tom': 3.0,       # 300% boost\n    'drums.cymbal': 3.0,    # 300% boost\n    \n    # VOCALS - Reduce the loud ones\n    'vocals.lead_vocal1': 0.4,  # 60% reduction\n    'vocals.lead_vocal2': 0.4,  # 60% reduction\n    'vocals.lead_vocal3': 0.4,  # 60% reduction\n    \n    # BASS - Slight boost\n    'bass.bass_guitar5': 1.5,   # 50% boost\n    'bass.bass1': 1.5,          # 50% boost\n}\n\n# Set the balance parameters\nselected_balance = {\n    \"vocal_prominence\": 0.2,    # Reduce vocals\n    \"drum_punch\": 0.7,          # Boost drums\n    \"bass_foundation\": 0.6,\n    \"instrument_presence\": 0.4,\n}\n\nprint(f\"✅ Manual overrides set: {len(channel_overrides)} channels\")\nprint(\"\\n📊 DRUM BOOSTS:\")\nfor ch, val in channel_overrides.items():\n    if 'drums.' in ch:\n        boost_pct = (val - 1.0) * 100\n        print(f\"  ↑ {ch}: {val} ({boost_pct:+.0f}%)\")\n\nprint(\"\\n📊 VOCAL REDUCTIONS:\")\nfor ch, val in channel_overrides.items():\n    if 'vocals.' in ch:\n        change_pct = (val - 1.0) * 100\n        print(f\"  ↓ {ch}: {val} ({change_pct:+.0f}%)\")\n\nprint(\"\\n✅ Manual balance control ready!\")\nprint(\"🎯 This bypasses the broken GUI completely\")\nprint(\"\\n🎯 Ready for mixing! Both 'selected_balance' and 'channel_overrides' are set!\")",
   "metadata": {
    "ExecuteTime": {
     "end_time": "2025-08-28T22:18:14.599692Z",
     "start_time": "2025-08-28T22:18:14.595063Z"
    }
   },
   "outputs": [
    {
     "name": "stdout",
     "output_type": "stream",
     "text": [
      "🎚️ MANUAL BALANCE CONTROL (BYPASSING BROKEN GUI)\n",
      "============================================================\n",
      "✅ Manual overrides set: 10 channels\n",
      "\n",
      "📊 DRUM BOOSTS:\n",
      "  ↑ drums.kick: 4.0 (+300%)\n",
      "  ↑ drums.snare: 4.0 (+300%)\n",
      "  ↑ drums.hihat: 3.0 (+200%)\n",
      "  ↑ drums.tom: 3.0 (+200%)\n",
      "  ↑ drums.cymbal: 3.0 (+200%)\n",
      "\n",
      "📊 VOCAL REDUCTIONS:\n",
      "  ↓ vocals.lead_vocal1: 0.4 (-60%)\n",
      "  ↓ vocals.lead_vocal2: 0.4 (-60%)\n",
      "  ↓ vocals.lead_vocal3: 0.4 (-60%)\n",
      "\n",
      "✅ Manual balance control ready!\n",
      "🎯 This bypasses the broken GUI completely\n",
      "\n",
      "🎯 Ready for mixing! Both 'selected_balance' and 'channel_overrides' are set!\n"
     ]
    }
   ],
   "execution_count": 6
  },
  {
   "cell_type": "markdown",
   "source": "## 🎚️ Step 2.6: Interactive Balance Control\n\nUse GUI sliders to adjust balance with both group controls and individual channel precision.",
   "metadata": {}
  },
  {
   "cell_type": "code",
   "metadata": {
    "ExecuteTime": {
     "end_time": "2025-08-28T22:18:18.093616Z",
     "start_time": "2025-08-28T22:18:14.621636Z"
    }
   },
   "source": "# Check if we have channels before proceeding\nif not channels or sum(len(tracks) for tracks in channels.values()) == 0:\n    print(\"❌ Cannot proceed - no channels loaded!\")\n    print(\"📝 Please go back to Step 1 and update your channel directory path.\")\nelse:\n    # Initialize mixing session\n    session = MixingSession(\n        channels=channels,\n        template=selected_template,\n        template_params=template_customization,\n        sample_rate=44100,\n        bit_depth=24\n    )\n    \n    # Configure mix settings with intelligent balance\n    mix_settings = {\n        \"buses\": {\n            \"drum_bus\": {\"channels\": [\"drums.*\"], \"compression\": 0.8, \"glue\": 0.4},\n            \"bass_bus\": {\"channels\": [\"bass.*\"], \"compression\": 0.8, \"saturation\": 0.2},\n            \"vocal_bus\": {\"channels\": [\"vocals.*\", \"backvocals.*\"], \"compression\": 0.3, \"presence\": 0.5},\n            \"instrument_bus\": {\"channels\": [\"guitars.*\", \"keys.*\", \"synths.*\"], \"width\": 0.7},\n        },\n        \"sends\": {},  # Simplified - no effects sends\n        \"master\": {\n            \"eq_mode\": \"gentle\",\n            \"compression\": 0.2,\n            \"limiter\": True,\n            \"target_lufs\": -14,\n        },\n        \"automation\": {\n            \"vocal_rides\": False,\n            \"drum_fills\": False,\n            \"outro_fade\": False,\n        },\n        \"mix_balance\": selected_balance  # 🎚️ Apply chosen balance profile\n    }\n    \n    # Add GUI channel overrides if they exist\n    if 'channel_overrides' in locals() and channel_overrides:\n        mix_settings[\"channel_overrides\"] = channel_overrides\n        print(f\"🎚️ GUI channel overrides will be applied to mixing engine!\")\n    \n    session.configure(mix_settings)\n    print(\"✅ Mix configured with intelligent balance controls\")",
   "outputs": [
    {
     "name": "stdout",
     "output_type": "stream",
     "text": [
      "📁 Loading audio channels...\n",
      "  ✓ Loaded: drums.tom\n",
      "  ✓ Loaded: drums.hihat\n",
      "  ✓ Loaded: drums.kick\n",
      "  ✓ Loaded: drums.snare\n",
      "  ✓ Loaded: drums.cymbal\n",
      "  ✓ Loaded: bass.bass_guitar5\n",
      "  ✓ Loaded: bass.bass1\n",
      "  ✓ Loaded: bass.bass_guitar3\n",
      "  ✓ Loaded: bass.bass_synth2\n",
      "  ✓ Loaded: bass.bass_synth4\n",
      "  ✓ Loaded: guitars.electric_guitar4\n",
      "  ✓ Loaded: guitars.electric_guitar5\n",
      "  ✓ Loaded: guitars.electric_guitar6\n",
      "  ✓ Loaded: guitars.electric_guitar2\n",
      "  ✓ Loaded: guitars.acoustic_guitar1\n",
      "  ✓ Loaded: guitars.electric_guitar3\n",
      "  ✓ Loaded: keys.bell3\n",
      "  ✓ Loaded: keys.clavinet1\n",
      "  ✓ Loaded: keys.piano4\n",
      "  ✓ Loaded: keys.piano2\n",
      "  ✓ Loaded: vocals.lead_vocal3\n",
      "  ✓ Loaded: vocals.lead_vocal2\n",
      "  ✓ Loaded: vocals.lead_vocal1\n",
      "  ✓ Loaded: backvocals.lead_vocal3\n",
      "  ✓ Loaded: backvocals.lead_vocal2\n",
      "  ✓ Loaded: backvocals.backing_vocal\n",
      "  ✓ Loaded: backvocals.lead_vocal1\n",
      "  ✓ Loaded: backvocals.lead_vocal4\n",
      "  ✓ Loaded: synths.rythmic_synth1\n",
      "  ✓ Loaded: synths.pad3\n",
      "  ✓ Loaded: synths.pad2\n",
      "🎚️ GUI channel overrides will be applied to mixing engine!\n",
      "🎚️ Applying intelligent mix balance...\n",
      "  • Vocal prominence: 20.0%\n",
      "  • Drum punch: 70.0%\n",
      "  • Bass foundation: 60.0%\n",
      "  • Instrument presence: 40.0%\n",
      "🎚️ Applying GUI channel overrides...\n",
      "  ↑ drums.kick: 4.00 (+300%)\n",
      "  ↑ drums.snare: 4.00 (+300%)\n",
      "  ↑ drums.hihat: 3.00 (+200%)\n",
      "  ↑ drums.tom: 3.00 (+200%)\n",
      "  ↑ drums.cymbal: 3.00 (+200%)\n",
      "  ↓ vocals.lead_vocal1: 0.40 (-60%)\n",
      "  ↓ vocals.lead_vocal2: 0.40 (-60%)\n",
      "  ↓ vocals.lead_vocal3: 0.40 (-60%)\n",
      "  ↑ bass.bass_guitar5: 1.50 (+50%)\n",
      "  ↑ bass.bass1: 1.50 (+50%)\n",
      "  ✅ Applied 10 channel overrides\n",
      "✅ Mix configured with intelligent balance controls\n"
     ]
    }
   ],
   "execution_count": 7
  },
  {
   "cell_type": "markdown",
   "metadata": {},
   "source": [
    "## 🎚️ Step 4: Process and Export Mix"
   ]
  },
  {
   "cell_type": "code",
   "metadata": {
    "ExecuteTime": {
     "end_time": "2025-08-28T22:18:22.310080Z",
     "start_time": "2025-08-28T22:18:18.137735Z"
    }
   },
   "source": "# Check if session was created successfully\nif 'session' not in locals():\n    print(\"❌ Cannot process mix - no session created!\")\n    print(\"📝 Please ensure channels are loaded in Step 1 and session is configured in Step 3.\")\nelse:\n    # Create output directory\n    timestamp = datetime.now().strftime(\"%Y%m%d_%H%M%S\")\n    output_dir = f\"/Users/itay/Documents/post_mix_data/mixing_sessions/session_{timestamp}\"\n    os.makedirs(output_dir, exist_ok=True)\n    \n    print(f\"📁 Output directory: {output_dir}\")\n    print(\"\\n🎛️ Processing mix...\\n\")\n    \n    # Process the mix - ONLY export full mix\n    try:\n        mix_results = session.process_mix(\n            output_dir=output_dir,\n            export_individual_channels=False,\n            export_buses=False,\n            export_stems=False,\n            export_full_mix=True,  # Only export the final mix\n            progress_callback=lambda msg: print(f\"  {msg}\")\n        )\n        \n        print(\"\\n✅ Mix processing complete!\")\n        print(\"\\n📊 Mix Results:\")\n        print(f\"  • Peak Level: {mix_results['peak_db']:.1f} dBFS\")\n        print(f\"  • RMS Level: {mix_results['rms_db']:.1f} dBFS\")\n        print(f\"  • LUFS: {mix_results['lufs']:.1f}\")\n        print(f\"  • Dynamic Range: {mix_results['dynamic_range']:.1f} dB\")\n        print(f\"  • Processing Time: {mix_results['time']:.1f} seconds\")\n        \n        # Find and display the exported mix file\n        mix_file = os.path.join(output_dir, \"full_mix.wav\")\n        if os.path.exists(mix_file):\n            size_mb = os.path.getsize(mix_file) / (1024 * 1024)\n            if size_mb > 0.01:  # At least 10KB\n                print(f\"\\n📁 Final Mix: {mix_file} ({size_mb:.1f} MB)\")\n                print(\"✅ Your mix is ready!\")\n            else:\n                print(f\"\\n⚠️ Mix file created but is very small ({size_mb:.3f} MB)\")\n                print(\"   This usually means no input channels were processed.\")\n        else:\n            print(\"\\n⚠️ Mix file not found\")\n            \n    except Exception as e:\n        print(f\"\\n❌ Error during mixing: {e}\")\n        import traceback\n        traceback.print_exc()",
   "outputs": [
    {
     "name": "stdout",
     "output_type": "stream",
     "text": [
      "📁 Output directory: /Users/itay/Documents/post_mix_data/mixing_sessions/session_20250829_011818\n",
      "\n",
      "🎛️ Processing mix...\n",
      "\n",
      "  Processing individual channels...\n",
      "  Processing drum_bus...\n",
      "⚠️ Applied clipping protection to tom (peak was 3.8dBFS, reduced to -3.7dBFS)\n",
      "⚠️ Applied clipping protection to hihat (peak was 6.1dBFS, reduced to -3.7dBFS)\n"
     ]
    },
    {
     "ename": "KeyboardInterrupt",
     "evalue": "",
     "output_type": "error",
     "traceback": [
      "\u001B[0;31m---------------------------------------------------------------------------\u001B[0m",
      "\u001B[0;31mKeyboardInterrupt\u001B[0m                         Traceback (most recent call last)",
      "Cell \u001B[0;32mIn[8], line 16\u001B[0m\n\u001B[1;32m     14\u001B[0m \u001B[38;5;66;03m# Process the mix - ONLY export full mix\u001B[39;00m\n\u001B[1;32m     15\u001B[0m \u001B[38;5;28;01mtry\u001B[39;00m:\n\u001B[0;32m---> 16\u001B[0m     mix_results \u001B[38;5;241m=\u001B[39m \u001B[43msession\u001B[49m\u001B[38;5;241;43m.\u001B[39;49m\u001B[43mprocess_mix\u001B[49m\u001B[43m(\u001B[49m\n\u001B[1;32m     17\u001B[0m \u001B[43m        \u001B[49m\u001B[43moutput_dir\u001B[49m\u001B[38;5;241;43m=\u001B[39;49m\u001B[43moutput_dir\u001B[49m\u001B[43m,\u001B[49m\n\u001B[1;32m     18\u001B[0m \u001B[43m        \u001B[49m\u001B[43mexport_individual_channels\u001B[49m\u001B[38;5;241;43m=\u001B[39;49m\u001B[38;5;28;43;01mFalse\u001B[39;49;00m\u001B[43m,\u001B[49m\n\u001B[1;32m     19\u001B[0m \u001B[43m        \u001B[49m\u001B[43mexport_buses\u001B[49m\u001B[38;5;241;43m=\u001B[39;49m\u001B[38;5;28;43;01mFalse\u001B[39;49;00m\u001B[43m,\u001B[49m\n\u001B[1;32m     20\u001B[0m \u001B[43m        \u001B[49m\u001B[43mexport_stems\u001B[49m\u001B[38;5;241;43m=\u001B[39;49m\u001B[38;5;28;43;01mFalse\u001B[39;49;00m\u001B[43m,\u001B[49m\n\u001B[1;32m     21\u001B[0m \u001B[43m        \u001B[49m\u001B[43mexport_full_mix\u001B[49m\u001B[38;5;241;43m=\u001B[39;49m\u001B[38;5;28;43;01mTrue\u001B[39;49;00m\u001B[43m,\u001B[49m\u001B[43m  \u001B[49m\u001B[38;5;66;43;03m# Only export the final mix\u001B[39;49;00m\n\u001B[1;32m     22\u001B[0m \u001B[43m        \u001B[49m\u001B[43mprogress_callback\u001B[49m\u001B[38;5;241;43m=\u001B[39;49m\u001B[38;5;28;43;01mlambda\u001B[39;49;00m\u001B[43m \u001B[49m\u001B[43mmsg\u001B[49m\u001B[43m:\u001B[49m\u001B[43m \u001B[49m\u001B[38;5;28;43mprint\u001B[39;49m\u001B[43m(\u001B[49m\u001B[38;5;124;43mf\u001B[39;49m\u001B[38;5;124;43m\"\u001B[39;49m\u001B[38;5;124;43m  \u001B[39;49m\u001B[38;5;132;43;01m{\u001B[39;49;00m\u001B[43mmsg\u001B[49m\u001B[38;5;132;43;01m}\u001B[39;49;00m\u001B[38;5;124;43m\"\u001B[39;49m\u001B[43m)\u001B[49m\n\u001B[1;32m     23\u001B[0m \u001B[43m    \u001B[49m\u001B[43m)\u001B[49m\n\u001B[1;32m     25\u001B[0m     \u001B[38;5;28mprint\u001B[39m(\u001B[38;5;124m\"\u001B[39m\u001B[38;5;130;01m\\n\u001B[39;00m\u001B[38;5;124m✅ Mix processing complete!\u001B[39m\u001B[38;5;124m\"\u001B[39m)\n\u001B[1;32m     26\u001B[0m     \u001B[38;5;28mprint\u001B[39m(\u001B[38;5;124m\"\u001B[39m\u001B[38;5;130;01m\\n\u001B[39;00m\u001B[38;5;124m📊 Mix Results:\u001B[39m\u001B[38;5;124m\"\u001B[39m)\n",
      "File \u001B[0;32m~/Documents/GitHub/post_mix_analysis/mixing_engine.py:648\u001B[0m, in \u001B[0;36mMixingSession.process_mix\u001B[0;34m(self, output_dir, export_individual_channels, export_buses, export_stems, export_full_mix, progress_callback)\u001B[0m\n\u001B[1;32m    646\u001B[0m     \u001B[38;5;28;01mif\u001B[39;00m progress_callback:\n\u001B[1;32m    647\u001B[0m         progress_callback(\u001B[38;5;124mf\u001B[39m\u001B[38;5;124m\"\u001B[39m\u001B[38;5;124mProcessing \u001B[39m\u001B[38;5;132;01m{\u001B[39;00mbus_name\u001B[38;5;132;01m}\u001B[39;00m\u001B[38;5;124m...\u001B[39m\u001B[38;5;124m\"\u001B[39m)\n\u001B[0;32m--> 648\u001B[0m     bus_outputs[bus_name] \u001B[38;5;241m=\u001B[39m \u001B[43mbus\u001B[49m\u001B[38;5;241;43m.\u001B[39;49m\u001B[43mprocess\u001B[49m\u001B[43m(\u001B[49m\u001B[43m)\u001B[49m\n\u001B[1;32m    650\u001B[0m \u001B[38;5;66;03m# Create stem outputs\u001B[39;00m\n\u001B[1;32m    651\u001B[0m stem_outputs \u001B[38;5;241m=\u001B[39m \u001B[38;5;28mself\u001B[39m\u001B[38;5;241m.\u001B[39m_create_stems(bus_outputs)\n",
      "File \u001B[0;32m~/Documents/GitHub/post_mix_analysis/mixing_engine.py:155\u001B[0m, in \u001B[0;36mMixBus.process\u001B[0;34m(self)\u001B[0m\n\u001B[1;32m    153\u001B[0m \u001B[38;5;28;01mfor\u001B[39;00m channel \u001B[38;5;129;01min\u001B[39;00m \u001B[38;5;28mself\u001B[39m\u001B[38;5;241m.\u001B[39mchannels:\n\u001B[1;32m    154\u001B[0m     \u001B[38;5;28;01mif\u001B[39;00m \u001B[38;5;129;01mnot\u001B[39;00m channel\u001B[38;5;241m.\u001B[39mmute:\n\u001B[0;32m--> 155\u001B[0m         channel_out \u001B[38;5;241m=\u001B[39m \u001B[43mchannel\u001B[49m\u001B[38;5;241;43m.\u001B[39;49m\u001B[43mprocess\u001B[49m\u001B[43m(\u001B[49m\u001B[43m)\u001B[49m\n\u001B[1;32m    156\u001B[0m         \u001B[38;5;28;01mif\u001B[39;00m bus_sum \u001B[38;5;129;01mis\u001B[39;00m \u001B[38;5;28;01mNone\u001B[39;00m:\n\u001B[1;32m    157\u001B[0m             bus_sum \u001B[38;5;241m=\u001B[39m channel_out\n",
      "File \u001B[0;32m~/Documents/GitHub/post_mix_analysis/mixing_engine.py:95\u001B[0m, in \u001B[0;36mChannelStrip.process\u001B[0;34m(self)\u001B[0m\n\u001B[1;32m     93\u001B[0m         q \u001B[38;5;241m=\u001B[39m params\u001B[38;5;241m.\u001B[39mget(\u001B[38;5;124m'\u001B[39m\u001B[38;5;124mq\u001B[39m\u001B[38;5;124m'\u001B[39m, \u001B[38;5;241m0.7\u001B[39m)\n\u001B[1;32m     94\u001B[0m         \u001B[38;5;28;01mif\u001B[39;00m gain_db \u001B[38;5;241m!=\u001B[39m \u001B[38;5;241m0\u001B[39m:\n\u001B[0;32m---> 95\u001B[0m             processed \u001B[38;5;241m=\u001B[39m \u001B[43mparametric_eq\u001B[49m\u001B[43m(\u001B[49m\u001B[43mprocessed\u001B[49m\u001B[43m,\u001B[49m\u001B[43m \u001B[49m\u001B[38;5;28;43mself\u001B[39;49m\u001B[38;5;241;43m.\u001B[39;49m\u001B[43msample_rate\u001B[49m\u001B[43m,\u001B[49m\u001B[43m \u001B[49m\n\u001B[1;32m     96\u001B[0m \u001B[43m                                    \u001B[49m\u001B[43mfreq\u001B[49m\u001B[43m,\u001B[49m\u001B[43m \u001B[49m\u001B[43mgain_db\u001B[49m\u001B[43m,\u001B[49m\u001B[43m \u001B[49m\u001B[43mq\u001B[49m\u001B[43m)\u001B[49m\n\u001B[1;32m     98\u001B[0m \u001B[38;5;66;03m# Compression\u001B[39;00m\n\u001B[1;32m     99\u001B[0m \u001B[38;5;28;01mif\u001B[39;00m \u001B[38;5;28mself\u001B[39m\u001B[38;5;241m.\u001B[39mcomp_enabled:\n",
      "File \u001B[0;32m~/Documents/GitHub/post_mix_analysis/dsp_premitives.py:192\u001B[0m, in \u001B[0;36mpeaking_eq\u001B[0;34m(audio, sr, f0, gain_db, Q)\u001B[0m\n\u001B[1;32m    190\u001B[0m x \u001B[38;5;241m=\u001B[39m _sanitize(audio)\n\u001B[1;32m    191\u001B[0m sos \u001B[38;5;241m=\u001B[39m _biquad_peaking_sos(sr, f0, gain_db, Q)\n\u001B[0;32m--> 192\u001B[0m \u001B[38;5;28;01mreturn\u001B[39;00m \u001B[43msignal\u001B[49m\u001B[38;5;241;43m.\u001B[39;49m\u001B[43msosfilt\u001B[49m\u001B[43m(\u001B[49m\u001B[43msos\u001B[49m\u001B[43m,\u001B[49m\u001B[43m \u001B[49m\u001B[43mx\u001B[49m\u001B[43m,\u001B[49m\u001B[43m \u001B[49m\u001B[43maxis\u001B[49m\u001B[38;5;241;43m=\u001B[39;49m\u001B[38;5;241;43m0\u001B[39;49m\u001B[43m \u001B[49m\u001B[38;5;28;43;01mif\u001B[39;49;00m\u001B[43m \u001B[49m\u001B[43mx\u001B[49m\u001B[38;5;241;43m.\u001B[39;49m\u001B[43mndim\u001B[49m\u001B[43m \u001B[49m\u001B[38;5;241;43m>\u001B[39;49m\u001B[43m \u001B[49m\u001B[38;5;241;43m1\u001B[39;49m\u001B[43m \u001B[49m\u001B[38;5;28;43;01melse\u001B[39;49;00m\u001B[43m \u001B[49m\u001B[38;5;241;43m0\u001B[39;49m\u001B[43m)\u001B[49m\u001B[38;5;241;43m.\u001B[39;49m\u001B[43mastype\u001B[49m\u001B[43m(\u001B[49m\u001B[43mnp\u001B[49m\u001B[38;5;241;43m.\u001B[39;49m\u001B[43mfloat32\u001B[49m\u001B[43m)\u001B[49m\n",
      "\u001B[0;31mKeyboardInterrupt\u001B[0m: "
     ]
    }
   ],
   "execution_count": 8
  },
  {
   "cell_type": "code",
   "source": "# 🔍 DEBUG: Check if drums are actually boosted after processing\nprint(\"🔍 DEBUGGING DRUM LEVELS AFTER PROCESSING\")\nprint(\"=\" * 50)\n\nif 'session' in locals():\n    print(\"📊 Checking individual channel gains after all processing:\")\n    for channel_id in [\"drums.kick\", \"drums.snare\", \"drums.hihat\", \"drums.tom\", \"drums.cymbal\"]:\n        if channel_id in session.channel_strips:\n            strip = session.channel_strips[channel_id]\n            print(f\"  {channel_id}: gain = {strip.gain:.3f}\")\n        else:\n            print(f\"  ❌ {channel_id} not found\")\n    \n    print(\"\\n📊 Checking bus levels:\")\n    if \"drum_bus\" in session.buses:\n        drum_bus = session.buses[\"drum_bus\"]\n        print(f\"  drum_bus: gain = {getattr(drum_bus, 'gain', 'N/A')}\")\n    \n    print(\"\\n🎛️ Testing individual drum channels (before bus processing):\")\n    # Let's process just the kick drum individually to see if it's loud\n    if \"drums.kick\" in session.channel_strips:\n        kick_strip = session.channel_strips[\"drums.kick\"]\n        print(f\"  Kick drum gain: {kick_strip.gain:.3f}\")\n        \n        # Check if kick has audio\n        kick_audio = kick_strip.audio\n        if kick_audio is not None and len(kick_audio) > 0:\n            import numpy as np\n            kick_peak = np.max(np.abs(kick_audio))\n            kick_rms = np.sqrt(np.mean(kick_audio**2))\n            print(f\"  Kick raw audio peak: {kick_peak:.3f}\")\n            print(f\"  Kick raw audio RMS: {kick_rms:.3f}\")\n            \n            # Apply gain and see what we get\n            boosted_audio = kick_audio * kick_strip.gain\n            boosted_peak = np.max(np.abs(boosted_audio))\n            boosted_rms = np.sqrt(np.mean(boosted_audio**2))\n            print(f\"  Kick after 2x boost - peak: {boosted_peak:.3f}, RMS: {boosted_rms:.3f}\")\n            \n            if boosted_peak > 0.1:\n                print(\"  ✅ Kick should be audible after boost\")\n            else:\n                print(\"  ❌ Kick still very quiet even after boost - source audio might be silent\")\n        else:\n            print(\"  ❌ Kick has no audio data\")\n    \nelse:\n    print(\"❌ No session found\")",
   "metadata": {},
   "outputs": [],
   "execution_count": null
  },
  {
   "cell_type": "code",
   "source": "# 🔍 MIXING ENGINE DIAGNOSTIC - WHY NO DRUM POWER & BAD MIX QUALITY\n\nprint(\"🔍 DIAGNOSING MIXING ENGINE PROBLEMS\")\nprint(\"=\" * 60)\nprint(\"Checking why drums have no power and mix sounds horrible...\")\n\nif 'session' in locals():\n    import numpy as np\n    \n    # 1. Check if GUI changes are actually applied\n    print(\"\\n1️⃣ GUI vs ENGINE COMPARISON:\")\n    if 'channel_overrides' in locals() and channel_overrides:\n        print(f\"   ✅ GUI provided {len(channel_overrides)} channel overrides\")\n        for ch, gui_val in list(channel_overrides.items())[:5]:\n            if ch in session.channel_strips:\n                engine_gain = session.channel_strips[ch].gain\n                match = \"✅\" if abs(gui_val - engine_gain) < 0.1 else \"❌\"\n                print(f\"   {match} {ch}: GUI={gui_val:.2f} vs Engine={engine_gain:.2f}\")\n            else:\n                print(f\"   ❌ {ch}: GUI={gui_val:.2f} vs Engine=NOT_FOUND\")\n    else:\n        print(\"   ❌ No GUI overrides found - sliders not working!\")\n    \n    # 2. Check bus compression effects (MAIN SUSPECT)\n    print(\"\\n2️⃣ BUS COMPRESSION ANALYSIS:\")\n    buses = session.mix_settings.get('buses', {})\n    for bus_name, bus_config in buses.items():\n        compression = bus_config.get('compression', 0)\n        if compression > 0.5:\n            print(f\"   ⚠️ {bus_name}: HEAVY compression = {compression} (may crush dynamics)\")\n        else:\n            print(f\"   ✅ {bus_name}: compression = {compression}\")\n    \n    # 3. Master processing check (SECOND SUSPECT)  \n    print(\"\\n3️⃣ MASTER PROCESSING:\")\n    master_config = session.mix_settings.get('master', {})\n    master_comp = master_config.get('compression', 0)\n    target_lufs = master_config.get('target_lufs', -14)\n    limiter = master_config.get('limiter', False)\n    \n    print(f\"   Master compression: {master_comp}\")\n    print(f\"   Target LUFS: {target_lufs} (louder = more crushing)\")\n    print(f\"   Limiter enabled: {limiter}\")\n    \n    if master_comp > 0.1:\n        print(\"   ⚠️ Master compression may be squashing everything\")\n    if target_lufs > -16:\n        print(\"   ⚠️ Target LUFS too loud - causes over-limiting\")\n    \n    # 4. Drum power analysis\n    print(\"\\n4️⃣ DRUM POWER ANALYSIS:\")\n    drum_channels = [ch for ch in session.channel_strips.keys() if 'drums.' in ch]\n    \n    total_drum_contribution = 0\n    for ch in drum_channels:\n        if ch in session.channel_strips:\n            strip = session.channel_strips[ch]\n            if strip.audio is not None:\n                boosted_peak = np.max(np.abs(strip.audio * strip.gain))\n                total_drum_contribution += boosted_peak\n                boost_db = 20 * np.log10(strip.gain) if strip.gain > 0 else -60\n                print(f\"   🥁 {ch}: gain={strip.gain:.2f} ({boost_db:+.1f}dB), peak={boosted_peak:.3f}\")\n    \n    print(f\"   📊 Total drum contribution: {total_drum_contribution:.3f}\")\n    \n    if total_drum_contribution < 0.5:\n        print(\"   ❌ DRUMS TOO QUIET - even after boosting!\")\n        print(\"      Problem likely: Bus compression crushing boosted drums\")\n    else:\n        print(\"   ✅ Drums should be loud enough\")\n    \n    # 5. Mix quality assessment\n    print(\"\\n5️⃣ MIX QUALITY PROBLEMS:\")\n    \n    problems = []\n    \n    # Check for over-processing\n    total_compression = sum(bus.get('compression', 0) for bus in buses.values()) + master_comp\n    if total_compression > 2.0:\n        problems.append(f\"Too much compression: {total_compression:.1f} total\")\n    \n    # Check for limiting issues\n    if target_lufs > -16 and limiter:\n        problems.append(f\"Over-limiting: {target_lufs}dB target with limiter\")\n    \n    # Check template settings\n    if 'template_customization' in globals():\n        aggression = template_customization.get('aggression', 0)\n        if aggression > 0.7:\n            problems.append(f\"Template too aggressive: {aggression}\")\n    \n    if problems:\n        for problem in problems:\n            print(f\"   ❌ {problem}\")\n    else:\n        print(\"   🤔 No obvious processing problems found\")\n    \n    # 6. SOLUTIONS\n    print(\"\\n6️⃣ IMMEDIATE SOLUTIONS TO TRY:\")\n    print(\"=\" * 40)\n    \n    print(\"\\n   🥁 FOR DRUM POWER:\")\n    print(\"      1. Reduce drum_bus compression: 0.8 → 0.2\")\n    print(\"      2. Increase drum gains in GUI to 3.0+\") \n    print(\"      3. OR disable drum bus entirely\")\n    \n    print(\"\\n   🎚️ FOR MIX QUALITY:\")\n    print(\"      1. Reduce master compression: 0.2 → 0.05\")\n    print(\"      2. Change target LUFS: -14 → -18\")\n    print(\"      3. Reduce ALL bus compression by 70%\")\n    print(\"      4. Set template aggression to 0.3 (from 0.8)\")\n\nelse:\n    print(\"❌ No session found\")",
   "metadata": {},
   "outputs": [],
   "execution_count": null
  },
  {
   "cell_type": "code",
   "source": "# 🔍 COMPREHENSIVE AUDIO QUALITY ANALYSIS - ALL 31 CHANNELS\n\nprint(\"🔍 COMPREHENSIVE SOURCE AUDIO ANALYSIS\")\nprint(\"=\" * 70)\nprint(\"Analyzing ALL 31 audio channels for quality issues...\")\n\nif 'session' in locals():\n    import numpy as np\n    \n    # Categories to organize results\n    categories = {}\n    problem_files = []\n    good_files = []\n    \n    print(\"\\nFormat: Channel Name → Peak | RMS | Status\")\n    print(\"-\" * 70)\n    \n    # Analyze all channels\n    for channel_id, strip in session.channel_strips.items():\n        category = channel_id.split('.')[0]\n        track_name = channel_id.split('.')[1]\n        \n        if category not in categories:\n            categories[category] = []\n        \n        # Analyze audio quality\n        if strip.audio is not None and len(strip.audio) > 0:\n            peak = np.max(np.abs(strip.audio))\n            rms = np.sqrt(np.mean(strip.audio**2))\n            \n            # Quality assessment\n            if peak > 0.7:\n                quality = \"✅ GOOD\"\n                good_files.append(channel_id)\n            elif peak > 0.3:\n                quality = \"⚠️ QUIET\"\n                problem_files.append({'channel': channel_id, 'peak': peak, 'issue': 'QUIET'})\n            elif peak > 0.1:\n                quality = \"❌ VERY QUIET\"\n                problem_files.append({'channel': channel_id, 'peak': peak, 'issue': 'VERY QUIET'})\n            else:\n                quality = \"🔇 NEARLY SILENT\"\n                problem_files.append({'channel': channel_id, 'peak': peak, 'issue': 'NEARLY SILENT'})\n            \n            categories[category].append({\n                'name': track_name,\n                'peak': peak,\n                'rms': rms,\n                'quality': quality,\n                'gain': strip.gain\n            })\n        else:\n            quality = \"💀 NO AUDIO\"\n            problem_files.append({'channel': channel_id, 'peak': 0, 'issue': 'NO AUDIO'})\n            categories[category].append({\n                'name': track_name,\n                'peak': 0,\n                'rms': 0,\n                'quality': quality,\n                'gain': strip.gain\n            })\n    \n    # Display by category\n    for category, tracks in categories.items():\n        print(f\"\\n📁 {category.upper()}:\")\n        for track in tracks:\n            peak_str = f\"{track['peak']:.3f}\"\n            rms_str = f\"{track['rms']:.3f}\" \n            gain_str = f\"gain:{track['gain']:.2f}\"\n            print(f\"  {track['name']:18} → {peak_str:>6} | {rms_str:>6} | {track['quality']} ({gain_str})\")\n    \n    # Summary Analysis\n    print(\"\\n\" + \"=\"*70)\n    print(\"📊 COMPREHENSIVE ANALYSIS SUMMARY\")\n    print(\"=\"*70)\n    \n    total_files = len(problem_files) + len(good_files)\n    problem_pct = (len(problem_files) / total_files * 100) if total_files > 0 else 0\n    \n    if problem_files:\n        print(f\"\\n❌ PROBLEM FILES ({len(problem_files)} of {total_files} channels = {problem_pct:.0f}%):\")\n        print(\"These files need level correction:\")\n        \n        # Group problems by severity\n        nearly_silent = [p for p in problem_files if p['peak'] < 0.05]\n        very_quiet = [p for p in problem_files if 0.05 <= p['peak'] < 0.1]\n        quiet = [p for p in problem_files if 0.1 <= p['peak'] < 0.3]\n        \n        if nearly_silent:\n            print(f\"\\n  🔇 NEARLY SILENT/EMPTY ({len(nearly_silent)} files):\")\n            for prob in sorted(nearly_silent, key=lambda x: x['peak']):\n                print(f\"    • {prob['channel']:35} (peak: {prob['peak']:.3f})\")\n        \n        if very_quiet:\n            print(f\"\\n  ❌ VERY QUIET ({len(very_quiet)} files):\")\n            for prob in sorted(very_quiet, key=lambda x: x['peak']):\n                print(f\"    • {prob['channel']:35} (peak: {prob['peak']:.3f})\")\n        \n        if quiet:\n            print(f\"\\n  ⚠️ QUIET ({len(quiet)} files):\")\n            for prob in sorted(quiet, key=lambda x: x['peak']):\n                print(f\"    • {prob['channel']:35} (peak: {prob['peak']:.3f})\")\n    \n    if good_files:\n        print(f\"\\n✅ GOOD FILES ({len(good_files)} channels):\")\n        print(\"These files have proper audio levels (peak > 0.7):\")\n        for good in sorted(good_files)[:8]:\n            print(f\"  • {good}\")\n        if len(good_files) > 8:\n            print(f\"  • ... and {len(good_files) - 8} more\")\n    \n    # Final recommendations\n    print(f\"\\n🎯 RECOMMENDATIONS FOR SOURCE MATERIAL:\")\n    if problem_pct > 50:\n        print(f\"  🚨 MAJOR ISSUE: {problem_pct:.0f}% of your source files are too quiet!\")\n        print(f\"  📋 Tell your source provider:\")\n        print(f\"     'Most audio files have very low levels (peaks under 0.3)'\")\n        print(f\"     'Please normalize all files to -6dB peak level'\") \n        print(f\"     'Files should have peaks between 0.7-0.9, not 0.05-0.3'\")\n    elif problem_pct > 25:\n        print(f\"  ⚠️ MODERATE ISSUE: {problem_pct:.0f}% of files need level correction\")\n        print(f\"  📋 Tell your source provider:\")\n        print(f\"     'Some audio files are too quiet - normalize to -6dB peak'\")\n    else:\n        print(f\"  ✅ GOOD: Most files ({100-problem_pct:.0f}%) have proper levels\")\n\nelse:\n    print(\"❌ No session found\")",
   "metadata": {},
   "outputs": [],
   "execution_count": null
  },
  {
   "cell_type": "markdown",
   "metadata": {},
   "source": [
    "## 💾 Optional: Save Session Data"
   ]
  },
  {
   "cell_type": "code",
   "metadata": {},
   "source": "# Save session information for reference  \nif 'session' in locals() and 'mix_results' in locals():\n    try:\n        # Convert numpy values to Python types for JSON serialization\n        def convert_for_json(obj):\n            if isinstance(obj, np.floating):\n                return float(obj)\n            elif isinstance(obj, np.integer):\n                return int(obj)\n            elif isinstance(obj, np.ndarray):\n                return obj.tolist()\n            return obj\n        \n        # Clean the results for JSON serialization\n        clean_results = {}\n        for key, value in mix_results.items():\n            clean_results[key] = convert_for_json(value)\n        \n        session_data = {\n            \"timestamp\": timestamp,\n            \"template\": selected_template,\n            \"template_params\": template_customization,\n            \"mix_settings\": mix_settings,\n            \"results\": clean_results,\n            \"output_file\": os.path.join(output_dir, \"full_mix.wav\"),\n            \"channels_processed\": len([c for cat in channels.values() for c in cat.keys()])\n        }\n        \n        session_file = os.path.join(output_dir, \"mix_session.json\")\n        with open(session_file, 'w') as f:\n            json.dump(session_data, f, indent=2)\n        \n        print(f\"💾 Session saved: {session_file}\")\n        print(\"\\n✅ Mix complete! Your final mix is ready.\")\n        \n    except Exception as e:\n        print(f\"⚠️ Could not save session data: {e}\")\nelse:\n    print(\"⚠️ No session or results to save - please run the mixing process first.\")",
   "outputs": [],
   "execution_count": null
  },
  {
   "cell_type": "markdown",
   "metadata": {},
   "source": [
    "## 📈 Optional: Export Stems Too\n",
    "\n",
    "Run this cell if you also want to export stems for further processing:"
   ]
  },
  {
   "cell_type": "code",
   "metadata": {},
   "source": "# Export stems for further processing (optional)\nif 'session' in locals():\n    try:\n        print(\"📤 Exporting stems...\")\n        \n        stem_export_config = {\n            \"format\": \"wav\",\n            \"bit_depth\": 24,\n            \"sample_rate\": 44100,\n            \"normalization\": \"peak\",\n            \"target_level\": -6.0,\n        }\n        \n        stem_mapping = {\n            \"drums\": [\"drum_bus\"],\n            \"bass\": [\"bass_bus\"],\n            \"vocals\": [\"vocal_bus\"],\n            \"music\": [\"instrument_bus\"],\n        }\n        \n        exported_stems = session.export_stems(\n            output_dir=os.path.join(output_dir, \"stems\"),\n            stem_mapping=stem_mapping,\n            config=stem_export_config\n        )\n        \n        print(\"✅ Stems exported:\")\n        for stem_name, stem_path in exported_stems.items():\n            if os.path.exists(stem_path):\n                size_mb = os.path.getsize(stem_path) / (1024 * 1024)\n                print(f\"  • {stem_name}: {os.path.basename(stem_path)} ({size_mb:.1f} MB)\")\n            else:\n                print(f\"  • {stem_name}: File not created\")\n                \n    except Exception as e:\n        print(f\"❌ Error exporting stems: {e}\")\n        import traceback\n        traceback.print_exc()\nelse:\n    print(\"⚠️ No session available - please run the mixing process first.\")",
   "outputs": [],
   "execution_count": null
  }
 ],
 "metadata": {
  "kernelspec": {
   "display_name": "Python 3",
   "language": "python",
   "name": "python3"
  },
  "language_info": {
   "codemirror_mode": {
    "name": "ipython",
    "version": 3
   },
   "file_extension": ".py",
   "mimetype": "text/x-python",
   "name": "python",
   "nbconvert_exporter": "python",
   "pygments_lexer": "ipython3",
   "version": "3.8.0"
  }
 },
 "nbformat": 4,
 "nbformat_minor": 4
}
